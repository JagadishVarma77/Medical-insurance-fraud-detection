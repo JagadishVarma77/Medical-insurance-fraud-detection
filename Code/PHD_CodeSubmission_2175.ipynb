{
 "cells": [
  {
   "cell_type": "markdown",
   "metadata": {},
   "source": [
    "### Importing Libraries"
   ]
  },
  {
   "cell_type": "code",
   "execution_count": 1,
   "metadata": {},
   "outputs": [],
   "source": [
    "import pandas as pd\n",
    "import numpy as np\n",
    "import matplotlib.pyplot as plt\n",
    "import seaborn as sns\n",
    "%matplotlib inline\n",
    "import warnings\n",
    "warnings.filterwarnings(\"ignore\")"
   ]
  },
  {
   "cell_type": "code",
   "execution_count": 2,
   "metadata": {},
   "outputs": [
    {
     "data": {
      "text/plain": [
       "'C:\\\\Users\\\\jagad\\\\OneDrive\\\\Documents\\\\Insofe\\\\PHD\\\\PHD -ML\\\\PHD Preprocessing'"
      ]
     },
     "execution_count": 2,
     "metadata": {},
     "output_type": "execute_result"
    }
   ],
   "source": [
    "import os\n",
    "os.getcwd()"
   ]
  },
  {
   "cell_type": "markdown",
   "metadata": {},
   "source": [
    "### Reading the  Train Datasets"
   ]
  },
  {
   "cell_type": "code",
   "execution_count": 3,
   "metadata": {},
   "outputs": [],
   "source": [
    "beneficiary_data = pd.read_csv(\"C:\\\\Users\\\\jagad\\\\OneDrive\\\\Documents\\\\Insofe\\\\PHD\\\\PHD -ML\\\\Train_Beneficiarydata-1542865627584.csv\")\n",
    "inpatient_data = pd.read_csv(\"C:\\\\Users\\\\jagad\\\\OneDrive\\\\Documents\\\\Insofe\\\\PHD\\\\PHD -ML\\\\Train_Inpatientdata-1542865627584.csv\")\n",
    "outpatient_data = pd.read_csv(\"C:\\\\Users\\\\jagad\\\\OneDrive\\\\Documents\\\\Insofe\\\\PHD\\\\PHD -ML\\\\Train_Outpatientdata-1542865627584.csv\")\n",
    "train_data = pd.read_csv(\"C:\\\\Users\\\\jagad\\\\OneDrive\\\\Documents\\\\Insofe\\\\PHD\\\\PHD -ML\\\\Train-1542865627584.csv\")"
   ]
  },
  {
   "cell_type": "markdown",
   "metadata": {},
   "source": [
    "### Visualizing the datasets"
   ]
  },
  {
   "cell_type": "code",
   "execution_count": 4,
   "metadata": {},
   "outputs": [
    {
     "data": {
      "text/html": [
       "<div>\n",
       "<style scoped>\n",
       "    .dataframe tbody tr th:only-of-type {\n",
       "        vertical-align: middle;\n",
       "    }\n",
       "\n",
       "    .dataframe tbody tr th {\n",
       "        vertical-align: top;\n",
       "    }\n",
       "\n",
       "    .dataframe thead th {\n",
       "        text-align: right;\n",
       "    }\n",
       "</style>\n",
       "<table border=\"1\" class=\"dataframe\">\n",
       "  <thead>\n",
       "    <tr style=\"text-align: right;\">\n",
       "      <th></th>\n",
       "      <th>BeneID</th>\n",
       "      <th>DOB</th>\n",
       "      <th>DOD</th>\n",
       "      <th>Gender</th>\n",
       "      <th>Race</th>\n",
       "      <th>RenalDiseaseIndicator</th>\n",
       "      <th>State</th>\n",
       "      <th>County</th>\n",
       "      <th>NoOfMonths_PartACov</th>\n",
       "      <th>NoOfMonths_PartBCov</th>\n",
       "      <th>...</th>\n",
       "      <th>ChronicCond_Depression</th>\n",
       "      <th>ChronicCond_Diabetes</th>\n",
       "      <th>ChronicCond_IschemicHeart</th>\n",
       "      <th>ChronicCond_Osteoporasis</th>\n",
       "      <th>ChronicCond_rheumatoidarthritis</th>\n",
       "      <th>ChronicCond_stroke</th>\n",
       "      <th>IPAnnualReimbursementAmt</th>\n",
       "      <th>IPAnnualDeductibleAmt</th>\n",
       "      <th>OPAnnualReimbursementAmt</th>\n",
       "      <th>OPAnnualDeductibleAmt</th>\n",
       "    </tr>\n",
       "  </thead>\n",
       "  <tbody>\n",
       "    <tr>\n",
       "      <th>0</th>\n",
       "      <td>BENE11001</td>\n",
       "      <td>1943-01-01</td>\n",
       "      <td>NaN</td>\n",
       "      <td>1</td>\n",
       "      <td>1</td>\n",
       "      <td>0</td>\n",
       "      <td>39</td>\n",
       "      <td>230</td>\n",
       "      <td>12</td>\n",
       "      <td>12</td>\n",
       "      <td>...</td>\n",
       "      <td>1</td>\n",
       "      <td>1</td>\n",
       "      <td>1</td>\n",
       "      <td>2</td>\n",
       "      <td>1</td>\n",
       "      <td>1</td>\n",
       "      <td>36000</td>\n",
       "      <td>3204</td>\n",
       "      <td>60</td>\n",
       "      <td>70</td>\n",
       "    </tr>\n",
       "    <tr>\n",
       "      <th>1</th>\n",
       "      <td>BENE11002</td>\n",
       "      <td>1936-09-01</td>\n",
       "      <td>NaN</td>\n",
       "      <td>2</td>\n",
       "      <td>1</td>\n",
       "      <td>0</td>\n",
       "      <td>39</td>\n",
       "      <td>280</td>\n",
       "      <td>12</td>\n",
       "      <td>12</td>\n",
       "      <td>...</td>\n",
       "      <td>2</td>\n",
       "      <td>2</td>\n",
       "      <td>2</td>\n",
       "      <td>2</td>\n",
       "      <td>2</td>\n",
       "      <td>2</td>\n",
       "      <td>0</td>\n",
       "      <td>0</td>\n",
       "      <td>30</td>\n",
       "      <td>50</td>\n",
       "    </tr>\n",
       "    <tr>\n",
       "      <th>2</th>\n",
       "      <td>BENE11003</td>\n",
       "      <td>1936-08-01</td>\n",
       "      <td>NaN</td>\n",
       "      <td>1</td>\n",
       "      <td>1</td>\n",
       "      <td>0</td>\n",
       "      <td>52</td>\n",
       "      <td>590</td>\n",
       "      <td>12</td>\n",
       "      <td>12</td>\n",
       "      <td>...</td>\n",
       "      <td>2</td>\n",
       "      <td>2</td>\n",
       "      <td>1</td>\n",
       "      <td>2</td>\n",
       "      <td>2</td>\n",
       "      <td>2</td>\n",
       "      <td>0</td>\n",
       "      <td>0</td>\n",
       "      <td>90</td>\n",
       "      <td>40</td>\n",
       "    </tr>\n",
       "    <tr>\n",
       "      <th>3</th>\n",
       "      <td>BENE11004</td>\n",
       "      <td>1922-07-01</td>\n",
       "      <td>NaN</td>\n",
       "      <td>1</td>\n",
       "      <td>1</td>\n",
       "      <td>0</td>\n",
       "      <td>39</td>\n",
       "      <td>270</td>\n",
       "      <td>12</td>\n",
       "      <td>12</td>\n",
       "      <td>...</td>\n",
       "      <td>2</td>\n",
       "      <td>1</td>\n",
       "      <td>1</td>\n",
       "      <td>1</td>\n",
       "      <td>1</td>\n",
       "      <td>2</td>\n",
       "      <td>0</td>\n",
       "      <td>0</td>\n",
       "      <td>1810</td>\n",
       "      <td>760</td>\n",
       "    </tr>\n",
       "    <tr>\n",
       "      <th>4</th>\n",
       "      <td>BENE11005</td>\n",
       "      <td>1935-09-01</td>\n",
       "      <td>NaN</td>\n",
       "      <td>1</td>\n",
       "      <td>1</td>\n",
       "      <td>0</td>\n",
       "      <td>24</td>\n",
       "      <td>680</td>\n",
       "      <td>12</td>\n",
       "      <td>12</td>\n",
       "      <td>...</td>\n",
       "      <td>2</td>\n",
       "      <td>1</td>\n",
       "      <td>2</td>\n",
       "      <td>2</td>\n",
       "      <td>2</td>\n",
       "      <td>2</td>\n",
       "      <td>0</td>\n",
       "      <td>0</td>\n",
       "      <td>1790</td>\n",
       "      <td>1200</td>\n",
       "    </tr>\n",
       "  </tbody>\n",
       "</table>\n",
       "<p>5 rows × 25 columns</p>\n",
       "</div>"
      ],
      "text/plain": [
       "      BeneID         DOB  DOD  Gender  Race RenalDiseaseIndicator  State  \\\n",
       "0  BENE11001  1943-01-01  NaN       1     1                     0     39   \n",
       "1  BENE11002  1936-09-01  NaN       2     1                     0     39   \n",
       "2  BENE11003  1936-08-01  NaN       1     1                     0     52   \n",
       "3  BENE11004  1922-07-01  NaN       1     1                     0     39   \n",
       "4  BENE11005  1935-09-01  NaN       1     1                     0     24   \n",
       "\n",
       "   County  NoOfMonths_PartACov  NoOfMonths_PartBCov          ...            \\\n",
       "0     230                   12                   12          ...             \n",
       "1     280                   12                   12          ...             \n",
       "2     590                   12                   12          ...             \n",
       "3     270                   12                   12          ...             \n",
       "4     680                   12                   12          ...             \n",
       "\n",
       "   ChronicCond_Depression  ChronicCond_Diabetes  ChronicCond_IschemicHeart  \\\n",
       "0                       1                     1                          1   \n",
       "1                       2                     2                          2   \n",
       "2                       2                     2                          1   \n",
       "3                       2                     1                          1   \n",
       "4                       2                     1                          2   \n",
       "\n",
       "   ChronicCond_Osteoporasis  ChronicCond_rheumatoidarthritis  \\\n",
       "0                         2                                1   \n",
       "1                         2                                2   \n",
       "2                         2                                2   \n",
       "3                         1                                1   \n",
       "4                         2                                2   \n",
       "\n",
       "   ChronicCond_stroke  IPAnnualReimbursementAmt  IPAnnualDeductibleAmt  \\\n",
       "0                   1                     36000                   3204   \n",
       "1                   2                         0                      0   \n",
       "2                   2                         0                      0   \n",
       "3                   2                         0                      0   \n",
       "4                   2                         0                      0   \n",
       "\n",
       "   OPAnnualReimbursementAmt  OPAnnualDeductibleAmt  \n",
       "0                        60                     70  \n",
       "1                        30                     50  \n",
       "2                        90                     40  \n",
       "3                      1810                    760  \n",
       "4                      1790                   1200  \n",
       "\n",
       "[5 rows x 25 columns]"
      ]
     },
     "execution_count": 4,
     "metadata": {},
     "output_type": "execute_result"
    }
   ],
   "source": [
    "beneficiary_data.head()"
   ]
  },
  {
   "cell_type": "code",
   "execution_count": 5,
   "metadata": {},
   "outputs": [
    {
     "data": {
      "text/html": [
       "<div>\n",
       "<style scoped>\n",
       "    .dataframe tbody tr th:only-of-type {\n",
       "        vertical-align: middle;\n",
       "    }\n",
       "\n",
       "    .dataframe tbody tr th {\n",
       "        vertical-align: top;\n",
       "    }\n",
       "\n",
       "    .dataframe thead th {\n",
       "        text-align: right;\n",
       "    }\n",
       "</style>\n",
       "<table border=\"1\" class=\"dataframe\">\n",
       "  <thead>\n",
       "    <tr style=\"text-align: right;\">\n",
       "      <th></th>\n",
       "      <th>BeneID</th>\n",
       "      <th>ClaimID</th>\n",
       "      <th>ClaimStartDt</th>\n",
       "      <th>ClaimEndDt</th>\n",
       "      <th>Provider</th>\n",
       "      <th>InscClaimAmtReimbursed</th>\n",
       "      <th>AttendingPhysician</th>\n",
       "      <th>OperatingPhysician</th>\n",
       "      <th>OtherPhysician</th>\n",
       "      <th>AdmissionDt</th>\n",
       "      <th>...</th>\n",
       "      <th>ClmDiagnosisCode_7</th>\n",
       "      <th>ClmDiagnosisCode_8</th>\n",
       "      <th>ClmDiagnosisCode_9</th>\n",
       "      <th>ClmDiagnosisCode_10</th>\n",
       "      <th>ClmProcedureCode_1</th>\n",
       "      <th>ClmProcedureCode_2</th>\n",
       "      <th>ClmProcedureCode_3</th>\n",
       "      <th>ClmProcedureCode_4</th>\n",
       "      <th>ClmProcedureCode_5</th>\n",
       "      <th>ClmProcedureCode_6</th>\n",
       "    </tr>\n",
       "  </thead>\n",
       "  <tbody>\n",
       "    <tr>\n",
       "      <th>25283</th>\n",
       "      <td>BENE103765</td>\n",
       "      <td>CLM46226</td>\n",
       "      <td>2009-04-09</td>\n",
       "      <td>2009-04-12</td>\n",
       "      <td>PRV52019</td>\n",
       "      <td>5000</td>\n",
       "      <td>PHY368469</td>\n",
       "      <td>PHY410563</td>\n",
       "      <td>PHY384587</td>\n",
       "      <td>2009-04-09</td>\n",
       "      <td>...</td>\n",
       "      <td>79092</td>\n",
       "      <td>2724</td>\n",
       "      <td>2800</td>\n",
       "      <td>NaN</td>\n",
       "      <td>4516.0</td>\n",
       "      <td>NaN</td>\n",
       "      <td>NaN</td>\n",
       "      <td>NaN</td>\n",
       "      <td>NaN</td>\n",
       "      <td>NaN</td>\n",
       "    </tr>\n",
       "    <tr>\n",
       "      <th>14530</th>\n",
       "      <td>BENE64535</td>\n",
       "      <td>CLM35702</td>\n",
       "      <td>2009-01-27</td>\n",
       "      <td>2009-02-04</td>\n",
       "      <td>PRV52065</td>\n",
       "      <td>38000</td>\n",
       "      <td>PHY349423</td>\n",
       "      <td>PHY366918</td>\n",
       "      <td>NaN</td>\n",
       "      <td>2009-01-27</td>\n",
       "      <td>...</td>\n",
       "      <td>V140</td>\n",
       "      <td>49121</td>\n",
       "      <td>42653</td>\n",
       "      <td>NaN</td>\n",
       "      <td>3794.0</td>\n",
       "      <td>4019.0</td>\n",
       "      <td>NaN</td>\n",
       "      <td>NaN</td>\n",
       "      <td>NaN</td>\n",
       "      <td>NaN</td>\n",
       "    </tr>\n",
       "    <tr>\n",
       "      <th>36604</th>\n",
       "      <td>BENE145294</td>\n",
       "      <td>CLM74556</td>\n",
       "      <td>2009-11-03</td>\n",
       "      <td>2009-11-04</td>\n",
       "      <td>PRV52064</td>\n",
       "      <td>2000</td>\n",
       "      <td>PHY379255</td>\n",
       "      <td>NaN</td>\n",
       "      <td>NaN</td>\n",
       "      <td>2009-11-03</td>\n",
       "      <td>...</td>\n",
       "      <td>NaN</td>\n",
       "      <td>NaN</td>\n",
       "      <td>NaN</td>\n",
       "      <td>NaN</td>\n",
       "      <td>NaN</td>\n",
       "      <td>NaN</td>\n",
       "      <td>NaN</td>\n",
       "      <td>NaN</td>\n",
       "      <td>NaN</td>\n",
       "      <td>NaN</td>\n",
       "    </tr>\n",
       "    <tr>\n",
       "      <th>19360</th>\n",
       "      <td>BENE81905</td>\n",
       "      <td>CLM53564</td>\n",
       "      <td>2009-05-31</td>\n",
       "      <td>2009-06-05</td>\n",
       "      <td>PRV53790</td>\n",
       "      <td>0</td>\n",
       "      <td>PHY315143</td>\n",
       "      <td>NaN</td>\n",
       "      <td>NaN</td>\n",
       "      <td>2009-05-31</td>\n",
       "      <td>...</td>\n",
       "      <td>NaN</td>\n",
       "      <td>NaN</td>\n",
       "      <td>NaN</td>\n",
       "      <td>NaN</td>\n",
       "      <td>NaN</td>\n",
       "      <td>NaN</td>\n",
       "      <td>NaN</td>\n",
       "      <td>NaN</td>\n",
       "      <td>NaN</td>\n",
       "      <td>NaN</td>\n",
       "    </tr>\n",
       "    <tr>\n",
       "      <th>14249</th>\n",
       "      <td>BENE63433</td>\n",
       "      <td>CLM55246</td>\n",
       "      <td>2009-06-12</td>\n",
       "      <td>2009-06-15</td>\n",
       "      <td>PRV56102</td>\n",
       "      <td>12000</td>\n",
       "      <td>PHY427024</td>\n",
       "      <td>PHY427165</td>\n",
       "      <td>NaN</td>\n",
       "      <td>2009-06-12</td>\n",
       "      <td>...</td>\n",
       "      <td>5853</td>\n",
       "      <td>V4573</td>\n",
       "      <td>4019</td>\n",
       "      <td>NaN</td>\n",
       "      <td>8151.0</td>\n",
       "      <td>NaN</td>\n",
       "      <td>NaN</td>\n",
       "      <td>NaN</td>\n",
       "      <td>NaN</td>\n",
       "      <td>NaN</td>\n",
       "    </tr>\n",
       "  </tbody>\n",
       "</table>\n",
       "<p>5 rows × 30 columns</p>\n",
       "</div>"
      ],
      "text/plain": [
       "           BeneID   ClaimID ClaimStartDt  ClaimEndDt  Provider  \\\n",
       "25283  BENE103765  CLM46226   2009-04-09  2009-04-12  PRV52019   \n",
       "14530   BENE64535  CLM35702   2009-01-27  2009-02-04  PRV52065   \n",
       "36604  BENE145294  CLM74556   2009-11-03  2009-11-04  PRV52064   \n",
       "19360   BENE81905  CLM53564   2009-05-31  2009-06-05  PRV53790   \n",
       "14249   BENE63433  CLM55246   2009-06-12  2009-06-15  PRV56102   \n",
       "\n",
       "       InscClaimAmtReimbursed AttendingPhysician OperatingPhysician  \\\n",
       "25283                    5000          PHY368469          PHY410563   \n",
       "14530                   38000          PHY349423          PHY366918   \n",
       "36604                    2000          PHY379255                NaN   \n",
       "19360                       0          PHY315143                NaN   \n",
       "14249                   12000          PHY427024          PHY427165   \n",
       "\n",
       "      OtherPhysician AdmissionDt        ...         ClmDiagnosisCode_7  \\\n",
       "25283      PHY384587  2009-04-09        ...                      79092   \n",
       "14530            NaN  2009-01-27        ...                       V140   \n",
       "36604            NaN  2009-11-03        ...                        NaN   \n",
       "19360            NaN  2009-05-31        ...                        NaN   \n",
       "14249            NaN  2009-06-12        ...                       5853   \n",
       "\n",
       "       ClmDiagnosisCode_8 ClmDiagnosisCode_9 ClmDiagnosisCode_10  \\\n",
       "25283                2724               2800                 NaN   \n",
       "14530               49121              42653                 NaN   \n",
       "36604                 NaN                NaN                 NaN   \n",
       "19360                 NaN                NaN                 NaN   \n",
       "14249               V4573               4019                 NaN   \n",
       "\n",
       "      ClmProcedureCode_1 ClmProcedureCode_2 ClmProcedureCode_3  \\\n",
       "25283             4516.0                NaN                NaN   \n",
       "14530             3794.0             4019.0                NaN   \n",
       "36604                NaN                NaN                NaN   \n",
       "19360                NaN                NaN                NaN   \n",
       "14249             8151.0                NaN                NaN   \n",
       "\n",
       "      ClmProcedureCode_4 ClmProcedureCode_5 ClmProcedureCode_6  \n",
       "25283                NaN                NaN                NaN  \n",
       "14530                NaN                NaN                NaN  \n",
       "36604                NaN                NaN                NaN  \n",
       "19360                NaN                NaN                NaN  \n",
       "14249                NaN                NaN                NaN  \n",
       "\n",
       "[5 rows x 30 columns]"
      ]
     },
     "execution_count": 5,
     "metadata": {},
     "output_type": "execute_result"
    }
   ],
   "source": [
    "inpatient_data.sample(5)"
   ]
  },
  {
   "cell_type": "code",
   "execution_count": 6,
   "metadata": {},
   "outputs": [
    {
     "data": {
      "text/html": [
       "<div>\n",
       "<style scoped>\n",
       "    .dataframe tbody tr th:only-of-type {\n",
       "        vertical-align: middle;\n",
       "    }\n",
       "\n",
       "    .dataframe tbody tr th {\n",
       "        vertical-align: top;\n",
       "    }\n",
       "\n",
       "    .dataframe thead th {\n",
       "        text-align: right;\n",
       "    }\n",
       "</style>\n",
       "<table border=\"1\" class=\"dataframe\">\n",
       "  <thead>\n",
       "    <tr style=\"text-align: right;\">\n",
       "      <th></th>\n",
       "      <th>BeneID</th>\n",
       "      <th>ClaimID</th>\n",
       "      <th>ClaimStartDt</th>\n",
       "      <th>ClaimEndDt</th>\n",
       "      <th>Provider</th>\n",
       "      <th>InscClaimAmtReimbursed</th>\n",
       "      <th>AttendingPhysician</th>\n",
       "      <th>OperatingPhysician</th>\n",
       "      <th>OtherPhysician</th>\n",
       "      <th>ClmDiagnosisCode_1</th>\n",
       "      <th>...</th>\n",
       "      <th>ClmDiagnosisCode_9</th>\n",
       "      <th>ClmDiagnosisCode_10</th>\n",
       "      <th>ClmProcedureCode_1</th>\n",
       "      <th>ClmProcedureCode_2</th>\n",
       "      <th>ClmProcedureCode_3</th>\n",
       "      <th>ClmProcedureCode_4</th>\n",
       "      <th>ClmProcedureCode_5</th>\n",
       "      <th>ClmProcedureCode_6</th>\n",
       "      <th>DeductibleAmtPaid</th>\n",
       "      <th>ClmAdmitDiagnosisCode</th>\n",
       "    </tr>\n",
       "  </thead>\n",
       "  <tbody>\n",
       "    <tr>\n",
       "      <th>211764</th>\n",
       "      <td>BENE71816</td>\n",
       "      <td>CLM739956</td>\n",
       "      <td>2009-12-22</td>\n",
       "      <td>2009-12-22</td>\n",
       "      <td>PRV55185</td>\n",
       "      <td>30</td>\n",
       "      <td>PHY431014</td>\n",
       "      <td>NaN</td>\n",
       "      <td>NaN</td>\n",
       "      <td>71892</td>\n",
       "      <td>...</td>\n",
       "      <td>NaN</td>\n",
       "      <td>NaN</td>\n",
       "      <td>NaN</td>\n",
       "      <td>NaN</td>\n",
       "      <td>NaN</td>\n",
       "      <td>NaN</td>\n",
       "      <td>NaN</td>\n",
       "      <td>NaN</td>\n",
       "      <td>0</td>\n",
       "      <td>NaN</td>\n",
       "    </tr>\n",
       "    <tr>\n",
       "      <th>372140</th>\n",
       "      <td>BENE117586</td>\n",
       "      <td>CLM720286</td>\n",
       "      <td>2009-12-08</td>\n",
       "      <td>2009-12-08</td>\n",
       "      <td>PRV54668</td>\n",
       "      <td>10</td>\n",
       "      <td>PHY394440</td>\n",
       "      <td>NaN</td>\n",
       "      <td>PHY394440</td>\n",
       "      <td>34662</td>\n",
       "      <td>...</td>\n",
       "      <td>NaN</td>\n",
       "      <td>NaN</td>\n",
       "      <td>NaN</td>\n",
       "      <td>NaN</td>\n",
       "      <td>NaN</td>\n",
       "      <td>NaN</td>\n",
       "      <td>NaN</td>\n",
       "      <td>NaN</td>\n",
       "      <td>0</td>\n",
       "      <td>NaN</td>\n",
       "    </tr>\n",
       "    <tr>\n",
       "      <th>281789</th>\n",
       "      <td>BENE91819</td>\n",
       "      <td>CLM646580</td>\n",
       "      <td>2009-10-24</td>\n",
       "      <td>2009-10-24</td>\n",
       "      <td>PRV54966</td>\n",
       "      <td>200</td>\n",
       "      <td>PHY423244</td>\n",
       "      <td>NaN</td>\n",
       "      <td>PHY425443</td>\n",
       "      <td>7840</td>\n",
       "      <td>...</td>\n",
       "      <td>NaN</td>\n",
       "      <td>NaN</td>\n",
       "      <td>NaN</td>\n",
       "      <td>NaN</td>\n",
       "      <td>NaN</td>\n",
       "      <td>NaN</td>\n",
       "      <td>NaN</td>\n",
       "      <td>NaN</td>\n",
       "      <td>0</td>\n",
       "      <td>NaN</td>\n",
       "    </tr>\n",
       "    <tr>\n",
       "      <th>23065</th>\n",
       "      <td>BENE17543</td>\n",
       "      <td>CLM356747</td>\n",
       "      <td>2009-05-13</td>\n",
       "      <td>2009-05-13</td>\n",
       "      <td>PRV53887</td>\n",
       "      <td>200</td>\n",
       "      <td>PHY389434</td>\n",
       "      <td>NaN</td>\n",
       "      <td>NaN</td>\n",
       "      <td>591</td>\n",
       "      <td>...</td>\n",
       "      <td>NaN</td>\n",
       "      <td>NaN</td>\n",
       "      <td>NaN</td>\n",
       "      <td>NaN</td>\n",
       "      <td>NaN</td>\n",
       "      <td>NaN</td>\n",
       "      <td>NaN</td>\n",
       "      <td>NaN</td>\n",
       "      <td>0</td>\n",
       "      <td>NaN</td>\n",
       "    </tr>\n",
       "    <tr>\n",
       "      <th>24244</th>\n",
       "      <td>BENE17897</td>\n",
       "      <td>CLM165809</td>\n",
       "      <td>2009-01-30</td>\n",
       "      <td>2009-01-30</td>\n",
       "      <td>PRV57306</td>\n",
       "      <td>300</td>\n",
       "      <td>PHY317416</td>\n",
       "      <td>NaN</td>\n",
       "      <td>NaN</td>\n",
       "      <td>7212</td>\n",
       "      <td>...</td>\n",
       "      <td>NaN</td>\n",
       "      <td>NaN</td>\n",
       "      <td>NaN</td>\n",
       "      <td>NaN</td>\n",
       "      <td>NaN</td>\n",
       "      <td>NaN</td>\n",
       "      <td>NaN</td>\n",
       "      <td>NaN</td>\n",
       "      <td>30</td>\n",
       "      <td>NaN</td>\n",
       "    </tr>\n",
       "  </tbody>\n",
       "</table>\n",
       "<p>5 rows × 27 columns</p>\n",
       "</div>"
      ],
      "text/plain": [
       "            BeneID    ClaimID ClaimStartDt  ClaimEndDt  Provider  \\\n",
       "211764   BENE71816  CLM739956   2009-12-22  2009-12-22  PRV55185   \n",
       "372140  BENE117586  CLM720286   2009-12-08  2009-12-08  PRV54668   \n",
       "281789   BENE91819  CLM646580   2009-10-24  2009-10-24  PRV54966   \n",
       "23065    BENE17543  CLM356747   2009-05-13  2009-05-13  PRV53887   \n",
       "24244    BENE17897  CLM165809   2009-01-30  2009-01-30  PRV57306   \n",
       "\n",
       "        InscClaimAmtReimbursed AttendingPhysician OperatingPhysician  \\\n",
       "211764                      30          PHY431014                NaN   \n",
       "372140                      10          PHY394440                NaN   \n",
       "281789                     200          PHY423244                NaN   \n",
       "23065                      200          PHY389434                NaN   \n",
       "24244                      300          PHY317416                NaN   \n",
       "\n",
       "       OtherPhysician ClmDiagnosisCode_1          ...            \\\n",
       "211764            NaN              71892          ...             \n",
       "372140      PHY394440              34662          ...             \n",
       "281789      PHY425443               7840          ...             \n",
       "23065             NaN                591          ...             \n",
       "24244             NaN               7212          ...             \n",
       "\n",
       "       ClmDiagnosisCode_9 ClmDiagnosisCode_10 ClmProcedureCode_1  \\\n",
       "211764                NaN                 NaN                NaN   \n",
       "372140                NaN                 NaN                NaN   \n",
       "281789                NaN                 NaN                NaN   \n",
       "23065                 NaN                 NaN                NaN   \n",
       "24244                 NaN                 NaN                NaN   \n",
       "\n",
       "       ClmProcedureCode_2 ClmProcedureCode_3 ClmProcedureCode_4  \\\n",
       "211764                NaN                NaN                NaN   \n",
       "372140                NaN                NaN                NaN   \n",
       "281789                NaN                NaN                NaN   \n",
       "23065                 NaN                NaN                NaN   \n",
       "24244                 NaN                NaN                NaN   \n",
       "\n",
       "       ClmProcedureCode_5 ClmProcedureCode_6 DeductibleAmtPaid  \\\n",
       "211764                NaN                NaN                 0   \n",
       "372140                NaN                NaN                 0   \n",
       "281789                NaN                NaN                 0   \n",
       "23065                 NaN                NaN                 0   \n",
       "24244                 NaN                NaN                30   \n",
       "\n",
       "        ClmAdmitDiagnosisCode  \n",
       "211764                    NaN  \n",
       "372140                    NaN  \n",
       "281789                    NaN  \n",
       "23065                     NaN  \n",
       "24244                     NaN  \n",
       "\n",
       "[5 rows x 27 columns]"
      ]
     },
     "execution_count": 6,
     "metadata": {},
     "output_type": "execute_result"
    }
   ],
   "source": [
    "outpatient_data.sample(5)"
   ]
  },
  {
   "cell_type": "code",
   "execution_count": 7,
   "metadata": {},
   "outputs": [
    {
     "data": {
      "text/html": [
       "<div>\n",
       "<style scoped>\n",
       "    .dataframe tbody tr th:only-of-type {\n",
       "        vertical-align: middle;\n",
       "    }\n",
       "\n",
       "    .dataframe tbody tr th {\n",
       "        vertical-align: top;\n",
       "    }\n",
       "\n",
       "    .dataframe thead th {\n",
       "        text-align: right;\n",
       "    }\n",
       "</style>\n",
       "<table border=\"1\" class=\"dataframe\">\n",
       "  <thead>\n",
       "    <tr style=\"text-align: right;\">\n",
       "      <th></th>\n",
       "      <th>Provider</th>\n",
       "      <th>PotentialFraud</th>\n",
       "    </tr>\n",
       "  </thead>\n",
       "  <tbody>\n",
       "    <tr>\n",
       "      <th>4841</th>\n",
       "      <td>PRV57080</td>\n",
       "      <td>No</td>\n",
       "    </tr>\n",
       "    <tr>\n",
       "      <th>1124</th>\n",
       "      <td>PRV52404</td>\n",
       "      <td>No</td>\n",
       "    </tr>\n",
       "    <tr>\n",
       "      <th>1628</th>\n",
       "      <td>PRV53029</td>\n",
       "      <td>No</td>\n",
       "    </tr>\n",
       "    <tr>\n",
       "      <th>3515</th>\n",
       "      <td>PRV55412</td>\n",
       "      <td>No</td>\n",
       "    </tr>\n",
       "    <tr>\n",
       "      <th>563</th>\n",
       "      <td>PRV51707</td>\n",
       "      <td>No</td>\n",
       "    </tr>\n",
       "  </tbody>\n",
       "</table>\n",
       "</div>"
      ],
      "text/plain": [
       "      Provider PotentialFraud\n",
       "4841  PRV57080             No\n",
       "1124  PRV52404             No\n",
       "1628  PRV53029             No\n",
       "3515  PRV55412             No\n",
       "563   PRV51707             No"
      ]
     },
     "execution_count": 7,
     "metadata": {},
     "output_type": "execute_result"
    }
   ],
   "source": [
    "train_data.sample(5)"
   ]
  },
  {
   "cell_type": "code",
   "execution_count": 8,
   "metadata": {},
   "outputs": [
    {
     "data": {
      "text/plain": [
       "BeneID                             object\n",
       "DOB                                object\n",
       "DOD                                object\n",
       "Gender                              int64\n",
       "Race                                int64\n",
       "RenalDiseaseIndicator              object\n",
       "State                               int64\n",
       "County                              int64\n",
       "NoOfMonths_PartACov                 int64\n",
       "NoOfMonths_PartBCov                 int64\n",
       "ChronicCond_Alzheimer               int64\n",
       "ChronicCond_Heartfailure            int64\n",
       "ChronicCond_KidneyDisease           int64\n",
       "ChronicCond_Cancer                  int64\n",
       "ChronicCond_ObstrPulmonary          int64\n",
       "ChronicCond_Depression              int64\n",
       "ChronicCond_Diabetes                int64\n",
       "ChronicCond_IschemicHeart           int64\n",
       "ChronicCond_Osteoporasis            int64\n",
       "ChronicCond_rheumatoidarthritis     int64\n",
       "ChronicCond_stroke                  int64\n",
       "IPAnnualReimbursementAmt            int64\n",
       "IPAnnualDeductibleAmt               int64\n",
       "OPAnnualReimbursementAmt            int64\n",
       "OPAnnualDeductibleAmt               int64\n",
       "dtype: object"
      ]
     },
     "execution_count": 8,
     "metadata": {},
     "output_type": "execute_result"
    }
   ],
   "source": [
    "beneficiary_data.dtypes"
   ]
  },
  {
   "cell_type": "code",
   "execution_count": 9,
   "metadata": {},
   "outputs": [
    {
     "data": {
      "text/plain": [
       "BeneID                     object\n",
       "ClaimID                    object\n",
       "ClaimStartDt               object\n",
       "ClaimEndDt                 object\n",
       "Provider                   object\n",
       "InscClaimAmtReimbursed      int64\n",
       "AttendingPhysician         object\n",
       "OperatingPhysician         object\n",
       "OtherPhysician             object\n",
       "AdmissionDt                object\n",
       "ClmAdmitDiagnosisCode      object\n",
       "DeductibleAmtPaid         float64\n",
       "DischargeDt                object\n",
       "DiagnosisGroupCode         object\n",
       "ClmDiagnosisCode_1         object\n",
       "ClmDiagnosisCode_2         object\n",
       "ClmDiagnosisCode_3         object\n",
       "ClmDiagnosisCode_4         object\n",
       "ClmDiagnosisCode_5         object\n",
       "ClmDiagnosisCode_6         object\n",
       "ClmDiagnosisCode_7         object\n",
       "ClmDiagnosisCode_8         object\n",
       "ClmDiagnosisCode_9         object\n",
       "ClmDiagnosisCode_10        object\n",
       "ClmProcedureCode_1        float64\n",
       "ClmProcedureCode_2        float64\n",
       "ClmProcedureCode_3        float64\n",
       "ClmProcedureCode_4        float64\n",
       "ClmProcedureCode_5        float64\n",
       "ClmProcedureCode_6        float64\n",
       "dtype: object"
      ]
     },
     "execution_count": 9,
     "metadata": {},
     "output_type": "execute_result"
    }
   ],
   "source": [
    "inpatient_data.dtypes"
   ]
  },
  {
   "cell_type": "code",
   "execution_count": 10,
   "metadata": {},
   "outputs": [
    {
     "data": {
      "text/plain": [
       "BeneID                     object\n",
       "ClaimID                    object\n",
       "ClaimStartDt               object\n",
       "ClaimEndDt                 object\n",
       "Provider                   object\n",
       "InscClaimAmtReimbursed      int64\n",
       "AttendingPhysician         object\n",
       "OperatingPhysician         object\n",
       "OtherPhysician             object\n",
       "ClmDiagnosisCode_1         object\n",
       "ClmDiagnosisCode_2         object\n",
       "ClmDiagnosisCode_3         object\n",
       "ClmDiagnosisCode_4         object\n",
       "ClmDiagnosisCode_5         object\n",
       "ClmDiagnosisCode_6         object\n",
       "ClmDiagnosisCode_7         object\n",
       "ClmDiagnosisCode_8         object\n",
       "ClmDiagnosisCode_9         object\n",
       "ClmDiagnosisCode_10        object\n",
       "ClmProcedureCode_1        float64\n",
       "ClmProcedureCode_2        float64\n",
       "ClmProcedureCode_3        float64\n",
       "ClmProcedureCode_4        float64\n",
       "ClmProcedureCode_5        float64\n",
       "ClmProcedureCode_6        float64\n",
       "DeductibleAmtPaid           int64\n",
       "ClmAdmitDiagnosisCode      object\n",
       "dtype: object"
      ]
     },
     "execution_count": 10,
     "metadata": {},
     "output_type": "execute_result"
    }
   ],
   "source": [
    "outpatient_data.dtypes"
   ]
  },
  {
   "cell_type": "code",
   "execution_count": 11,
   "metadata": {},
   "outputs": [
    {
     "data": {
      "text/plain": [
       "Provider          object\n",
       "PotentialFraud    object\n",
       "dtype: object"
      ]
     },
     "execution_count": 11,
     "metadata": {},
     "output_type": "execute_result"
    }
   ],
   "source": [
    "train_data.dtypes"
   ]
  },
  {
   "cell_type": "code",
   "execution_count": 12,
   "metadata": {},
   "outputs": [
    {
     "name": "stdout",
     "output_type": "stream",
     "text": [
      "(40474, 30)\n",
      "(517737, 27)\n",
      "(5410, 2)\n",
      "(138556, 25)\n"
     ]
    }
   ],
   "source": [
    "print(inpatient_data.shape)\n",
    "print(outpatient_data.shape)\n",
    "print(train_data.shape)\n",
    "print(beneficiary_data.shape)"
   ]
  },
  {
   "cell_type": "markdown",
   "metadata": {},
   "source": [
    "### Merging Of Datasets"
   ]
  },
  {
   "cell_type": "code",
   "execution_count": 13,
   "metadata": {},
   "outputs": [],
   "source": [
    "mergeddata1 = inpatient_data.append(outpatient_data,ignore_index=False)"
   ]
  },
  {
   "cell_type": "code",
   "execution_count": 14,
   "metadata": {},
   "outputs": [
    {
     "data": {
      "text/plain": [
       "(558211, 30)"
      ]
     },
     "execution_count": 14,
     "metadata": {},
     "output_type": "execute_result"
    }
   ],
   "source": [
    "mergeddata1.shape"
   ]
  },
  {
   "cell_type": "code",
   "execution_count": 15,
   "metadata": {},
   "outputs": [],
   "source": [
    "mergeddata2=pd.merge(mergeddata1,beneficiary_data, how='left', on=['BeneID'])"
   ]
  },
  {
   "cell_type": "code",
   "execution_count": null,
   "metadata": {},
   "outputs": [],
   "source": []
  },
  {
   "cell_type": "code",
   "execution_count": 16,
   "metadata": {},
   "outputs": [
    {
     "data": {
      "text/plain": [
       "(558211, 54)"
      ]
     },
     "execution_count": 16,
     "metadata": {},
     "output_type": "execute_result"
    }
   ],
   "source": [
    "mergeddata2.shape"
   ]
  },
  {
   "cell_type": "code",
   "execution_count": 17,
   "metadata": {},
   "outputs": [],
   "source": [
    "finaltraindata=pd.merge(mergeddata2,train_data, how='inner',on=['Provider'])"
   ]
  },
  {
   "cell_type": "code",
   "execution_count": 18,
   "metadata": {},
   "outputs": [
    {
     "data": {
      "text/plain": [
       "(558211, 55)"
      ]
     },
     "execution_count": 18,
     "metadata": {},
     "output_type": "execute_result"
    }
   ],
   "source": [
    "finaltraindata.shape"
   ]
  },
  {
   "cell_type": "code",
   "execution_count": 19,
   "metadata": {},
   "outputs": [
    {
     "data": {
      "text/html": [
       "<div>\n",
       "<style scoped>\n",
       "    .dataframe tbody tr th:only-of-type {\n",
       "        vertical-align: middle;\n",
       "    }\n",
       "\n",
       "    .dataframe tbody tr th {\n",
       "        vertical-align: top;\n",
       "    }\n",
       "\n",
       "    .dataframe thead th {\n",
       "        text-align: right;\n",
       "    }\n",
       "</style>\n",
       "<table border=\"1\" class=\"dataframe\">\n",
       "  <thead>\n",
       "    <tr style=\"text-align: right;\">\n",
       "      <th></th>\n",
       "      <th>ClmProcedureCode_1</th>\n",
       "      <th>ClmProcedureCode_2</th>\n",
       "      <th>ClmProcedureCode_3</th>\n",
       "      <th>ClmProcedureCode_4</th>\n",
       "      <th>ClmProcedureCode_5</th>\n",
       "      <th>ClmProcedureCode_6</th>\n",
       "      <th>DeductibleAmtPaid</th>\n",
       "      <th>InscClaimAmtReimbursed</th>\n",
       "      <th>Gender</th>\n",
       "      <th>Race</th>\n",
       "      <th>...</th>\n",
       "      <th>ChronicCond_Depression</th>\n",
       "      <th>ChronicCond_Diabetes</th>\n",
       "      <th>ChronicCond_IschemicHeart</th>\n",
       "      <th>ChronicCond_Osteoporasis</th>\n",
       "      <th>ChronicCond_rheumatoidarthritis</th>\n",
       "      <th>ChronicCond_stroke</th>\n",
       "      <th>IPAnnualReimbursementAmt</th>\n",
       "      <th>IPAnnualDeductibleAmt</th>\n",
       "      <th>OPAnnualReimbursementAmt</th>\n",
       "      <th>OPAnnualDeductibleAmt</th>\n",
       "    </tr>\n",
       "  </thead>\n",
       "  <tbody>\n",
       "    <tr>\n",
       "      <th>count</th>\n",
       "      <td>23310.000000</td>\n",
       "      <td>5490.000000</td>\n",
       "      <td>969.000000</td>\n",
       "      <td>118.000000</td>\n",
       "      <td>9.000000</td>\n",
       "      <td>0.0</td>\n",
       "      <td>557312.000000</td>\n",
       "      <td>558211.000000</td>\n",
       "      <td>558211.000000</td>\n",
       "      <td>558211.000000</td>\n",
       "      <td>...</td>\n",
       "      <td>558211.000000</td>\n",
       "      <td>558211.000000</td>\n",
       "      <td>558211.000000</td>\n",
       "      <td>558211.000000</td>\n",
       "      <td>558211.000000</td>\n",
       "      <td>558211.000000</td>\n",
       "      <td>558211.000000</td>\n",
       "      <td>558211.000000</td>\n",
       "      <td>558211.000000</td>\n",
       "      <td>558211.000000</td>\n",
       "    </tr>\n",
       "    <tr>\n",
       "      <th>mean</th>\n",
       "      <td>5896.154612</td>\n",
       "      <td>4106.358106</td>\n",
       "      <td>4221.123839</td>\n",
       "      <td>4070.262712</td>\n",
       "      <td>5269.444444</td>\n",
       "      <td>NaN</td>\n",
       "      <td>78.421085</td>\n",
       "      <td>997.012133</td>\n",
       "      <td>1.578838</td>\n",
       "      <td>1.255011</td>\n",
       "      <td>...</td>\n",
       "      <td>1.565193</td>\n",
       "      <td>1.294605</td>\n",
       "      <td>1.240735</td>\n",
       "      <td>1.682353</td>\n",
       "      <td>1.688829</td>\n",
       "      <td>1.898280</td>\n",
       "      <td>5227.971466</td>\n",
       "      <td>568.756807</td>\n",
       "      <td>2278.225348</td>\n",
       "      <td>649.698745</td>\n",
       "    </tr>\n",
       "    <tr>\n",
       "      <th>std</th>\n",
       "      <td>3050.489933</td>\n",
       "      <td>2031.640878</td>\n",
       "      <td>2281.849885</td>\n",
       "      <td>2037.626990</td>\n",
       "      <td>2780.071632</td>\n",
       "      <td>NaN</td>\n",
       "      <td>274.016812</td>\n",
       "      <td>3821.534891</td>\n",
       "      <td>0.493746</td>\n",
       "      <td>0.717437</td>\n",
       "      <td>...</td>\n",
       "      <td>0.495732</td>\n",
       "      <td>0.455866</td>\n",
       "      <td>0.427530</td>\n",
       "      <td>0.465562</td>\n",
       "      <td>0.462973</td>\n",
       "      <td>0.302279</td>\n",
       "      <td>11786.274732</td>\n",
       "      <td>1179.172616</td>\n",
       "      <td>3881.846386</td>\n",
       "      <td>1002.020811</td>\n",
       "    </tr>\n",
       "    <tr>\n",
       "      <th>min</th>\n",
       "      <td>11.000000</td>\n",
       "      <td>42.000000</td>\n",
       "      <td>42.000000</td>\n",
       "      <td>42.000000</td>\n",
       "      <td>2724.000000</td>\n",
       "      <td>NaN</td>\n",
       "      <td>0.000000</td>\n",
       "      <td>0.000000</td>\n",
       "      <td>1.000000</td>\n",
       "      <td>1.000000</td>\n",
       "      <td>...</td>\n",
       "      <td>1.000000</td>\n",
       "      <td>1.000000</td>\n",
       "      <td>1.000000</td>\n",
       "      <td>1.000000</td>\n",
       "      <td>1.000000</td>\n",
       "      <td>1.000000</td>\n",
       "      <td>-8000.000000</td>\n",
       "      <td>0.000000</td>\n",
       "      <td>-70.000000</td>\n",
       "      <td>0.000000</td>\n",
       "    </tr>\n",
       "    <tr>\n",
       "      <th>25%</th>\n",
       "      <td>3848.000000</td>\n",
       "      <td>2724.000000</td>\n",
       "      <td>2724.000000</td>\n",
       "      <td>2754.250000</td>\n",
       "      <td>4139.000000</td>\n",
       "      <td>NaN</td>\n",
       "      <td>0.000000</td>\n",
       "      <td>40.000000</td>\n",
       "      <td>1.000000</td>\n",
       "      <td>1.000000</td>\n",
       "      <td>...</td>\n",
       "      <td>1.000000</td>\n",
       "      <td>1.000000</td>\n",
       "      <td>1.000000</td>\n",
       "      <td>1.000000</td>\n",
       "      <td>1.000000</td>\n",
       "      <td>2.000000</td>\n",
       "      <td>0.000000</td>\n",
       "      <td>0.000000</td>\n",
       "      <td>460.000000</td>\n",
       "      <td>120.000000</td>\n",
       "    </tr>\n",
       "    <tr>\n",
       "      <th>50%</th>\n",
       "      <td>5363.000000</td>\n",
       "      <td>4019.000000</td>\n",
       "      <td>4019.000000</td>\n",
       "      <td>4019.000000</td>\n",
       "      <td>4139.000000</td>\n",
       "      <td>NaN</td>\n",
       "      <td>0.000000</td>\n",
       "      <td>80.000000</td>\n",
       "      <td>2.000000</td>\n",
       "      <td>1.000000</td>\n",
       "      <td>...</td>\n",
       "      <td>2.000000</td>\n",
       "      <td>1.000000</td>\n",
       "      <td>1.000000</td>\n",
       "      <td>2.000000</td>\n",
       "      <td>2.000000</td>\n",
       "      <td>2.000000</td>\n",
       "      <td>0.000000</td>\n",
       "      <td>0.000000</td>\n",
       "      <td>1170.000000</td>\n",
       "      <td>340.000000</td>\n",
       "    </tr>\n",
       "    <tr>\n",
       "      <th>75%</th>\n",
       "      <td>8669.000000</td>\n",
       "      <td>4439.000000</td>\n",
       "      <td>5185.000000</td>\n",
       "      <td>4439.000000</td>\n",
       "      <td>5185.000000</td>\n",
       "      <td>NaN</td>\n",
       "      <td>0.000000</td>\n",
       "      <td>300.000000</td>\n",
       "      <td>2.000000</td>\n",
       "      <td>1.000000</td>\n",
       "      <td>...</td>\n",
       "      <td>2.000000</td>\n",
       "      <td>2.000000</td>\n",
       "      <td>1.000000</td>\n",
       "      <td>2.000000</td>\n",
       "      <td>2.000000</td>\n",
       "      <td>2.000000</td>\n",
       "      <td>6000.000000</td>\n",
       "      <td>1068.000000</td>\n",
       "      <td>2590.000000</td>\n",
       "      <td>790.000000</td>\n",
       "    </tr>\n",
       "    <tr>\n",
       "      <th>max</th>\n",
       "      <td>9999.000000</td>\n",
       "      <td>9999.000000</td>\n",
       "      <td>9999.000000</td>\n",
       "      <td>9986.000000</td>\n",
       "      <td>9982.000000</td>\n",
       "      <td>NaN</td>\n",
       "      <td>1068.000000</td>\n",
       "      <td>125000.000000</td>\n",
       "      <td>2.000000</td>\n",
       "      <td>5.000000</td>\n",
       "      <td>...</td>\n",
       "      <td>2.000000</td>\n",
       "      <td>2.000000</td>\n",
       "      <td>2.000000</td>\n",
       "      <td>2.000000</td>\n",
       "      <td>2.000000</td>\n",
       "      <td>2.000000</td>\n",
       "      <td>161470.000000</td>\n",
       "      <td>38272.000000</td>\n",
       "      <td>102960.000000</td>\n",
       "      <td>13840.000000</td>\n",
       "    </tr>\n",
       "  </tbody>\n",
       "</table>\n",
       "<p>8 rows × 29 columns</p>\n",
       "</div>"
      ],
      "text/plain": [
       "       ClmProcedureCode_1  ClmProcedureCode_2  ClmProcedureCode_3  \\\n",
       "count        23310.000000         5490.000000          969.000000   \n",
       "mean          5896.154612         4106.358106         4221.123839   \n",
       "std           3050.489933         2031.640878         2281.849885   \n",
       "min             11.000000           42.000000           42.000000   \n",
       "25%           3848.000000         2724.000000         2724.000000   \n",
       "50%           5363.000000         4019.000000         4019.000000   \n",
       "75%           8669.000000         4439.000000         5185.000000   \n",
       "max           9999.000000         9999.000000         9999.000000   \n",
       "\n",
       "       ClmProcedureCode_4  ClmProcedureCode_5  ClmProcedureCode_6  \\\n",
       "count          118.000000            9.000000                 0.0   \n",
       "mean          4070.262712         5269.444444                 NaN   \n",
       "std           2037.626990         2780.071632                 NaN   \n",
       "min             42.000000         2724.000000                 NaN   \n",
       "25%           2754.250000         4139.000000                 NaN   \n",
       "50%           4019.000000         4139.000000                 NaN   \n",
       "75%           4439.000000         5185.000000                 NaN   \n",
       "max           9986.000000         9982.000000                 NaN   \n",
       "\n",
       "       DeductibleAmtPaid  InscClaimAmtReimbursed         Gender  \\\n",
       "count      557312.000000           558211.000000  558211.000000   \n",
       "mean           78.421085              997.012133       1.578838   \n",
       "std           274.016812             3821.534891       0.493746   \n",
       "min             0.000000                0.000000       1.000000   \n",
       "25%             0.000000               40.000000       1.000000   \n",
       "50%             0.000000               80.000000       2.000000   \n",
       "75%             0.000000              300.000000       2.000000   \n",
       "max          1068.000000           125000.000000       2.000000   \n",
       "\n",
       "                Race          ...            ChronicCond_Depression  \\\n",
       "count  558211.000000          ...                     558211.000000   \n",
       "mean        1.255011          ...                          1.565193   \n",
       "std         0.717437          ...                          0.495732   \n",
       "min         1.000000          ...                          1.000000   \n",
       "25%         1.000000          ...                          1.000000   \n",
       "50%         1.000000          ...                          2.000000   \n",
       "75%         1.000000          ...                          2.000000   \n",
       "max         5.000000          ...                          2.000000   \n",
       "\n",
       "       ChronicCond_Diabetes  ChronicCond_IschemicHeart  \\\n",
       "count         558211.000000              558211.000000   \n",
       "mean               1.294605                   1.240735   \n",
       "std                0.455866                   0.427530   \n",
       "min                1.000000                   1.000000   \n",
       "25%                1.000000                   1.000000   \n",
       "50%                1.000000                   1.000000   \n",
       "75%                2.000000                   1.000000   \n",
       "max                2.000000                   2.000000   \n",
       "\n",
       "       ChronicCond_Osteoporasis  ChronicCond_rheumatoidarthritis  \\\n",
       "count             558211.000000                    558211.000000   \n",
       "mean                   1.682353                         1.688829   \n",
       "std                    0.465562                         0.462973   \n",
       "min                    1.000000                         1.000000   \n",
       "25%                    1.000000                         1.000000   \n",
       "50%                    2.000000                         2.000000   \n",
       "75%                    2.000000                         2.000000   \n",
       "max                    2.000000                         2.000000   \n",
       "\n",
       "       ChronicCond_stroke  IPAnnualReimbursementAmt  IPAnnualDeductibleAmt  \\\n",
       "count       558211.000000             558211.000000          558211.000000   \n",
       "mean             1.898280               5227.971466             568.756807   \n",
       "std              0.302279              11786.274732            1179.172616   \n",
       "min              1.000000              -8000.000000               0.000000   \n",
       "25%              2.000000                  0.000000               0.000000   \n",
       "50%              2.000000                  0.000000               0.000000   \n",
       "75%              2.000000               6000.000000            1068.000000   \n",
       "max              2.000000             161470.000000           38272.000000   \n",
       "\n",
       "       OPAnnualReimbursementAmt  OPAnnualDeductibleAmt  \n",
       "count             558211.000000          558211.000000  \n",
       "mean                2278.225348             649.698745  \n",
       "std                 3881.846386            1002.020811  \n",
       "min                  -70.000000               0.000000  \n",
       "25%                  460.000000             120.000000  \n",
       "50%                 1170.000000             340.000000  \n",
       "75%                 2590.000000             790.000000  \n",
       "max               102960.000000           13840.000000  \n",
       "\n",
       "[8 rows x 29 columns]"
      ]
     },
     "execution_count": 19,
     "metadata": {},
     "output_type": "execute_result"
    }
   ],
   "source": [
    "finaltraindata.describe()"
   ]
  },
  {
   "cell_type": "code",
   "execution_count": 20,
   "metadata": {},
   "outputs": [
    {
     "data": {
      "text/plain": [
       "AdmissionDt                         object\n",
       "AttendingPhysician                  object\n",
       "BeneID                              object\n",
       "ClaimEndDt                          object\n",
       "ClaimID                             object\n",
       "ClaimStartDt                        object\n",
       "ClmAdmitDiagnosisCode               object\n",
       "ClmDiagnosisCode_1                  object\n",
       "ClmDiagnosisCode_10                 object\n",
       "ClmDiagnosisCode_2                  object\n",
       "ClmDiagnosisCode_3                  object\n",
       "ClmDiagnosisCode_4                  object\n",
       "ClmDiagnosisCode_5                  object\n",
       "ClmDiagnosisCode_6                  object\n",
       "ClmDiagnosisCode_7                  object\n",
       "ClmDiagnosisCode_8                  object\n",
       "ClmDiagnosisCode_9                  object\n",
       "ClmProcedureCode_1                 float64\n",
       "ClmProcedureCode_2                 float64\n",
       "ClmProcedureCode_3                 float64\n",
       "ClmProcedureCode_4                 float64\n",
       "ClmProcedureCode_5                 float64\n",
       "ClmProcedureCode_6                 float64\n",
       "DeductibleAmtPaid                  float64\n",
       "DiagnosisGroupCode                  object\n",
       "DischargeDt                         object\n",
       "InscClaimAmtReimbursed               int64\n",
       "OperatingPhysician                  object\n",
       "OtherPhysician                      object\n",
       "Provider                            object\n",
       "DOB                                 object\n",
       "DOD                                 object\n",
       "Gender                               int64\n",
       "Race                                 int64\n",
       "RenalDiseaseIndicator               object\n",
       "State                                int64\n",
       "County                               int64\n",
       "NoOfMonths_PartACov                  int64\n",
       "NoOfMonths_PartBCov                  int64\n",
       "ChronicCond_Alzheimer                int64\n",
       "ChronicCond_Heartfailure             int64\n",
       "ChronicCond_KidneyDisease            int64\n",
       "ChronicCond_Cancer                   int64\n",
       "ChronicCond_ObstrPulmonary           int64\n",
       "ChronicCond_Depression               int64\n",
       "ChronicCond_Diabetes                 int64\n",
       "ChronicCond_IschemicHeart            int64\n",
       "ChronicCond_Osteoporasis             int64\n",
       "ChronicCond_rheumatoidarthritis      int64\n",
       "ChronicCond_stroke                   int64\n",
       "IPAnnualReimbursementAmt             int64\n",
       "IPAnnualDeductibleAmt                int64\n",
       "OPAnnualReimbursementAmt             int64\n",
       "OPAnnualDeductibleAmt                int64\n",
       "PotentialFraud                      object\n",
       "dtype: object"
      ]
     },
     "execution_count": 20,
     "metadata": {},
     "output_type": "execute_result"
    }
   ],
   "source": [
    "finaltraindata.dtypes"
   ]
  },
  {
   "cell_type": "markdown",
   "metadata": {},
   "source": [
    "### Feature Engineering"
   ]
  },
  {
   "cell_type": "markdown",
   "metadata": {},
   "source": [
    "#### Extracting No.Of ClaimDays"
   ]
  },
  {
   "cell_type": "code",
   "execution_count": 21,
   "metadata": {},
   "outputs": [],
   "source": [
    "from datetime import datetime\n",
    "date_format = \"%d/%m/%Y\"\n",
    "from datetime import date"
   ]
  },
  {
   "cell_type": "code",
   "execution_count": 22,
   "metadata": {},
   "outputs": [],
   "source": [
    "finaltraindata.ClaimStartDt = pd.to_datetime(finaltraindata.ClaimStartDt)\n",
    "finaltraindata.ClaimEndDt = pd.to_datetime(finaltraindata.ClaimEndDt)"
   ]
  },
  {
   "cell_type": "code",
   "execution_count": 23,
   "metadata": {},
   "outputs": [],
   "source": [
    "finaltraindata['No_of_claimdays']=finaltraindata['ClaimEndDt']-finaltraindata['ClaimStartDt']"
   ]
  },
  {
   "cell_type": "code",
   "execution_count": 24,
   "metadata": {},
   "outputs": [
    {
     "data": {
      "text/plain": [
       "0    6 days\n",
       "1   12 days\n",
       "2   18 days\n",
       "3    4 days\n",
       "4    4 days\n",
       "Name: No_of_claimdays, dtype: timedelta64[ns]"
      ]
     },
     "execution_count": 24,
     "metadata": {},
     "output_type": "execute_result"
    }
   ],
   "source": [
    "finaltraindata['No_of_claimdays'].head(5)"
   ]
  },
  {
   "cell_type": "markdown",
   "metadata": {},
   "source": [
    "#### Extracting Days in Hospital"
   ]
  },
  {
   "cell_type": "code",
   "execution_count": 25,
   "metadata": {},
   "outputs": [],
   "source": [
    "finaltraindata.AdmissionDt = pd.to_datetime(finaltraindata.AdmissionDt)\n",
    "finaltraindata.DischargeDt = pd.to_datetime(finaltraindata.DischargeDt)"
   ]
  },
  {
   "cell_type": "code",
   "execution_count": 26,
   "metadata": {},
   "outputs": [],
   "source": [
    "finaltraindata['Days_in_Hospital']=finaltraindata['DischargeDt']-finaltraindata['AdmissionDt']"
   ]
  },
  {
   "cell_type": "code",
   "execution_count": 27,
   "metadata": {},
   "outputs": [
    {
     "data": {
      "text/plain": [
       "0    6 days\n",
       "1   12 days\n",
       "2   18 days\n",
       "3    4 days\n",
       "4    4 days\n",
       "Name: Days_in_Hospital, dtype: timedelta64[ns]"
      ]
     },
     "execution_count": 27,
     "metadata": {},
     "output_type": "execute_result"
    }
   ],
   "source": [
    "finaltraindata['Days_in_Hospital'].head(5)"
   ]
  },
  {
   "cell_type": "code",
   "execution_count": 28,
   "metadata": {},
   "outputs": [
    {
     "data": {
      "text/plain": [
       "False"
      ]
     },
     "execution_count": 28,
     "metadata": {},
     "output_type": "execute_result"
    }
   ],
   "source": [
    "finaltraindata['Days_in_Hospital'].equals(finaltraindata['No_of_claimdays'])"
   ]
  },
  {
   "cell_type": "code",
   "execution_count": 29,
   "metadata": {},
   "outputs": [
    {
     "data": {
      "text/plain": [
       "474371   NaT\n",
       "143504   NaT\n",
       "544572   NaT\n",
       "256997   NaT\n",
       "556099   NaT\n",
       "Name: Days_in_Hospital, dtype: timedelta64[ns]"
      ]
     },
     "execution_count": 29,
     "metadata": {},
     "output_type": "execute_result"
    }
   ],
   "source": [
    "finaltraindata['Days_in_Hospital'].sample(5)"
   ]
  },
  {
   "cell_type": "code",
   "execution_count": 30,
   "metadata": {},
   "outputs": [
    {
     "data": {
      "text/plain": [
       "0         False\n",
       "1         False\n",
       "2         False\n",
       "3         False\n",
       "4         False\n",
       "5         False\n",
       "6         False\n",
       "7         False\n",
       "8         False\n",
       "9         False\n",
       "10        False\n",
       "11        False\n",
       "12        False\n",
       "13        False\n",
       "14        False\n",
       "15        False\n",
       "16        False\n",
       "17        False\n",
       "18        False\n",
       "19        False\n",
       "20        False\n",
       "21        False\n",
       "22        False\n",
       "23        False\n",
       "24        False\n",
       "25        False\n",
       "26        False\n",
       "27        False\n",
       "28        False\n",
       "29        False\n",
       "          ...  \n",
       "558181     True\n",
       "558182     True\n",
       "558183     True\n",
       "558184     True\n",
       "558185     True\n",
       "558186     True\n",
       "558187     True\n",
       "558188     True\n",
       "558189     True\n",
       "558190     True\n",
       "558191     True\n",
       "558192     True\n",
       "558193     True\n",
       "558194     True\n",
       "558195     True\n",
       "558196     True\n",
       "558197     True\n",
       "558198     True\n",
       "558199     True\n",
       "558200     True\n",
       "558201     True\n",
       "558202     True\n",
       "558203     True\n",
       "558204     True\n",
       "558205     True\n",
       "558206     True\n",
       "558207     True\n",
       "558208     True\n",
       "558209     True\n",
       "558210     True\n",
       "Name: Days_in_Hospital, Length: 558211, dtype: bool"
      ]
     },
     "execution_count": 30,
     "metadata": {},
     "output_type": "execute_result"
    }
   ],
   "source": [
    "finaltraindata['Days_in_Hospital'].isnull()"
   ]
  },
  {
   "cell_type": "code",
   "execution_count": 31,
   "metadata": {},
   "outputs": [
    {
     "data": {
      "text/plain": [
       "216222   0 days\n",
       "378314   0 days\n",
       "233600   0 days\n",
       "66998    2 days\n",
       "508924   0 days\n",
       "Name: No_of_claimdays, dtype: timedelta64[ns]"
      ]
     },
     "execution_count": 31,
     "metadata": {},
     "output_type": "execute_result"
    }
   ],
   "source": [
    "finaltraindata['No_of_claimdays'].sample(5)"
   ]
  },
  {
   "cell_type": "markdown",
   "metadata": {},
   "source": [
    "#### Extracting Age "
   ]
  },
  {
   "cell_type": "code",
   "execution_count": 32,
   "metadata": {},
   "outputs": [
    {
     "data": {
      "text/plain": [
       "0   1943-01-01\n",
       "1   1913-12-01\n",
       "2   1922-10-01\n",
       "3   1930-07-01\n",
       "4   1925-09-01\n",
       "Name: DOB, dtype: datetime64[ns]"
      ]
     },
     "execution_count": 32,
     "metadata": {},
     "output_type": "execute_result"
    }
   ],
   "source": [
    "finaltraindata.DOB = pd.to_datetime(finaltraindata.DOB)\n",
    "finaltraindata['DOB'].head(5)"
   ]
  },
  {
   "cell_type": "code",
   "execution_count": 33,
   "metadata": {},
   "outputs": [
    {
     "data": {
      "text/plain": [
       "4131"
      ]
     },
     "execution_count": 33,
     "metadata": {},
     "output_type": "execute_result"
    }
   ],
   "source": [
    "finaltraindata['DOD'].count()"
   ]
  },
  {
   "cell_type": "markdown",
   "metadata": {},
   "source": [
    "##### filling remaining values with a date to calculate age "
   ]
  },
  {
   "cell_type": "code",
   "execution_count": 34,
   "metadata": {},
   "outputs": [],
   "source": [
    "finaltraindata['DOD']=finaltraindata['DOD'].fillna('2009-12-31')"
   ]
  },
  {
   "cell_type": "code",
   "execution_count": 35,
   "metadata": {},
   "outputs": [],
   "source": [
    "finaltraindata['DOD'] = pd.to_datetime(finaltraindata.DOD)"
   ]
  },
  {
   "cell_type": "code",
   "execution_count": 36,
   "metadata": {},
   "outputs": [],
   "source": [
    "finaltraindata['Age'] = finaltraindata['DOD']-finaltraindata['DOB'] \n",
    "finaltraindata['Age'] = ((finaltraindata['DOD'] - finaltraindata['DOB'])/365).dt.days "
   ]
  },
  {
   "cell_type": "markdown",
   "metadata": {},
   "source": [
    "#### Removing the Columns after extracting the features from them"
   ]
  },
  {
   "cell_type": "code",
   "execution_count": 37,
   "metadata": {},
   "outputs": [],
   "source": [
    "finaltraindata=finaltraindata.drop(['ClaimStartDt','ClaimEndDt','AdmissionDt','DischargeDt','DOB','DOD'],axis=1)"
   ]
  },
  {
   "cell_type": "code",
   "execution_count": 38,
   "metadata": {},
   "outputs": [
    {
     "data": {
      "text/plain": [
       "AttendingPhysician                          object\n",
       "BeneID                                      object\n",
       "ClaimID                                     object\n",
       "ClmAdmitDiagnosisCode                       object\n",
       "ClmDiagnosisCode_1                          object\n",
       "ClmDiagnosisCode_10                         object\n",
       "ClmDiagnosisCode_2                          object\n",
       "ClmDiagnosisCode_3                          object\n",
       "ClmDiagnosisCode_4                          object\n",
       "ClmDiagnosisCode_5                          object\n",
       "ClmDiagnosisCode_6                          object\n",
       "ClmDiagnosisCode_7                          object\n",
       "ClmDiagnosisCode_8                          object\n",
       "ClmDiagnosisCode_9                          object\n",
       "ClmProcedureCode_1                         float64\n",
       "ClmProcedureCode_2                         float64\n",
       "ClmProcedureCode_3                         float64\n",
       "ClmProcedureCode_4                         float64\n",
       "ClmProcedureCode_5                         float64\n",
       "ClmProcedureCode_6                         float64\n",
       "DeductibleAmtPaid                          float64\n",
       "DiagnosisGroupCode                          object\n",
       "InscClaimAmtReimbursed                       int64\n",
       "OperatingPhysician                          object\n",
       "OtherPhysician                              object\n",
       "Provider                                    object\n",
       "Gender                                       int64\n",
       "Race                                         int64\n",
       "RenalDiseaseIndicator                       object\n",
       "State                                        int64\n",
       "County                                       int64\n",
       "NoOfMonths_PartACov                          int64\n",
       "NoOfMonths_PartBCov                          int64\n",
       "ChronicCond_Alzheimer                        int64\n",
       "ChronicCond_Heartfailure                     int64\n",
       "ChronicCond_KidneyDisease                    int64\n",
       "ChronicCond_Cancer                           int64\n",
       "ChronicCond_ObstrPulmonary                   int64\n",
       "ChronicCond_Depression                       int64\n",
       "ChronicCond_Diabetes                         int64\n",
       "ChronicCond_IschemicHeart                    int64\n",
       "ChronicCond_Osteoporasis                     int64\n",
       "ChronicCond_rheumatoidarthritis              int64\n",
       "ChronicCond_stroke                           int64\n",
       "IPAnnualReimbursementAmt                     int64\n",
       "IPAnnualDeductibleAmt                        int64\n",
       "OPAnnualReimbursementAmt                     int64\n",
       "OPAnnualDeductibleAmt                        int64\n",
       "PotentialFraud                              object\n",
       "No_of_claimdays                    timedelta64[ns]\n",
       "Days_in_Hospital                   timedelta64[ns]\n",
       "Age                                          int64\n",
       "dtype: object"
      ]
     },
     "execution_count": 38,
     "metadata": {},
     "output_type": "execute_result"
    }
   ],
   "source": [
    "finaltraindata.dtypes"
   ]
  },
  {
   "cell_type": "markdown",
   "metadata": {},
   "source": [
    "### Binning of Diagnostic Codes"
   ]
  },
  {
   "cell_type": "code",
   "execution_count": 39,
   "metadata": {},
   "outputs": [],
   "source": [
    "finaltraindata['DiagnosisGroupCode'].replace('OTH',173.4,inplace=True)\n",
    "finaltraindata['DiagnosisGroupCode'].replace(np.nan,0,inplace=True)"
   ]
  },
  {
   "cell_type": "code",
   "execution_count": 40,
   "metadata": {},
   "outputs": [],
   "source": [
    "finaltraindata['DiagnosisGroupCode']= finaltraindata['DiagnosisGroupCode'].astype('category')\n",
    "finaltraindata['DiagnosisGroupCode']= finaltraindata['DiagnosisGroupCode'].astype('int')"
   ]
  },
  {
   "cell_type": "code",
   "execution_count": 41,
   "metadata": {},
   "outputs": [],
   "source": [
    "bins = [0,139,239,279,289,319,389,459,519,579,629,679,709,739,759,779,799,999]\n",
    "labels = [1,2,3,4,5,6,7,8,9,10,11,12,13,14,15,16,17]\n",
    "finaltraindata['BinnedDiagnosisGroupCode'] = pd.cut(finaltraindata['DiagnosisGroupCode'], bins=bins, labels=labels)"
   ]
  },
  {
   "cell_type": "code",
   "execution_count": 42,
   "metadata": {},
   "outputs": [
    {
     "data": {
      "text/plain": [
       "0.9277334198000398"
      ]
     },
     "execution_count": 42,
     "metadata": {},
     "output_type": "execute_result"
    }
   ],
   "source": [
    "finaltraindata['BinnedDiagnosisGroupCode'].isnull().mean()"
   ]
  },
  {
   "cell_type": "code",
   "execution_count": 43,
   "metadata": {},
   "outputs": [],
   "source": [
    "finaltraindata['BinnedDiagnosisGroupCode'].replace(np.nan,0,inplace=True)"
   ]
  },
  {
   "cell_type": "code",
   "execution_count": 44,
   "metadata": {},
   "outputs": [],
   "source": [
    "finaltraindata=finaltraindata.drop(['DiagnosisGroupCode'],axis=1)"
   ]
  },
  {
   "cell_type": "code",
   "execution_count": 45,
   "metadata": {},
   "outputs": [],
   "source": [
    "traincd = finaltraindata.loc[:, 'ClmAdmitDiagnosisCode':'ClmDiagnosisCode_9']"
   ]
  },
  {
   "cell_type": "code",
   "execution_count": 46,
   "metadata": {},
   "outputs": [],
   "source": [
    "cols = ('ClmAdmitDiagnosisCode','ClmDiagnosisCode_1','ClmDiagnosisCode_2','ClmDiagnosisCode_3','ClmDiagnosisCode_4',\n",
    "        'ClmDiagnosisCode_5','ClmDiagnosisCode_6','ClmDiagnosisCode_7','ClmDiagnosisCode_8','ClmDiagnosisCode_9',\n",
    "        'ClmDiagnosisCode_10')"
   ]
  },
  {
   "cell_type": "code",
   "execution_count": 47,
   "metadata": {},
   "outputs": [],
   "source": [
    "for i in cols:\n",
    "    traincd[i] = traincd[i].str.replace('V','')\n",
    "    traincd[i] = traincd[i].str.replace('E','')\n",
    "    traincd[i] = traincd[i].fillna(0)\n",
    "    traincd[i] = traincd[i].astype(str).str[0:3]\n",
    "    traincd[i] = traincd[i].astype('int')"
   ]
  },
  {
   "cell_type": "code",
   "execution_count": 48,
   "metadata": {},
   "outputs": [],
   "source": [
    "traincd['BinnedClmAdmitDiagnosisCode'] = pd.cut(traincd['ClmAdmitDiagnosisCode'], bins=bins, labels=labels)\n",
    "traincd['BinnedClmDiagnosisCode_1'] =pd.cut(traincd['ClmDiagnosisCode_1'], bins=bins, labels=labels)\n",
    "traincd['BinnedClmDiagnosisCode_2'] =pd.cut(traincd['ClmDiagnosisCode_2'], bins=bins, labels=labels)\n",
    "traincd['BinnedClmDiagnosisCode_3'] =pd.cut(traincd['ClmDiagnosisCode_3'], bins=bins, labels=labels)\n",
    "traincd['BinnedClmDiagnosisCode_4'] =pd.cut(traincd['ClmDiagnosisCode_4'], bins=bins, labels=labels)\n",
    "traincd['BinnedClmDiagnosisCode_5'] =pd.cut(traincd['ClmDiagnosisCode_5'], bins=bins, labels=labels)\n",
    "traincd['BinnedClmDiagnosisCode_6'] =pd.cut(traincd['ClmDiagnosisCode_6'], bins=bins, labels=labels)\n",
    "traincd['BinnedClmDiagnosisCode_7'] =pd.cut(traincd['ClmDiagnosisCode_7'], bins=bins, labels=labels)\n",
    "traincd['BinnedClmDiagnosisCode_8'] =pd.cut(traincd['ClmDiagnosisCode_8'], bins=bins, labels=labels)\n",
    "traincd['BinnedClmDiagnosisCode_9'] =pd.cut(traincd['ClmDiagnosisCode_9'], bins=bins, labels=labels)\n",
    "traincd['BinnedClmDiagnosisCode_10'] =pd.cut(traincd['ClmDiagnosisCode_10'], bins=bins, labels=labels)"
   ]
  },
  {
   "cell_type": "code",
   "execution_count": 49,
   "metadata": {},
   "outputs": [],
   "source": [
    "traincd['BinnedClmAdmitDiagnosisCode'].replace(np.nan,0,inplace=True)\n",
    "traincd['BinnedClmDiagnosisCode_1'].replace(np.nan,0,inplace=True)\n",
    "traincd['BinnedClmDiagnosisCode_2'].replace(np.nan,0,inplace=True)\n",
    "traincd['BinnedClmDiagnosisCode_3'].replace(np.nan,0,inplace=True)\n",
    "traincd['BinnedClmDiagnosisCode_4'].replace(np.nan,0,inplace=True)\n",
    "traincd['BinnedClmDiagnosisCode_5'].replace(np.nan,0,inplace=True)\n",
    "traincd['BinnedClmDiagnosisCode_6'].replace(np.nan,0,inplace=True)\n",
    "traincd['BinnedClmDiagnosisCode_7'].replace(np.nan,0,inplace=True)\n",
    "traincd['BinnedClmDiagnosisCode_8'].replace(np.nan,0,inplace=True)\n",
    "traincd['BinnedClmDiagnosisCode_9'].replace(np.nan,0,inplace=True)\n",
    "traincd['BinnedClmDiagnosisCode_10'].replace(np.nan,0,inplace=True)"
   ]
  },
  {
   "cell_type": "code",
   "execution_count": 50,
   "metadata": {},
   "outputs": [],
   "source": [
    "traincd1 = traincd.drop(['ClmAdmitDiagnosisCode','ClmDiagnosisCode_1','ClmDiagnosisCode_2','ClmDiagnosisCode_3',\n",
    "                         'ClmDiagnosisCode_4','ClmDiagnosisCode_5','ClmDiagnosisCode_6','ClmDiagnosisCode_7',\n",
    "                         'ClmDiagnosisCode_8','ClmDiagnosisCode_9','ClmDiagnosisCode_10'],axis=1)"
   ]
  },
  {
   "cell_type": "code",
   "execution_count": 51,
   "metadata": {},
   "outputs": [
    {
     "data": {
      "text/plain": [
       "<matplotlib.axes._subplots.AxesSubplot at 0x1fdb82639b0>"
      ]
     },
     "execution_count": 51,
     "metadata": {},
     "output_type": "execute_result"
    },
    {
     "data": {
      "image/png": "[encoded data removed]",
      "text/plain": [
       "<Figure size 432x288 with 1 Axes>"
      ]
     },
     "metadata": {},
     "output_type": "display_data"
    }
   ],
   "source": [
    "sns.heatmap(finaltraindata.isnull(),cbar=False)"
   ]
  },
  {
   "cell_type": "markdown",
   "metadata": {},
   "source": [
    "### Dropping the Attributes which has na values and ID's"
   ]
  },
  {
   "cell_type": "code",
   "execution_count": 52,
   "metadata": {},
   "outputs": [],
   "source": [
    "traindata2 = finaltraindata.drop(['AttendingPhysician','ClmAdmitDiagnosisCode','ClmProcedureCode_1','ClmProcedureCode_2',\n",
    "                              'ClmProcedureCode_3','ClmProcedureCode_4','ClmProcedureCode_5','ClmProcedureCode_6',\n",
    "                              'OperatingPhysician','OtherPhysician','ClmDiagnosisCode_3','ClmDiagnosisCode_4',\n",
    "                              'ClmDiagnosisCode_5','ClmDiagnosisCode_6','ClmDiagnosisCode_7','ClmDiagnosisCode_8',\n",
    "                              'ClmDiagnosisCode_9','ClmDiagnosisCode_10','BeneID','ClaimID','ClmDiagnosisCode_1',\n",
    "                              'ClmDiagnosisCode_2',],axis=1)"
   ]
  },
  {
   "cell_type": "code",
   "execution_count": 53,
   "metadata": {},
   "outputs": [],
   "source": [
    "finaltraindata = pd.concat([traindata2,traincd1],axis=1)"
   ]
  },
  {
   "cell_type": "markdown",
   "metadata": {},
   "source": [
    "### Type Conversion"
   ]
  },
  {
   "cell_type": "code",
   "execution_count": 54,
   "metadata": {},
   "outputs": [],
   "source": [
    "finaltraindata['DeductibleAmtPaid']= finaltraindata['DeductibleAmtPaid'].fillna(finaltraindata['DeductibleAmtPaid'].mean())"
   ]
  },
  {
   "cell_type": "code",
   "execution_count": 55,
   "metadata": {},
   "outputs": [],
   "source": [
    "finaltraindata.Days_in_Hospital = finaltraindata.Days_in_Hospital.astype('int64')\n",
    "finaltraindata.No_of_claimdays= finaltraindata.No_of_claimdays.astype('int64')\n",
    "finaltraindata.DeductibleAmtPaid = finaltraindata.DeductibleAmtPaid.astype('int64')"
   ]
  },
  {
   "cell_type": "code",
   "execution_count": 56,
   "metadata": {},
   "outputs": [],
   "source": [
    "catcol = ('Race','Gender','RenalDiseaseIndicator','Provider','State','County','ChronicCond_Alzheimer',\n",
    "          'ChronicCond_Heartfailure','ChronicCond_KidneyDisease','ChronicCond_Cancer','ChronicCond_ObstrPulmonary',\n",
    "          'ChronicCond_Depression','ChronicCond_Diabetes','ChronicCond_IschemicHeart','ChronicCond_Osteoporasis',\n",
    "          'ChronicCond_rheumatoidarthritis','ChronicCond_stroke','PotentialFraud','BinnedDiagnosisGroupCode',\n",
    "          'BinnedClmAdmitDiagnosisCode','BinnedClmDiagnosisCode_1','BinnedClmDiagnosisCode_2','BinnedClmDiagnosisCode_3',\n",
    "          'BinnedClmDiagnosisCode_4','BinnedClmDiagnosisCode_5','BinnedClmDiagnosisCode_6','BinnedClmDiagnosisCode_7',\n",
    "          'BinnedClmDiagnosisCode_8','BinnedClmDiagnosisCode_8','BinnedClmDiagnosisCode_9','BinnedClmDiagnosisCode_10')"
   ]
  },
  {
   "cell_type": "code",
   "execution_count": 57,
   "metadata": {},
   "outputs": [],
   "source": [
    "for i in catcol:\n",
    "    finaltraindata[i] = finaltraindata[i].astype('category')"
   ]
  },
  {
   "cell_type": "code",
   "execution_count": 58,
   "metadata": {},
   "outputs": [
    {
     "data": {
      "text/plain": [
       "DeductibleAmtPaid                     int64\n",
       "InscClaimAmtReimbursed                int64\n",
       "Provider                           category\n",
       "Gender                             category\n",
       "Race                               category\n",
       "RenalDiseaseIndicator              category\n",
       "State                              category\n",
       "County                             category\n",
       "NoOfMonths_PartACov                   int64\n",
       "NoOfMonths_PartBCov                   int64\n",
       "ChronicCond_Alzheimer              category\n",
       "ChronicCond_Heartfailure           category\n",
       "ChronicCond_KidneyDisease          category\n",
       "ChronicCond_Cancer                 category\n",
       "ChronicCond_ObstrPulmonary         category\n",
       "ChronicCond_Depression             category\n",
       "ChronicCond_Diabetes               category\n",
       "ChronicCond_IschemicHeart          category\n",
       "ChronicCond_Osteoporasis           category\n",
       "ChronicCond_rheumatoidarthritis    category\n",
       "ChronicCond_stroke                 category\n",
       "IPAnnualReimbursementAmt              int64\n",
       "IPAnnualDeductibleAmt                 int64\n",
       "OPAnnualReimbursementAmt              int64\n",
       "OPAnnualDeductibleAmt                 int64\n",
       "PotentialFraud                     category\n",
       "No_of_claimdays                       int64\n",
       "Days_in_Hospital                      int64\n",
       "Age                                   int64\n",
       "BinnedDiagnosisGroupCode           category\n",
       "BinnedClmAdmitDiagnosisCode        category\n",
       "BinnedClmDiagnosisCode_1           category\n",
       "BinnedClmDiagnosisCode_2           category\n",
       "BinnedClmDiagnosisCode_3           category\n",
       "BinnedClmDiagnosisCode_4           category\n",
       "BinnedClmDiagnosisCode_5           category\n",
       "BinnedClmDiagnosisCode_6           category\n",
       "BinnedClmDiagnosisCode_7           category\n",
       "BinnedClmDiagnosisCode_8           category\n",
       "BinnedClmDiagnosisCode_9           category\n",
       "BinnedClmDiagnosisCode_10          category\n",
       "dtype: object"
      ]
     },
     "execution_count": 58,
     "metadata": {},
     "output_type": "execute_result"
    }
   ],
   "source": [
    "finaltraindata.dtypes"
   ]
  },
  {
   "cell_type": "code",
   "execution_count": 59,
   "metadata": {},
   "outputs": [
    {
     "data": {
      "text/plain": [
       "DeductibleAmtPaid                  0.0\n",
       "InscClaimAmtReimbursed             0.0\n",
       "Provider                           0.0\n",
       "Gender                             0.0\n",
       "Race                               0.0\n",
       "RenalDiseaseIndicator              0.0\n",
       "State                              0.0\n",
       "County                             0.0\n",
       "NoOfMonths_PartACov                0.0\n",
       "NoOfMonths_PartBCov                0.0\n",
       "ChronicCond_Alzheimer              0.0\n",
       "ChronicCond_Heartfailure           0.0\n",
       "ChronicCond_KidneyDisease          0.0\n",
       "ChronicCond_Cancer                 0.0\n",
       "ChronicCond_ObstrPulmonary         0.0\n",
       "ChronicCond_Depression             0.0\n",
       "ChronicCond_Diabetes               0.0\n",
       "ChronicCond_IschemicHeart          0.0\n",
       "ChronicCond_Osteoporasis           0.0\n",
       "ChronicCond_rheumatoidarthritis    0.0\n",
       "ChronicCond_stroke                 0.0\n",
       "IPAnnualReimbursementAmt           0.0\n",
       "IPAnnualDeductibleAmt              0.0\n",
       "OPAnnualReimbursementAmt           0.0\n",
       "OPAnnualDeductibleAmt              0.0\n",
       "PotentialFraud                     0.0\n",
       "No_of_claimdays                    0.0\n",
       "Days_in_Hospital                   0.0\n",
       "Age                                0.0\n",
       "BinnedDiagnosisGroupCode           0.0\n",
       "BinnedClmAdmitDiagnosisCode        0.0\n",
       "BinnedClmDiagnosisCode_1           0.0\n",
       "BinnedClmDiagnosisCode_2           0.0\n",
       "BinnedClmDiagnosisCode_3           0.0\n",
       "BinnedClmDiagnosisCode_4           0.0\n",
       "BinnedClmDiagnosisCode_5           0.0\n",
       "BinnedClmDiagnosisCode_6           0.0\n",
       "BinnedClmDiagnosisCode_7           0.0\n",
       "BinnedClmDiagnosisCode_8           0.0\n",
       "BinnedClmDiagnosisCode_9           0.0\n",
       "BinnedClmDiagnosisCode_10          0.0\n",
       "dtype: float64"
      ]
     },
     "execution_count": 59,
     "metadata": {},
     "output_type": "execute_result"
    }
   ],
   "source": [
    "finaltraindata.isnull().mean()"
   ]
  },
  {
   "cell_type": "code",
   "execution_count": 60,
   "metadata": {},
   "outputs": [
    {
     "data": {
      "text/html": [
       "<div>\n",
       "<style scoped>\n",
       "    .dataframe tbody tr th:only-of-type {\n",
       "        vertical-align: middle;\n",
       "    }\n",
       "\n",
       "    .dataframe tbody tr th {\n",
       "        vertical-align: top;\n",
       "    }\n",
       "\n",
       "    .dataframe thead th {\n",
       "        text-align: right;\n",
       "    }\n",
       "</style>\n",
       "<table border=\"1\" class=\"dataframe\">\n",
       "  <thead>\n",
       "    <tr style=\"text-align: right;\">\n",
       "      <th></th>\n",
       "      <th>154542</th>\n",
       "      <th>528760</th>\n",
       "      <th>413949</th>\n",
       "      <th>162808</th>\n",
       "      <th>307660</th>\n",
       "    </tr>\n",
       "  </thead>\n",
       "  <tbody>\n",
       "    <tr>\n",
       "      <th>DeductibleAmtPaid</th>\n",
       "      <td>0</td>\n",
       "      <td>0</td>\n",
       "      <td>0</td>\n",
       "      <td>0</td>\n",
       "      <td>0</td>\n",
       "    </tr>\n",
       "    <tr>\n",
       "      <th>InscClaimAmtReimbursed</th>\n",
       "      <td>800</td>\n",
       "      <td>2000</td>\n",
       "      <td>800</td>\n",
       "      <td>40</td>\n",
       "      <td>70</td>\n",
       "    </tr>\n",
       "    <tr>\n",
       "      <th>Provider</th>\n",
       "      <td>PRV52845</td>\n",
       "      <td>PRV57000</td>\n",
       "      <td>PRV53702</td>\n",
       "      <td>PRV52130</td>\n",
       "      <td>PRV54387</td>\n",
       "    </tr>\n",
       "    <tr>\n",
       "      <th>Gender</th>\n",
       "      <td>2</td>\n",
       "      <td>1</td>\n",
       "      <td>2</td>\n",
       "      <td>1</td>\n",
       "      <td>1</td>\n",
       "    </tr>\n",
       "    <tr>\n",
       "      <th>Race</th>\n",
       "      <td>1</td>\n",
       "      <td>1</td>\n",
       "      <td>2</td>\n",
       "      <td>1</td>\n",
       "      <td>1</td>\n",
       "    </tr>\n",
       "    <tr>\n",
       "      <th>RenalDiseaseIndicator</th>\n",
       "      <td>Y</td>\n",
       "      <td>0</td>\n",
       "      <td>0</td>\n",
       "      <td>0</td>\n",
       "      <td>0</td>\n",
       "    </tr>\n",
       "    <tr>\n",
       "      <th>State</th>\n",
       "      <td>15</td>\n",
       "      <td>45</td>\n",
       "      <td>21</td>\n",
       "      <td>10</td>\n",
       "      <td>26</td>\n",
       "    </tr>\n",
       "    <tr>\n",
       "      <th>County</th>\n",
       "      <td>740</td>\n",
       "      <td>310</td>\n",
       "      <td>20</td>\n",
       "      <td>160</td>\n",
       "      <td>470</td>\n",
       "    </tr>\n",
       "    <tr>\n",
       "      <th>NoOfMonths_PartACov</th>\n",
       "      <td>12</td>\n",
       "      <td>12</td>\n",
       "      <td>12</td>\n",
       "      <td>12</td>\n",
       "      <td>12</td>\n",
       "    </tr>\n",
       "    <tr>\n",
       "      <th>NoOfMonths_PartBCov</th>\n",
       "      <td>12</td>\n",
       "      <td>12</td>\n",
       "      <td>12</td>\n",
       "      <td>12</td>\n",
       "      <td>12</td>\n",
       "    </tr>\n",
       "    <tr>\n",
       "      <th>ChronicCond_Alzheimer</th>\n",
       "      <td>1</td>\n",
       "      <td>1</td>\n",
       "      <td>2</td>\n",
       "      <td>1</td>\n",
       "      <td>2</td>\n",
       "    </tr>\n",
       "    <tr>\n",
       "      <th>ChronicCond_Heartfailure</th>\n",
       "      <td>1</td>\n",
       "      <td>1</td>\n",
       "      <td>2</td>\n",
       "      <td>1</td>\n",
       "      <td>2</td>\n",
       "    </tr>\n",
       "    <tr>\n",
       "      <th>ChronicCond_KidneyDisease</th>\n",
       "      <td>1</td>\n",
       "      <td>1</td>\n",
       "      <td>2</td>\n",
       "      <td>1</td>\n",
       "      <td>2</td>\n",
       "    </tr>\n",
       "    <tr>\n",
       "      <th>ChronicCond_Cancer</th>\n",
       "      <td>2</td>\n",
       "      <td>2</td>\n",
       "      <td>2</td>\n",
       "      <td>2</td>\n",
       "      <td>2</td>\n",
       "    </tr>\n",
       "    <tr>\n",
       "      <th>ChronicCond_ObstrPulmonary</th>\n",
       "      <td>2</td>\n",
       "      <td>1</td>\n",
       "      <td>2</td>\n",
       "      <td>1</td>\n",
       "      <td>2</td>\n",
       "    </tr>\n",
       "    <tr>\n",
       "      <th>ChronicCond_Depression</th>\n",
       "      <td>1</td>\n",
       "      <td>1</td>\n",
       "      <td>2</td>\n",
       "      <td>1</td>\n",
       "      <td>2</td>\n",
       "    </tr>\n",
       "    <tr>\n",
       "      <th>ChronicCond_Diabetes</th>\n",
       "      <td>1</td>\n",
       "      <td>1</td>\n",
       "      <td>2</td>\n",
       "      <td>1</td>\n",
       "      <td>1</td>\n",
       "    </tr>\n",
       "    <tr>\n",
       "      <th>ChronicCond_IschemicHeart</th>\n",
       "      <td>1</td>\n",
       "      <td>1</td>\n",
       "      <td>1</td>\n",
       "      <td>1</td>\n",
       "      <td>1</td>\n",
       "    </tr>\n",
       "    <tr>\n",
       "      <th>ChronicCond_Osteoporasis</th>\n",
       "      <td>1</td>\n",
       "      <td>2</td>\n",
       "      <td>2</td>\n",
       "      <td>2</td>\n",
       "      <td>1</td>\n",
       "    </tr>\n",
       "    <tr>\n",
       "      <th>ChronicCond_rheumatoidarthritis</th>\n",
       "      <td>2</td>\n",
       "      <td>1</td>\n",
       "      <td>2</td>\n",
       "      <td>1</td>\n",
       "      <td>2</td>\n",
       "    </tr>\n",
       "    <tr>\n",
       "      <th>ChronicCond_stroke</th>\n",
       "      <td>2</td>\n",
       "      <td>2</td>\n",
       "      <td>2</td>\n",
       "      <td>2</td>\n",
       "      <td>2</td>\n",
       "    </tr>\n",
       "    <tr>\n",
       "      <th>IPAnnualReimbursementAmt</th>\n",
       "      <td>72100</td>\n",
       "      <td>81100</td>\n",
       "      <td>0</td>\n",
       "      <td>0</td>\n",
       "      <td>0</td>\n",
       "    </tr>\n",
       "    <tr>\n",
       "      <th>IPAnnualDeductibleAmt</th>\n",
       "      <td>5340</td>\n",
       "      <td>6408</td>\n",
       "      <td>0</td>\n",
       "      <td>0</td>\n",
       "      <td>0</td>\n",
       "    </tr>\n",
       "    <tr>\n",
       "      <th>OPAnnualReimbursementAmt</th>\n",
       "      <td>1880</td>\n",
       "      <td>6960</td>\n",
       "      <td>920</td>\n",
       "      <td>2500</td>\n",
       "      <td>330</td>\n",
       "    </tr>\n",
       "    <tr>\n",
       "      <th>OPAnnualDeductibleAmt</th>\n",
       "      <td>300</td>\n",
       "      <td>1070</td>\n",
       "      <td>40</td>\n",
       "      <td>1340</td>\n",
       "      <td>520</td>\n",
       "    </tr>\n",
       "    <tr>\n",
       "      <th>PotentialFraud</th>\n",
       "      <td>No</td>\n",
       "      <td>No</td>\n",
       "      <td>No</td>\n",
       "      <td>No</td>\n",
       "      <td>No</td>\n",
       "    </tr>\n",
       "    <tr>\n",
       "      <th>No_of_claimdays</th>\n",
       "      <td>1728000000000000</td>\n",
       "      <td>0</td>\n",
       "      <td>0</td>\n",
       "      <td>0</td>\n",
       "      <td>0</td>\n",
       "    </tr>\n",
       "    <tr>\n",
       "      <th>Days_in_Hospital</th>\n",
       "      <td>-9223372036854775808</td>\n",
       "      <td>-9223372036854775808</td>\n",
       "      <td>-9223372036854775808</td>\n",
       "      <td>-9223372036854775808</td>\n",
       "      <td>-9223372036854775808</td>\n",
       "    </tr>\n",
       "    <tr>\n",
       "      <th>Age</th>\n",
       "      <td>69</td>\n",
       "      <td>69</td>\n",
       "      <td>82</td>\n",
       "      <td>67</td>\n",
       "      <td>67</td>\n",
       "    </tr>\n",
       "    <tr>\n",
       "      <th>BinnedDiagnosisGroupCode</th>\n",
       "      <td>0</td>\n",
       "      <td>0</td>\n",
       "      <td>0</td>\n",
       "      <td>0</td>\n",
       "      <td>0</td>\n",
       "    </tr>\n",
       "    <tr>\n",
       "      <th>BinnedClmAdmitDiagnosisCode</th>\n",
       "      <td>0</td>\n",
       "      <td>13</td>\n",
       "      <td>0</td>\n",
       "      <td>0</td>\n",
       "      <td>6</td>\n",
       "    </tr>\n",
       "    <tr>\n",
       "      <th>BinnedClmDiagnosisCode_1</th>\n",
       "      <td>13</td>\n",
       "      <td>13</td>\n",
       "      <td>16</td>\n",
       "      <td>8</td>\n",
       "      <td>6</td>\n",
       "    </tr>\n",
       "    <tr>\n",
       "      <th>BinnedClmDiagnosisCode_2</th>\n",
       "      <td>16</td>\n",
       "      <td>3</td>\n",
       "      <td>0</td>\n",
       "      <td>0</td>\n",
       "      <td>7</td>\n",
       "    </tr>\n",
       "    <tr>\n",
       "      <th>BinnedClmDiagnosisCode_3</th>\n",
       "      <td>16</td>\n",
       "      <td>5</td>\n",
       "      <td>0</td>\n",
       "      <td>0</td>\n",
       "      <td>10</td>\n",
       "    </tr>\n",
       "    <tr>\n",
       "      <th>BinnedClmDiagnosisCode_4</th>\n",
       "      <td>17</td>\n",
       "      <td>5</td>\n",
       "      <td>0</td>\n",
       "      <td>0</td>\n",
       "      <td>3</td>\n",
       "    </tr>\n",
       "    <tr>\n",
       "      <th>BinnedClmDiagnosisCode_5</th>\n",
       "      <td>16</td>\n",
       "      <td>3</td>\n",
       "      <td>0</td>\n",
       "      <td>0</td>\n",
       "      <td>7</td>\n",
       "    </tr>\n",
       "    <tr>\n",
       "      <th>BinnedClmDiagnosisCode_6</th>\n",
       "      <td>5</td>\n",
       "      <td>13</td>\n",
       "      <td>0</td>\n",
       "      <td>0</td>\n",
       "      <td>10</td>\n",
       "    </tr>\n",
       "    <tr>\n",
       "      <th>BinnedClmDiagnosisCode_7</th>\n",
       "      <td>13</td>\n",
       "      <td>13</td>\n",
       "      <td>0</td>\n",
       "      <td>0</td>\n",
       "      <td>5</td>\n",
       "    </tr>\n",
       "    <tr>\n",
       "      <th>BinnedClmDiagnosisCode_8</th>\n",
       "      <td>9</td>\n",
       "      <td>1</td>\n",
       "      <td>0</td>\n",
       "      <td>0</td>\n",
       "      <td>0</td>\n",
       "    </tr>\n",
       "    <tr>\n",
       "      <th>BinnedClmDiagnosisCode_9</th>\n",
       "      <td>0</td>\n",
       "      <td>13</td>\n",
       "      <td>0</td>\n",
       "      <td>0</td>\n",
       "      <td>0</td>\n",
       "    </tr>\n",
       "    <tr>\n",
       "      <th>BinnedClmDiagnosisCode_10</th>\n",
       "      <td>0</td>\n",
       "      <td>0</td>\n",
       "      <td>0</td>\n",
       "      <td>0</td>\n",
       "      <td>0</td>\n",
       "    </tr>\n",
       "  </tbody>\n",
       "</table>\n",
       "</div>"
      ],
      "text/plain": [
       "                                               154542                528760  \\\n",
       "DeductibleAmtPaid                                   0                     0   \n",
       "InscClaimAmtReimbursed                            800                  2000   \n",
       "Provider                                     PRV52845              PRV57000   \n",
       "Gender                                              2                     1   \n",
       "Race                                                1                     1   \n",
       "RenalDiseaseIndicator                               Y                     0   \n",
       "State                                              15                    45   \n",
       "County                                            740                   310   \n",
       "NoOfMonths_PartACov                                12                    12   \n",
       "NoOfMonths_PartBCov                                12                    12   \n",
       "ChronicCond_Alzheimer                               1                     1   \n",
       "ChronicCond_Heartfailure                            1                     1   \n",
       "ChronicCond_KidneyDisease                           1                     1   \n",
       "ChronicCond_Cancer                                  2                     2   \n",
       "ChronicCond_ObstrPulmonary                          2                     1   \n",
       "ChronicCond_Depression                              1                     1   \n",
       "ChronicCond_Diabetes                                1                     1   \n",
       "ChronicCond_IschemicHeart                           1                     1   \n",
       "ChronicCond_Osteoporasis                            1                     2   \n",
       "ChronicCond_rheumatoidarthritis                     2                     1   \n",
       "ChronicCond_stroke                                  2                     2   \n",
       "IPAnnualReimbursementAmt                        72100                 81100   \n",
       "IPAnnualDeductibleAmt                            5340                  6408   \n",
       "OPAnnualReimbursementAmt                         1880                  6960   \n",
       "OPAnnualDeductibleAmt                             300                  1070   \n",
       "PotentialFraud                                     No                    No   \n",
       "No_of_claimdays                      1728000000000000                     0   \n",
       "Days_in_Hospital                 -9223372036854775808  -9223372036854775808   \n",
       "Age                                                69                    69   \n",
       "BinnedDiagnosisGroupCode                            0                     0   \n",
       "BinnedClmAdmitDiagnosisCode                         0                    13   \n",
       "BinnedClmDiagnosisCode_1                           13                    13   \n",
       "BinnedClmDiagnosisCode_2                           16                     3   \n",
       "BinnedClmDiagnosisCode_3                           16                     5   \n",
       "BinnedClmDiagnosisCode_4                           17                     5   \n",
       "BinnedClmDiagnosisCode_5                           16                     3   \n",
       "BinnedClmDiagnosisCode_6                            5                    13   \n",
       "BinnedClmDiagnosisCode_7                           13                    13   \n",
       "BinnedClmDiagnosisCode_8                            9                     1   \n",
       "BinnedClmDiagnosisCode_9                            0                    13   \n",
       "BinnedClmDiagnosisCode_10                           0                     0   \n",
       "\n",
       "                                               413949                162808  \\\n",
       "DeductibleAmtPaid                                   0                     0   \n",
       "InscClaimAmtReimbursed                            800                    40   \n",
       "Provider                                     PRV53702              PRV52130   \n",
       "Gender                                              2                     1   \n",
       "Race                                                2                     1   \n",
       "RenalDiseaseIndicator                               0                     0   \n",
       "State                                              21                    10   \n",
       "County                                             20                   160   \n",
       "NoOfMonths_PartACov                                12                    12   \n",
       "NoOfMonths_PartBCov                                12                    12   \n",
       "ChronicCond_Alzheimer                               2                     1   \n",
       "ChronicCond_Heartfailure                            2                     1   \n",
       "ChronicCond_KidneyDisease                           2                     1   \n",
       "ChronicCond_Cancer                                  2                     2   \n",
       "ChronicCond_ObstrPulmonary                          2                     1   \n",
       "ChronicCond_Depression                              2                     1   \n",
       "ChronicCond_Diabetes                                2                     1   \n",
       "ChronicCond_IschemicHeart                           1                     1   \n",
       "ChronicCond_Osteoporasis                            2                     2   \n",
       "ChronicCond_rheumatoidarthritis                     2                     1   \n",
       "ChronicCond_stroke                                  2                     2   \n",
       "IPAnnualReimbursementAmt                            0                     0   \n",
       "IPAnnualDeductibleAmt                               0                     0   \n",
       "OPAnnualReimbursementAmt                          920                  2500   \n",
       "OPAnnualDeductibleAmt                              40                  1340   \n",
       "PotentialFraud                                     No                    No   \n",
       "No_of_claimdays                                     0                     0   \n",
       "Days_in_Hospital                 -9223372036854775808  -9223372036854775808   \n",
       "Age                                                82                    67   \n",
       "BinnedDiagnosisGroupCode                            0                     0   \n",
       "BinnedClmAdmitDiagnosisCode                         0                     0   \n",
       "BinnedClmDiagnosisCode_1                           16                     8   \n",
       "BinnedClmDiagnosisCode_2                            0                     0   \n",
       "BinnedClmDiagnosisCode_3                            0                     0   \n",
       "BinnedClmDiagnosisCode_4                            0                     0   \n",
       "BinnedClmDiagnosisCode_5                            0                     0   \n",
       "BinnedClmDiagnosisCode_6                            0                     0   \n",
       "BinnedClmDiagnosisCode_7                            0                     0   \n",
       "BinnedClmDiagnosisCode_8                            0                     0   \n",
       "BinnedClmDiagnosisCode_9                            0                     0   \n",
       "BinnedClmDiagnosisCode_10                           0                     0   \n",
       "\n",
       "                                               307660  \n",
       "DeductibleAmtPaid                                   0  \n",
       "InscClaimAmtReimbursed                             70  \n",
       "Provider                                     PRV54387  \n",
       "Gender                                              1  \n",
       "Race                                                1  \n",
       "RenalDiseaseIndicator                               0  \n",
       "State                                              26  \n",
       "County                                            470  \n",
       "NoOfMonths_PartACov                                12  \n",
       "NoOfMonths_PartBCov                                12  \n",
       "ChronicCond_Alzheimer                               2  \n",
       "ChronicCond_Heartfailure                            2  \n",
       "ChronicCond_KidneyDisease                           2  \n",
       "ChronicCond_Cancer                                  2  \n",
       "ChronicCond_ObstrPulmonary                          2  \n",
       "ChronicCond_Depression                              2  \n",
       "ChronicCond_Diabetes                                1  \n",
       "ChronicCond_IschemicHeart                           1  \n",
       "ChronicCond_Osteoporasis                            1  \n",
       "ChronicCond_rheumatoidarthritis                     2  \n",
       "ChronicCond_stroke                                  2  \n",
       "IPAnnualReimbursementAmt                            0  \n",
       "IPAnnualDeductibleAmt                               0  \n",
       "OPAnnualReimbursementAmt                          330  \n",
       "OPAnnualDeductibleAmt                             520  \n",
       "PotentialFraud                                     No  \n",
       "No_of_claimdays                                     0  \n",
       "Days_in_Hospital                 -9223372036854775808  \n",
       "Age                                                67  \n",
       "BinnedDiagnosisGroupCode                            0  \n",
       "BinnedClmAdmitDiagnosisCode                         6  \n",
       "BinnedClmDiagnosisCode_1                            6  \n",
       "BinnedClmDiagnosisCode_2                            7  \n",
       "BinnedClmDiagnosisCode_3                           10  \n",
       "BinnedClmDiagnosisCode_4                            3  \n",
       "BinnedClmDiagnosisCode_5                            7  \n",
       "BinnedClmDiagnosisCode_6                           10  \n",
       "BinnedClmDiagnosisCode_7                            5  \n",
       "BinnedClmDiagnosisCode_8                            0  \n",
       "BinnedClmDiagnosisCode_9                            0  \n",
       "BinnedClmDiagnosisCode_10                           0  "
      ]
     },
     "execution_count": 60,
     "metadata": {},
     "output_type": "execute_result"
    }
   ],
   "source": [
    "finaltraindata.sample(5).T"
   ]
  },
  {
   "cell_type": "markdown",
   "metadata": {},
   "source": [
    "### Exploratory Data Analysis"
   ]
  },
  {
   "cell_type": "code",
   "execution_count": 61,
   "metadata": {},
   "outputs": [
    {
     "data": {
      "text/plain": [
       "No     345415\n",
       "Yes    212796\n",
       "Name: PotentialFraud, dtype: int64"
      ]
     },
     "execution_count": 61,
     "metadata": {},
     "output_type": "execute_result"
    }
   ],
   "source": [
    "finaltraindata['PotentialFraud'].value_counts()"
   ]
  },
  {
   "cell_type": "code",
   "execution_count": 62,
   "metadata": {},
   "outputs": [
    {
     "data": {
      "text/plain": [
       "Text(0,0.5,'No. of Claims')"
      ]
     },
     "execution_count": 62,
     "metadata": {},
     "output_type": "execute_result"
    },
    {
     "data": {
      "image/png": "[encoded data removed]",
      "text/plain": [
       "<Figure size 432x288 with 1 Axes>"
      ]
     },
     "metadata": {},
     "output_type": "display_data"
    }
   ],
   "source": [
    "sns.countplot(x='PotentialFraud',data=finaltraindata,palette='Set1')\n",
    "plt.title(\"Count of Target Variable \")\n",
    "plt.xlabel('Potential Fraud')\n",
    "plt.ylabel('No. of Claims')"
   ]
  },
  {
   "cell_type": "markdown",
   "metadata": {},
   "source": [
    "### We can see that total no. of FRAUD claims are significant and accounts upto 40% of total claims"
   ]
  },
  {
   "cell_type": "code",
   "execution_count": 63,
   "metadata": {},
   "outputs": [
    {
     "data": {
      "text/plain": [
       "Text(0,0.5,'No. of People')"
      ]
     },
     "execution_count": 63,
     "metadata": {},
     "output_type": "execute_result"
    },
    {
     "data": {
      "image/png": "[encoded data removed]",
      "text/plain": [
       "<Figure size 432x288 with 1 Axes>"
      ]
     },
     "metadata": {},
     "output_type": "display_data"
    }
   ],
   "source": [
    "sns.countplot(x=\"Race\",hue=\"PotentialFraud\",palette='Set2',data=finaltraindata)\n",
    "plt.title(\"Claims Across Different Races\")\n",
    "plt.xlabel('Race')\n",
    "plt.ylabel('No. of People')"
   ]
  },
  {
   "cell_type": "markdown",
   "metadata": {},
   "source": [
    "### Claims belonging to Race 3 having high probality of being Fraud"
   ]
  },
  {
   "cell_type": "code",
   "execution_count": 64,
   "metadata": {},
   "outputs": [
    {
     "data": {
      "text/plain": [
       "Text(0.5,1,'Distribution of Beneficiaries among Different Age Groups')"
      ]
     },
     "execution_count": 64,
     "metadata": {},
     "output_type": "execute_result"
    },
    {
     "data": {
      "image/png": "[encoded data removed]",
      "text/plain": [
       "<Figure size 432x288 with 1 Axes>"
      ]
     },
     "metadata": {},
     "output_type": "display_data"
    }
   ],
   "source": [
    "sns.distplot(finaltraindata['Age'])\n",
    "plt.title('Distribution of Beneficiaries among Different Age Groups')"
   ]
  },
  {
   "cell_type": "markdown",
   "metadata": {},
   "source": [
    "### Insurance Claims are mostly taken from the age group of 65-90"
   ]
  },
  {
   "cell_type": "code",
   "execution_count": 65,
   "metadata": {},
   "outputs": [
    {
     "data": {
      "text/plain": [
       "Text(0.5,1,'Insurance Amount Reimbursed w.r.t Gender')"
      ]
     },
     "execution_count": 65,
     "metadata": {},
     "output_type": "execute_result"
    },
    {
     "data": {
      "image/png": "[encoded data removed]",
      "text/plain": [
       "<Figure size 432x288 with 1 Axes>"
      ]
     },
     "metadata": {},
     "output_type": "display_data"
    }
   ],
   "source": [
    "sns.stripplot(x=\"Gender\", y=\"InscClaimAmtReimbursed\", data=finaltraindata,jitter=True,hue='PotentialFraud',palette='Set1')\n",
    "plt.title('Insurance Amount Reimbursed w.r.t Gender')"
   ]
  },
  {
   "cell_type": "markdown",
   "metadata": {},
   "source": [
    "### Insurance Fraud is seen in both the Gender "
   ]
  },
  {
   "cell_type": "markdown",
   "metadata": {},
   "source": [
    "### And if the Amount to be Reimbursed greater than 60000 for a claim, It has higher probability of Being a Fraud "
   ]
  },
  {
   "cell_type": "code",
   "execution_count": 66,
   "metadata": {},
   "outputs": [
    {
     "data": {
      "text/plain": [
       "Text(0.5,1,'Claims Across States')"
      ]
     },
     "execution_count": 66,
     "metadata": {},
     "output_type": "execute_result"
    },
    {
     "data": {
      "image/png": "[encoded data removed]",
      "text/plain": [
       "<Figure size 1440x288 with 1 Axes>"
      ]
     },
     "metadata": {},
     "output_type": "display_data"
    }
   ],
   "source": [
    "plt.figure(figsize=(20,4))\n",
    "sns.countplot(x='State',hue=\"PotentialFraud\",data=finaltraindata)\n",
    "plt.title('Claims Across States')"
   ]
  },
  {
   "cell_type": "markdown",
   "metadata": {},
   "source": [
    "### Claims in State 5 & 33 are having higher probability of being Fraud"
   ]
  },
  {
   "cell_type": "code",
   "execution_count": 67,
   "metadata": {},
   "outputs": [
    {
     "data": {
      "text/plain": [
       "Text(0.5,1,'Claims w.r.t IP annual reimbursement amount')"
      ]
     },
     "execution_count": 67,
     "metadata": {},
     "output_type": "execute_result"
    },
    {
     "data": {
      "image/png": "[encoded data removed]",
      "text/plain": [
       "<Figure size 432x288 with 1 Axes>"
      ]
     },
     "metadata": {},
     "output_type": "display_data"
    }
   ],
   "source": [
    "from numpy import median,mean\n",
    "sns.barplot(x=\"PotentialFraud\", y=\"IPAnnualReimbursementAmt\", data=finaltraindata, estimator=mean)\n",
    "plt.title('Claims w.r.t IP annual reimbursement amount')"
   ]
  },
  {
   "cell_type": "markdown",
   "metadata": {},
   "source": [
    "### If the Annual Reimbursement Amount for a provider is greater than 50000   the  claims of the respective provider seems to be Fraud "
   ]
  },
  {
   "cell_type": "markdown",
   "metadata": {},
   "source": [
    "### Reading the Test datasets"
   ]
  },
  {
   "cell_type": "code",
   "execution_count": 68,
   "metadata": {},
   "outputs": [],
   "source": [
    "beneficiary_test = pd.read_csv(\"C:\\\\Users\\\\jagad\\\\OneDrive\\\\Documents\\\\Insofe\\\\PHD\\\\PHD -ML\\\\Test_Beneficiarydata-1542969243754.csv\")\n",
    "inpatient_test = pd.read_csv(\"C:\\\\Users\\\\jagad\\\\OneDrive\\\\Documents\\\\Insofe\\\\PHD\\\\PHD -ML\\\\Test_Inpatientdata-1542969243754.csv\")\n",
    "outpatient_test = pd.read_csv(\"C:\\\\Users\\\\jagad\\\\OneDrive\\\\Documents\\\\Insofe\\\\PHD\\\\PHD -ML\\\\Test_Outpatientdata-1542969243754.csv\")\n",
    "testdata = pd.read_csv(\"C:\\\\Users\\\\jagad\\\\OneDrive\\\\Documents\\\\Insofe\\\\PHD\\\\PHD -ML\\\\Test-1542969243754.csv\")"
   ]
  },
  {
   "cell_type": "code",
   "execution_count": 69,
   "metadata": {},
   "outputs": [
    {
     "name": "stdout",
     "output_type": "stream",
     "text": [
      "(9551, 30)\n",
      "(125841, 27)\n",
      "(1353, 1)\n",
      "(63968, 25)\n"
     ]
    }
   ],
   "source": [
    "print(inpatient_test.shape)\n",
    "print(outpatient_test.shape)\n",
    "print(testdata.shape)\n",
    "print(beneficiary_test.shape)"
   ]
  },
  {
   "cell_type": "markdown",
   "metadata": {},
   "source": [
    "### Merging of Test Datasets"
   ]
  },
  {
   "cell_type": "code",
   "execution_count": 70,
   "metadata": {},
   "outputs": [],
   "source": [
    "testmergeddata1 = inpatient_test.append(outpatient_test,ignore_index=False)"
   ]
  },
  {
   "cell_type": "code",
   "execution_count": 71,
   "metadata": {},
   "outputs": [],
   "source": [
    "testmergeddata2=pd.merge(testmergeddata1,beneficiary_test, how='left', on=['BeneID'])"
   ]
  },
  {
   "cell_type": "code",
   "execution_count": 72,
   "metadata": {},
   "outputs": [],
   "source": [
    "finaltestdata=pd.merge(testmergeddata2,testdata, how='inner',on=['Provider'])"
   ]
  },
  {
   "cell_type": "code",
   "execution_count": 73,
   "metadata": {},
   "outputs": [
    {
     "data": {
      "text/plain": [
       "(135392, 54)"
      ]
     },
     "execution_count": 73,
     "metadata": {},
     "output_type": "execute_result"
    }
   ],
   "source": [
    "finaltestdata.shape"
   ]
  },
  {
   "cell_type": "code",
   "execution_count": 74,
   "metadata": {},
   "outputs": [
    {
     "data": {
      "text/plain": [
       "AdmissionDt                         object\n",
       "AttendingPhysician                  object\n",
       "BeneID                              object\n",
       "ClaimEndDt                          object\n",
       "ClaimID                             object\n",
       "ClaimStartDt                        object\n",
       "ClmAdmitDiagnosisCode               object\n",
       "ClmDiagnosisCode_1                  object\n",
       "ClmDiagnosisCode_10                 object\n",
       "ClmDiagnosisCode_2                  object\n",
       "ClmDiagnosisCode_3                  object\n",
       "ClmDiagnosisCode_4                  object\n",
       "ClmDiagnosisCode_5                  object\n",
       "ClmDiagnosisCode_6                  object\n",
       "ClmDiagnosisCode_7                  object\n",
       "ClmDiagnosisCode_8                  object\n",
       "ClmDiagnosisCode_9                  object\n",
       "ClmProcedureCode_1                 float64\n",
       "ClmProcedureCode_2                 float64\n",
       "ClmProcedureCode_3                 float64\n",
       "ClmProcedureCode_4                 float64\n",
       "ClmProcedureCode_5                 float64\n",
       "ClmProcedureCode_6                 float64\n",
       "DeductibleAmtPaid                  float64\n",
       "DiagnosisGroupCode                  object\n",
       "DischargeDt                         object\n",
       "InscClaimAmtReimbursed               int64\n",
       "OperatingPhysician                  object\n",
       "OtherPhysician                      object\n",
       "Provider                            object\n",
       "DOB                                 object\n",
       "DOD                                 object\n",
       "Gender                               int64\n",
       "Race                                 int64\n",
       "RenalDiseaseIndicator               object\n",
       "State                                int64\n",
       "County                               int64\n",
       "NoOfMonths_PartACov                  int64\n",
       "NoOfMonths_PartBCov                  int64\n",
       "ChronicCond_Alzheimer                int64\n",
       "ChronicCond_Heartfailure             int64\n",
       "ChronicCond_KidneyDisease            int64\n",
       "ChronicCond_Cancer                   int64\n",
       "ChronicCond_ObstrPulmonary           int64\n",
       "ChronicCond_Depression               int64\n",
       "ChronicCond_Diabetes                 int64\n",
       "ChronicCond_IschemicHeart            int64\n",
       "ChronicCond_Osteoporasis             int64\n",
       "ChronicCond_rheumatoidarthritis      int64\n",
       "ChronicCond_stroke                   int64\n",
       "IPAnnualReimbursementAmt             int64\n",
       "IPAnnualDeductibleAmt                int64\n",
       "OPAnnualReimbursementAmt             int64\n",
       "OPAnnualDeductibleAmt                int64\n",
       "dtype: object"
      ]
     },
     "execution_count": 74,
     "metadata": {},
     "output_type": "execute_result"
    }
   ],
   "source": [
    "finaltestdata.dtypes"
   ]
  },
  {
   "cell_type": "code",
   "execution_count": 75,
   "metadata": {},
   "outputs": [
    {
     "data": {
      "text/html": [
       "<div>\n",
       "<style scoped>\n",
       "    .dataframe tbody tr th:only-of-type {\n",
       "        vertical-align: middle;\n",
       "    }\n",
       "\n",
       "    .dataframe tbody tr th {\n",
       "        vertical-align: top;\n",
       "    }\n",
       "\n",
       "    .dataframe thead th {\n",
       "        text-align: right;\n",
       "    }\n",
       "</style>\n",
       "<table border=\"1\" class=\"dataframe\">\n",
       "  <thead>\n",
       "    <tr style=\"text-align: right;\">\n",
       "      <th></th>\n",
       "      <th>ClmProcedureCode_1</th>\n",
       "      <th>ClmProcedureCode_2</th>\n",
       "      <th>ClmProcedureCode_3</th>\n",
       "      <th>ClmProcedureCode_4</th>\n",
       "      <th>ClmProcedureCode_5</th>\n",
       "      <th>ClmProcedureCode_6</th>\n",
       "      <th>DeductibleAmtPaid</th>\n",
       "      <th>InscClaimAmtReimbursed</th>\n",
       "      <th>Gender</th>\n",
       "      <th>Race</th>\n",
       "      <th>...</th>\n",
       "      <th>ChronicCond_Depression</th>\n",
       "      <th>ChronicCond_Diabetes</th>\n",
       "      <th>ChronicCond_IschemicHeart</th>\n",
       "      <th>ChronicCond_Osteoporasis</th>\n",
       "      <th>ChronicCond_rheumatoidarthritis</th>\n",
       "      <th>ChronicCond_stroke</th>\n",
       "      <th>IPAnnualReimbursementAmt</th>\n",
       "      <th>IPAnnualDeductibleAmt</th>\n",
       "      <th>OPAnnualReimbursementAmt</th>\n",
       "      <th>OPAnnualDeductibleAmt</th>\n",
       "    </tr>\n",
       "  </thead>\n",
       "  <tbody>\n",
       "    <tr>\n",
       "      <th>count</th>\n",
       "      <td>5467.000000</td>\n",
       "      <td>1263.000000</td>\n",
       "      <td>225.000000</td>\n",
       "      <td>29.000000</td>\n",
       "      <td>2.000000</td>\n",
       "      <td>0.0</td>\n",
       "      <td>135196.000000</td>\n",
       "      <td>135392.000000</td>\n",
       "      <td>135392.000000</td>\n",
       "      <td>135392.000000</td>\n",
       "      <td>...</td>\n",
       "      <td>135392.000000</td>\n",
       "      <td>135392.000000</td>\n",
       "      <td>135392.000000</td>\n",
       "      <td>135392.000000</td>\n",
       "      <td>135392.000000</td>\n",
       "      <td>135392.000000</td>\n",
       "      <td>135392.000000</td>\n",
       "      <td>135392.000000</td>\n",
       "      <td>135392.000000</td>\n",
       "      <td>135392.000000</td>\n",
       "    </tr>\n",
       "    <tr>\n",
       "      <th>mean</th>\n",
       "      <td>5905.430766</td>\n",
       "      <td>4138.790182</td>\n",
       "      <td>4182.213333</td>\n",
       "      <td>4509.931034</td>\n",
       "      <td>7055.500000</td>\n",
       "      <td>NaN</td>\n",
       "      <td>76.499194</td>\n",
       "      <td>981.307906</td>\n",
       "      <td>1.576231</td>\n",
       "      <td>1.240605</td>\n",
       "      <td>...</td>\n",
       "      <td>1.567463</td>\n",
       "      <td>1.291745</td>\n",
       "      <td>1.240383</td>\n",
       "      <td>1.683637</td>\n",
       "      <td>1.689923</td>\n",
       "      <td>1.895422</td>\n",
       "      <td>5271.108559</td>\n",
       "      <td>575.083978</td>\n",
       "      <td>2277.197988</td>\n",
       "      <td>645.259572</td>\n",
       "    </tr>\n",
       "    <tr>\n",
       "      <th>std</th>\n",
       "      <td>3057.976988</td>\n",
       "      <td>2042.016095</td>\n",
       "      <td>2165.057828</td>\n",
       "      <td>2571.379659</td>\n",
       "      <td>4124.553855</td>\n",
       "      <td>NaN</td>\n",
       "      <td>270.779562</td>\n",
       "      <td>3788.177532</td>\n",
       "      <td>0.494157</td>\n",
       "      <td>0.695578</td>\n",
       "      <td>...</td>\n",
       "      <td>0.495430</td>\n",
       "      <td>0.454567</td>\n",
       "      <td>0.427318</td>\n",
       "      <td>0.465058</td>\n",
       "      <td>0.462527</td>\n",
       "      <td>0.306010</td>\n",
       "      <td>11746.248324</td>\n",
       "      <td>1211.898840</td>\n",
       "      <td>3985.942527</td>\n",
       "      <td>997.355872</td>\n",
       "    </tr>\n",
       "    <tr>\n",
       "      <th>min</th>\n",
       "      <td>14.000000</td>\n",
       "      <td>42.000000</td>\n",
       "      <td>185.000000</td>\n",
       "      <td>260.000000</td>\n",
       "      <td>4139.000000</td>\n",
       "      <td>NaN</td>\n",
       "      <td>0.000000</td>\n",
       "      <td>0.000000</td>\n",
       "      <td>1.000000</td>\n",
       "      <td>1.000000</td>\n",
       "      <td>...</td>\n",
       "      <td>1.000000</td>\n",
       "      <td>1.000000</td>\n",
       "      <td>1.000000</td>\n",
       "      <td>1.000000</td>\n",
       "      <td>1.000000</td>\n",
       "      <td>1.000000</td>\n",
       "      <td>-1000.000000</td>\n",
       "      <td>0.000000</td>\n",
       "      <td>-60.000000</td>\n",
       "      <td>0.000000</td>\n",
       "    </tr>\n",
       "    <tr>\n",
       "      <th>25%</th>\n",
       "      <td>3891.000000</td>\n",
       "      <td>2749.000000</td>\n",
       "      <td>2724.000000</td>\n",
       "      <td>3320.000000</td>\n",
       "      <td>5597.250000</td>\n",
       "      <td>NaN</td>\n",
       "      <td>0.000000</td>\n",
       "      <td>40.000000</td>\n",
       "      <td>1.000000</td>\n",
       "      <td>1.000000</td>\n",
       "      <td>...</td>\n",
       "      <td>1.000000</td>\n",
       "      <td>1.000000</td>\n",
       "      <td>1.000000</td>\n",
       "      <td>1.000000</td>\n",
       "      <td>1.000000</td>\n",
       "      <td>2.000000</td>\n",
       "      <td>0.000000</td>\n",
       "      <td>0.000000</td>\n",
       "      <td>470.000000</td>\n",
       "      <td>120.000000</td>\n",
       "    </tr>\n",
       "    <tr>\n",
       "      <th>50%</th>\n",
       "      <td>5369.000000</td>\n",
       "      <td>4019.000000</td>\n",
       "      <td>4019.000000</td>\n",
       "      <td>4263.000000</td>\n",
       "      <td>7055.500000</td>\n",
       "      <td>NaN</td>\n",
       "      <td>0.000000</td>\n",
       "      <td>80.000000</td>\n",
       "      <td>2.000000</td>\n",
       "      <td>1.000000</td>\n",
       "      <td>...</td>\n",
       "      <td>2.000000</td>\n",
       "      <td>1.000000</td>\n",
       "      <td>1.000000</td>\n",
       "      <td>2.000000</td>\n",
       "      <td>2.000000</td>\n",
       "      <td>2.000000</td>\n",
       "      <td>0.000000</td>\n",
       "      <td>0.000000</td>\n",
       "      <td>1170.000000</td>\n",
       "      <td>340.000000</td>\n",
       "    </tr>\n",
       "    <tr>\n",
       "      <th>75%</th>\n",
       "      <td>8741.000000</td>\n",
       "      <td>4439.000000</td>\n",
       "      <td>5121.000000</td>\n",
       "      <td>5781.000000</td>\n",
       "      <td>8513.750000</td>\n",
       "      <td>NaN</td>\n",
       "      <td>0.000000</td>\n",
       "      <td>300.000000</td>\n",
       "      <td>2.000000</td>\n",
       "      <td>1.000000</td>\n",
       "      <td>...</td>\n",
       "      <td>2.000000</td>\n",
       "      <td>2.000000</td>\n",
       "      <td>1.000000</td>\n",
       "      <td>2.000000</td>\n",
       "      <td>2.000000</td>\n",
       "      <td>2.000000</td>\n",
       "      <td>6000.000000</td>\n",
       "      <td>1068.000000</td>\n",
       "      <td>2560.000000</td>\n",
       "      <td>790.000000</td>\n",
       "    </tr>\n",
       "    <tr>\n",
       "      <th>max</th>\n",
       "      <td>9999.000000</td>\n",
       "      <td>9998.000000</td>\n",
       "      <td>9984.000000</td>\n",
       "      <td>9971.000000</td>\n",
       "      <td>9972.000000</td>\n",
       "      <td>NaN</td>\n",
       "      <td>1068.000000</td>\n",
       "      <td>125000.000000</td>\n",
       "      <td>2.000000</td>\n",
       "      <td>5.000000</td>\n",
       "      <td>...</td>\n",
       "      <td>2.000000</td>\n",
       "      <td>2.000000</td>\n",
       "      <td>2.000000</td>\n",
       "      <td>2.000000</td>\n",
       "      <td>2.000000</td>\n",
       "      <td>2.000000</td>\n",
       "      <td>155600.000000</td>\n",
       "      <td>38272.000000</td>\n",
       "      <td>97510.000000</td>\n",
       "      <td>13840.000000</td>\n",
       "    </tr>\n",
       "  </tbody>\n",
       "</table>\n",
       "<p>8 rows × 29 columns</p>\n",
       "</div>"
      ],
      "text/plain": [
       "       ClmProcedureCode_1  ClmProcedureCode_2  ClmProcedureCode_3  \\\n",
       "count         5467.000000         1263.000000          225.000000   \n",
       "mean          5905.430766         4138.790182         4182.213333   \n",
       "std           3057.976988         2042.016095         2165.057828   \n",
       "min             14.000000           42.000000          185.000000   \n",
       "25%           3891.000000         2749.000000         2724.000000   \n",
       "50%           5369.000000         4019.000000         4019.000000   \n",
       "75%           8741.000000         4439.000000         5121.000000   \n",
       "max           9999.000000         9998.000000         9984.000000   \n",
       "\n",
       "       ClmProcedureCode_4  ClmProcedureCode_5  ClmProcedureCode_6  \\\n",
       "count           29.000000            2.000000                 0.0   \n",
       "mean          4509.931034         7055.500000                 NaN   \n",
       "std           2571.379659         4124.553855                 NaN   \n",
       "min            260.000000         4139.000000                 NaN   \n",
       "25%           3320.000000         5597.250000                 NaN   \n",
       "50%           4263.000000         7055.500000                 NaN   \n",
       "75%           5781.000000         8513.750000                 NaN   \n",
       "max           9971.000000         9972.000000                 NaN   \n",
       "\n",
       "       DeductibleAmtPaid  InscClaimAmtReimbursed         Gender  \\\n",
       "count      135196.000000           135392.000000  135392.000000   \n",
       "mean           76.499194              981.307906       1.576231   \n",
       "std           270.779562             3788.177532       0.494157   \n",
       "min             0.000000                0.000000       1.000000   \n",
       "25%             0.000000               40.000000       1.000000   \n",
       "50%             0.000000               80.000000       2.000000   \n",
       "75%             0.000000              300.000000       2.000000   \n",
       "max          1068.000000           125000.000000       2.000000   \n",
       "\n",
       "                Race          ...            ChronicCond_Depression  \\\n",
       "count  135392.000000          ...                     135392.000000   \n",
       "mean        1.240605          ...                          1.567463   \n",
       "std         0.695578          ...                          0.495430   \n",
       "min         1.000000          ...                          1.000000   \n",
       "25%         1.000000          ...                          1.000000   \n",
       "50%         1.000000          ...                          2.000000   \n",
       "75%         1.000000          ...                          2.000000   \n",
       "max         5.000000          ...                          2.000000   \n",
       "\n",
       "       ChronicCond_Diabetes  ChronicCond_IschemicHeart  \\\n",
       "count         135392.000000              135392.000000   \n",
       "mean               1.291745                   1.240383   \n",
       "std                0.454567                   0.427318   \n",
       "min                1.000000                   1.000000   \n",
       "25%                1.000000                   1.000000   \n",
       "50%                1.000000                   1.000000   \n",
       "75%                2.000000                   1.000000   \n",
       "max                2.000000                   2.000000   \n",
       "\n",
       "       ChronicCond_Osteoporasis  ChronicCond_rheumatoidarthritis  \\\n",
       "count             135392.000000                    135392.000000   \n",
       "mean                   1.683637                         1.689923   \n",
       "std                    0.465058                         0.462527   \n",
       "min                    1.000000                         1.000000   \n",
       "25%                    1.000000                         1.000000   \n",
       "50%                    2.000000                         2.000000   \n",
       "75%                    2.000000                         2.000000   \n",
       "max                    2.000000                         2.000000   \n",
       "\n",
       "       ChronicCond_stroke  IPAnnualReimbursementAmt  IPAnnualDeductibleAmt  \\\n",
       "count       135392.000000             135392.000000          135392.000000   \n",
       "mean             1.895422               5271.108559             575.083978   \n",
       "std              0.306010              11746.248324            1211.898840   \n",
       "min              1.000000              -1000.000000               0.000000   \n",
       "25%              2.000000                  0.000000               0.000000   \n",
       "50%              2.000000                  0.000000               0.000000   \n",
       "75%              2.000000               6000.000000            1068.000000   \n",
       "max              2.000000             155600.000000           38272.000000   \n",
       "\n",
       "       OPAnnualReimbursementAmt  OPAnnualDeductibleAmt  \n",
       "count             135392.000000          135392.000000  \n",
       "mean                2277.197988             645.259572  \n",
       "std                 3985.942527             997.355872  \n",
       "min                  -60.000000               0.000000  \n",
       "25%                  470.000000             120.000000  \n",
       "50%                 1170.000000             340.000000  \n",
       "75%                 2560.000000             790.000000  \n",
       "max                97510.000000           13840.000000  \n",
       "\n",
       "[8 rows x 29 columns]"
      ]
     },
     "execution_count": 75,
     "metadata": {},
     "output_type": "execute_result"
    }
   ],
   "source": [
    "finaltestdata.describe()"
   ]
  },
  {
   "cell_type": "markdown",
   "metadata": {},
   "source": [
    "### Feature Engineering "
   ]
  },
  {
   "cell_type": "markdown",
   "metadata": {},
   "source": [
    "##### Applying the same steps applied for traindata"
   ]
  },
  {
   "cell_type": "code",
   "execution_count": 76,
   "metadata": {},
   "outputs": [],
   "source": [
    "from datetime import datetime\n",
    "date_format = \"%d/%m/%Y\"\n",
    "from datetime import date"
   ]
  },
  {
   "cell_type": "code",
   "execution_count": 77,
   "metadata": {},
   "outputs": [],
   "source": [
    "finaltestdata.ClaimStartDt = pd.to_datetime(finaltestdata.ClaimStartDt)\n",
    "finaltestdata.ClaimEndDt = pd.to_datetime(finaltestdata.ClaimEndDt)"
   ]
  },
  {
   "cell_type": "code",
   "execution_count": 78,
   "metadata": {},
   "outputs": [],
   "source": [
    "finaltestdata['No_of_claimdays']=finaltestdata['ClaimEndDt']-finaltestdata['ClaimStartDt']"
   ]
  },
  {
   "cell_type": "code",
   "execution_count": 79,
   "metadata": {},
   "outputs": [],
   "source": [
    "finaltestdata.AdmissionDt = pd.to_datetime(finaltestdata.AdmissionDt)\n",
    "finaltestdata.DischargeDt = pd.to_datetime(finaltestdata.DischargeDt)"
   ]
  },
  {
   "cell_type": "code",
   "execution_count": 80,
   "metadata": {},
   "outputs": [],
   "source": [
    "finaltestdata['Days_in_Hospital']=finaltestdata['DischargeDt']-finaltestdata['AdmissionDt']"
   ]
  },
  {
   "cell_type": "code",
   "execution_count": 81,
   "metadata": {},
   "outputs": [
    {
     "data": {
      "text/plain": [
       "False"
      ]
     },
     "execution_count": 81,
     "metadata": {},
     "output_type": "execute_result"
    }
   ],
   "source": [
    "finaltestdata['Days_in_Hospital'].equals(finaltestdata['No_of_claimdays'])"
   ]
  },
  {
   "cell_type": "code",
   "execution_count": 82,
   "metadata": {},
   "outputs": [
    {
     "data": {
      "text/plain": [
       "0   1938-04-01\n",
       "1   1936-07-01\n",
       "2   1938-06-01\n",
       "3   1924-12-01\n",
       "4   1944-01-01\n",
       "Name: DOB, dtype: datetime64[ns]"
      ]
     },
     "execution_count": 82,
     "metadata": {},
     "output_type": "execute_result"
    }
   ],
   "source": [
    "finaltestdata.DOB = pd.to_datetime(finaltestdata.DOB)\n",
    "finaltestdata['DOB'].head(5)"
   ]
  },
  {
   "cell_type": "code",
   "execution_count": 83,
   "metadata": {},
   "outputs": [
    {
     "data": {
      "text/plain": [
       "1040"
      ]
     },
     "execution_count": 83,
     "metadata": {},
     "output_type": "execute_result"
    }
   ],
   "source": [
    "finaltestdata['DOD'].count()"
   ]
  },
  {
   "cell_type": "code",
   "execution_count": 84,
   "metadata": {},
   "outputs": [],
   "source": [
    "finaltestdata['DOD']=finaltestdata['DOD'].fillna('2009-12-31')"
   ]
  },
  {
   "cell_type": "code",
   "execution_count": 85,
   "metadata": {},
   "outputs": [],
   "source": [
    "finaltestdata.DOD = pd.to_datetime(finaltestdata.DOD)"
   ]
  },
  {
   "cell_type": "code",
   "execution_count": 86,
   "metadata": {},
   "outputs": [],
   "source": [
    "finaltestdata['Age'] = ((finaltestdata['DOD'] - finaltestdata['DOB'])/365).dt.days "
   ]
  },
  {
   "cell_type": "code",
   "execution_count": 87,
   "metadata": {},
   "outputs": [],
   "source": [
    "finaltestdata=finaltestdata.drop(['ClaimStartDt','ClaimEndDt','AdmissionDt','DischargeDt','DOB','DOD'],axis=1)"
   ]
  },
  {
   "cell_type": "markdown",
   "metadata": {},
   "source": [
    "### Binning of Diagnostic codes "
   ]
  },
  {
   "cell_type": "code",
   "execution_count": 88,
   "metadata": {},
   "outputs": [],
   "source": [
    "finaltestdata['DiagnosisGroupCode'].replace('OTH',173.4,inplace=True)\n",
    "finaltestdata['DiagnosisGroupCode'].replace(np.nan,0,inplace=True)"
   ]
  },
  {
   "cell_type": "code",
   "execution_count": 89,
   "metadata": {},
   "outputs": [],
   "source": [
    "finaltestdata['DiagnosisGroupCode']= finaltestdata['DiagnosisGroupCode'].astype('category')\n",
    "finaltestdata['DiagnosisGroupCode']= finaltestdata['DiagnosisGroupCode'].astype('int')"
   ]
  },
  {
   "cell_type": "code",
   "execution_count": 90,
   "metadata": {},
   "outputs": [],
   "source": [
    "bins = [0,139,239,279,289,319,389,459,519,579,629,679,709,739,759,779,799,999]\n",
    "labels = [1,2,3,4,5,6,7,8,9,10,11,12,13,14,15,16,17]\n",
    "finaltestdata['BinnedDiagnosisGroupCode'] = pd.cut(finaltestdata['DiagnosisGroupCode'], bins=bins, labels=labels)"
   ]
  },
  {
   "cell_type": "code",
   "execution_count": 91,
   "metadata": {},
   "outputs": [
    {
     "data": {
      "text/plain": [
       "0.9296856535098086"
      ]
     },
     "execution_count": 91,
     "metadata": {},
     "output_type": "execute_result"
    }
   ],
   "source": [
    "finaltestdata['BinnedDiagnosisGroupCode'].isnull().mean()"
   ]
  },
  {
   "cell_type": "code",
   "execution_count": 92,
   "metadata": {},
   "outputs": [],
   "source": [
    "finaltestdata['BinnedDiagnosisGroupCode'].replace(np.nan,0,inplace=True)"
   ]
  },
  {
   "cell_type": "code",
   "execution_count": 93,
   "metadata": {},
   "outputs": [],
   "source": [
    "finaltestdata=finaltestdata.drop(['DiagnosisGroupCode'],axis=1)"
   ]
  },
  {
   "cell_type": "code",
   "execution_count": 94,
   "metadata": {},
   "outputs": [],
   "source": [
    "testcd = finaltestdata.loc[:, 'ClmAdmitDiagnosisCode':'ClmDiagnosisCode_9']"
   ]
  },
  {
   "cell_type": "code",
   "execution_count": 95,
   "metadata": {},
   "outputs": [],
   "source": [
    "cols = ('ClmAdmitDiagnosisCode','ClmDiagnosisCode_1','ClmDiagnosisCode_2','ClmDiagnosisCode_3','ClmDiagnosisCode_4',\n",
    "        'ClmDiagnosisCode_5','ClmDiagnosisCode_6','ClmDiagnosisCode_7','ClmDiagnosisCode_8','ClmDiagnosisCode_9',\n",
    "        'ClmDiagnosisCode_10')"
   ]
  },
  {
   "cell_type": "code",
   "execution_count": 96,
   "metadata": {},
   "outputs": [],
   "source": [
    "for i in cols:\n",
    "    testcd[i] = testcd[i].str.replace('V','')\n",
    "    testcd[i] = testcd[i].str.replace('E','')\n",
    "    testcd[i] = testcd[i].fillna(0)\n",
    "    testcd[i] = testcd[i].astype(str).str[0:3]\n",
    "    testcd[i] = testcd[i].astype('int')"
   ]
  },
  {
   "cell_type": "code",
   "execution_count": 97,
   "metadata": {},
   "outputs": [],
   "source": [
    "testcd['BinnedClmAdmitDiagnosisCode'] = pd.cut(testcd['ClmAdmitDiagnosisCode'], bins=bins, labels=labels)\n",
    "testcd['BinnedClmDiagnosisCode_1'] =pd.cut(testcd['ClmDiagnosisCode_1'], bins=bins, labels=labels)\n",
    "testcd['BinnedClmDiagnosisCode_2'] =pd.cut(testcd['ClmDiagnosisCode_2'], bins=bins, labels=labels)\n",
    "testcd['BinnedClmDiagnosisCode_3'] =pd.cut(testcd['ClmDiagnosisCode_3'], bins=bins, labels=labels)\n",
    "testcd['BinnedClmDiagnosisCode_4'] =pd.cut(testcd['ClmDiagnosisCode_4'], bins=bins, labels=labels)\n",
    "testcd['BinnedClmDiagnosisCode_5'] =pd.cut(testcd['ClmDiagnosisCode_5'], bins=bins, labels=labels)\n",
    "testcd['BinnedClmDiagnosisCode_6'] =pd.cut(testcd['ClmDiagnosisCode_6'], bins=bins, labels=labels)\n",
    "testcd['BinnedClmDiagnosisCode_7'] =pd.cut(testcd['ClmDiagnosisCode_7'], bins=bins, labels=labels)\n",
    "testcd['BinnedClmDiagnosisCode_8'] =pd.cut(testcd['ClmDiagnosisCode_8'], bins=bins, labels=labels)\n",
    "testcd['BinnedClmDiagnosisCode_9'] =pd.cut(testcd['ClmDiagnosisCode_9'], bins=bins, labels=labels)\n",
    "testcd['BinnedClmDiagnosisCode_10'] =pd.cut(testcd['ClmDiagnosisCode_10'], bins=bins, labels=labels)"
   ]
  },
  {
   "cell_type": "code",
   "execution_count": 98,
   "metadata": {},
   "outputs": [],
   "source": [
    "testcd['BinnedClmAdmitDiagnosisCode'].replace(np.nan,0,inplace=True)\n",
    "testcd['BinnedClmDiagnosisCode_1'].replace(np.nan,0,inplace=True)\n",
    "testcd['BinnedClmDiagnosisCode_2'].replace(np.nan,0,inplace=True)\n",
    "testcd['BinnedClmDiagnosisCode_3'].replace(np.nan,0,inplace=True)\n",
    "testcd['BinnedClmDiagnosisCode_4'].replace(np.nan,0,inplace=True)\n",
    "testcd['BinnedClmDiagnosisCode_5'].replace(np.nan,0,inplace=True)\n",
    "testcd['BinnedClmDiagnosisCode_6'].replace(np.nan,0,inplace=True)\n",
    "testcd['BinnedClmDiagnosisCode_7'].replace(np.nan,0,inplace=True)\n",
    "testcd['BinnedClmDiagnosisCode_8'].replace(np.nan,0,inplace=True)\n",
    "testcd['BinnedClmDiagnosisCode_9'].replace(np.nan,0,inplace=True)\n",
    "testcd['BinnedClmDiagnosisCode_10'].replace(np.nan,0,inplace=True)"
   ]
  },
  {
   "cell_type": "code",
   "execution_count": 99,
   "metadata": {},
   "outputs": [],
   "source": [
    "testcd1 = testcd.drop(['ClmAdmitDiagnosisCode','ClmDiagnosisCode_1','ClmDiagnosisCode_2','ClmDiagnosisCode_3',\n",
    "                         'ClmDiagnosisCode_4','ClmDiagnosisCode_5','ClmDiagnosisCode_6','ClmDiagnosisCode_7',\n",
    "                         'ClmDiagnosisCode_8','ClmDiagnosisCode_9','ClmDiagnosisCode_10'],axis=1)"
   ]
  },
  {
   "cell_type": "code",
   "execution_count": 100,
   "metadata": {},
   "outputs": [],
   "source": [
    "testdata2 = finaltestdata.drop(['AttendingPhysician','ClmAdmitDiagnosisCode','ClmProcedureCode_1','ClmProcedureCode_2',\n",
    "                              'ClmProcedureCode_3','ClmProcedureCode_4','ClmProcedureCode_5','ClmProcedureCode_6',\n",
    "                              'OperatingPhysician','OtherPhysician','ClmDiagnosisCode_3','ClmDiagnosisCode_4',\n",
    "                              'ClmDiagnosisCode_5','ClmDiagnosisCode_6','ClmDiagnosisCode_7','ClmDiagnosisCode_8',\n",
    "                              'ClmDiagnosisCode_9','ClmDiagnosisCode_10','BeneID','ClaimID','ClmDiagnosisCode_1',\n",
    "                              'ClmDiagnosisCode_2',],axis=1)"
   ]
  },
  {
   "cell_type": "code",
   "execution_count": 101,
   "metadata": {},
   "outputs": [],
   "source": [
    "finaltestdata = pd.concat([testdata2,testcd1],axis=1)"
   ]
  },
  {
   "cell_type": "markdown",
   "metadata": {},
   "source": [
    "### Type Conversions"
   ]
  },
  {
   "cell_type": "code",
   "execution_count": 102,
   "metadata": {},
   "outputs": [],
   "source": [
    "finaltestdata['DeductibleAmtPaid']= finaltestdata['DeductibleAmtPaid'].fillna(finaltestdata['DeductibleAmtPaid'].mean())\n",
    "finaltestdata['Days_in_Hospital'] = finaltestdata['Days_in_Hospital'].astype('int64')\n",
    "finaltestdata['No_of_claimdays']= finaltestdata['No_of_claimdays'].astype('int64')\n",
    "finaltestdata['DeductibleAmtPaid'] = finaltestdata['DeductibleAmtPaid'].astype('int64')"
   ]
  },
  {
   "cell_type": "code",
   "execution_count": 103,
   "metadata": {},
   "outputs": [],
   "source": [
    "catcol1 = ('Race','RenalDiseaseIndicator','Provider','State','County','ChronicCond_Alzheimer',\n",
    "          'ChronicCond_Heartfailure','ChronicCond_KidneyDisease','ChronicCond_Cancer','ChronicCond_ObstrPulmonary',\n",
    "          'ChronicCond_Depression','ChronicCond_Diabetes','ChronicCond_IschemicHeart','ChronicCond_Osteoporasis',\n",
    "          'ChronicCond_rheumatoidarthritis','ChronicCond_stroke','BinnedDiagnosisGroupCode','BinnedClmAdmitDiagnosisCode',\n",
    "           'BinnedClmDiagnosisCode_1','BinnedClmDiagnosisCode_2','BinnedClmDiagnosisCode_3','BinnedClmDiagnosisCode_4',\n",
    "           'BinnedClmDiagnosisCode_5','BinnedClmDiagnosisCode_6','BinnedClmDiagnosisCode_7','BinnedClmDiagnosisCode_8',\n",
    "           'BinnedClmDiagnosisCode_8','BinnedClmDiagnosisCode_9','BinnedClmDiagnosisCode_10')"
   ]
  },
  {
   "cell_type": "code",
   "execution_count": 104,
   "metadata": {},
   "outputs": [],
   "source": [
    "for i in catcol1:\n",
    "    finaltestdata[i] = finaltestdata[i].astype('category')"
   ]
  },
  {
   "cell_type": "code",
   "execution_count": 105,
   "metadata": {},
   "outputs": [
    {
     "data": {
      "text/plain": [
       "DeductibleAmtPaid                     int64\n",
       "InscClaimAmtReimbursed                int64\n",
       "Provider                           category\n",
       "Gender                                int64\n",
       "Race                               category\n",
       "RenalDiseaseIndicator              category\n",
       "State                              category\n",
       "County                             category\n",
       "NoOfMonths_PartACov                   int64\n",
       "NoOfMonths_PartBCov                   int64\n",
       "ChronicCond_Alzheimer              category\n",
       "ChronicCond_Heartfailure           category\n",
       "ChronicCond_KidneyDisease          category\n",
       "ChronicCond_Cancer                 category\n",
       "ChronicCond_ObstrPulmonary         category\n",
       "ChronicCond_Depression             category\n",
       "ChronicCond_Diabetes               category\n",
       "ChronicCond_IschemicHeart          category\n",
       "ChronicCond_Osteoporasis           category\n",
       "ChronicCond_rheumatoidarthritis    category\n",
       "ChronicCond_stroke                 category\n",
       "IPAnnualReimbursementAmt              int64\n",
       "IPAnnualDeductibleAmt                 int64\n",
       "OPAnnualReimbursementAmt              int64\n",
       "OPAnnualDeductibleAmt                 int64\n",
       "No_of_claimdays                       int64\n",
       "Days_in_Hospital                      int64\n",
       "Age                                   int64\n",
       "BinnedDiagnosisGroupCode           category\n",
       "BinnedClmAdmitDiagnosisCode        category\n",
       "BinnedClmDiagnosisCode_1           category\n",
       "BinnedClmDiagnosisCode_2           category\n",
       "BinnedClmDiagnosisCode_3           category\n",
       "BinnedClmDiagnosisCode_4           category\n",
       "BinnedClmDiagnosisCode_5           category\n",
       "BinnedClmDiagnosisCode_6           category\n",
       "BinnedClmDiagnosisCode_7           category\n",
       "BinnedClmDiagnosisCode_8           category\n",
       "BinnedClmDiagnosisCode_9           category\n",
       "BinnedClmDiagnosisCode_10          category\n",
       "dtype: object"
      ]
     },
     "execution_count": 105,
     "metadata": {},
     "output_type": "execute_result"
    }
   ],
   "source": [
    "finaltestdata.dtypes"
   ]
  },
  {
   "cell_type": "code",
   "execution_count": 106,
   "metadata": {},
   "outputs": [
    {
     "data": {
      "text/plain": [
       "DeductibleAmtPaid                  0.0\n",
       "InscClaimAmtReimbursed             0.0\n",
       "Provider                           0.0\n",
       "Gender                             0.0\n",
       "Race                               0.0\n",
       "RenalDiseaseIndicator              0.0\n",
       "State                              0.0\n",
       "County                             0.0\n",
       "NoOfMonths_PartACov                0.0\n",
       "NoOfMonths_PartBCov                0.0\n",
       "ChronicCond_Alzheimer              0.0\n",
       "ChronicCond_Heartfailure           0.0\n",
       "ChronicCond_KidneyDisease          0.0\n",
       "ChronicCond_Cancer                 0.0\n",
       "ChronicCond_ObstrPulmonary         0.0\n",
       "ChronicCond_Depression             0.0\n",
       "ChronicCond_Diabetes               0.0\n",
       "ChronicCond_IschemicHeart          0.0\n",
       "ChronicCond_Osteoporasis           0.0\n",
       "ChronicCond_rheumatoidarthritis    0.0\n",
       "ChronicCond_stroke                 0.0\n",
       "IPAnnualReimbursementAmt           0.0\n",
       "IPAnnualDeductibleAmt              0.0\n",
       "OPAnnualReimbursementAmt           0.0\n",
       "OPAnnualDeductibleAmt              0.0\n",
       "No_of_claimdays                    0.0\n",
       "Days_in_Hospital                   0.0\n",
       "Age                                0.0\n",
       "BinnedDiagnosisGroupCode           0.0\n",
       "BinnedClmAdmitDiagnosisCode        0.0\n",
       "BinnedClmDiagnosisCode_1           0.0\n",
       "BinnedClmDiagnosisCode_2           0.0\n",
       "BinnedClmDiagnosisCode_3           0.0\n",
       "BinnedClmDiagnosisCode_4           0.0\n",
       "BinnedClmDiagnosisCode_5           0.0\n",
       "BinnedClmDiagnosisCode_6           0.0\n",
       "BinnedClmDiagnosisCode_7           0.0\n",
       "BinnedClmDiagnosisCode_8           0.0\n",
       "BinnedClmDiagnosisCode_9           0.0\n",
       "BinnedClmDiagnosisCode_10          0.0\n",
       "dtype: float64"
      ]
     },
     "execution_count": 106,
     "metadata": {},
     "output_type": "execute_result"
    }
   ],
   "source": [
    "finaltestdata.isnull().mean()"
   ]
  },
  {
   "cell_type": "markdown",
   "metadata": {},
   "source": [
    "### Applying Label Encoder on all categorical attributes"
   ]
  },
  {
   "cell_type": "code",
   "execution_count": 107,
   "metadata": {},
   "outputs": [],
   "source": [
    "from sklearn import preprocessing\n",
    "from sklearn.preprocessing import LabelEncoder"
   ]
  },
  {
   "cell_type": "code",
   "execution_count": 108,
   "metadata": {},
   "outputs": [],
   "source": [
    "le=preprocessing.LabelEncoder()\n",
    "lis=['Race','RenalDiseaseIndicator',\"Gender\",'State','County','ChronicCond_Alzheimer',\n",
    "          'ChronicCond_Heartfailure','ChronicCond_KidneyDisease','ChronicCond_Cancer','ChronicCond_ObstrPulmonary',\n",
    "          'ChronicCond_Depression','ChronicCond_Diabetes','ChronicCond_IschemicHeart','ChronicCond_Osteoporasis',\n",
    "          'ChronicCond_rheumatoidarthritis','ChronicCond_stroke','BinnedDiagnosisGroupCode','BinnedClmAdmitDiagnosisCode',\n",
    "           'BinnedClmDiagnosisCode_1','BinnedClmDiagnosisCode_2','BinnedClmDiagnosisCode_3','BinnedClmDiagnosisCode_4',\n",
    "           'BinnedClmDiagnosisCode_5','BinnedClmDiagnosisCode_6','BinnedClmDiagnosisCode_7','BinnedClmDiagnosisCode_8',\n",
    "           'BinnedClmDiagnosisCode_8','BinnedClmDiagnosisCode_9','BinnedClmDiagnosisCode_10']"
   ]
  },
  {
   "cell_type": "code",
   "execution_count": 109,
   "metadata": {},
   "outputs": [],
   "source": [
    "finaltraindata1 = finaltraindata\n",
    "finaltestdata1  =finaltestdata"
   ]
  },
  {
   "cell_type": "code",
   "execution_count": 110,
   "metadata": {},
   "outputs": [],
   "source": [
    "for i in lis:\n",
    "    le.fit(finaltraindata1[i])\n",
    "    finaltraindata1[i]=le.fit_transform(finaltraindata1[i])"
   ]
  },
  {
   "cell_type": "code",
   "execution_count": 111,
   "metadata": {},
   "outputs": [
    {
     "data": {
      "text/plain": [
       "DeductibleAmtPaid                     int64\n",
       "InscClaimAmtReimbursed                int64\n",
       "Provider                           category\n",
       "Gender                                int64\n",
       "Race                                  int64\n",
       "RenalDiseaseIndicator                 int32\n",
       "State                                 int64\n",
       "County                                int64\n",
       "NoOfMonths_PartACov                   int64\n",
       "NoOfMonths_PartBCov                   int64\n",
       "ChronicCond_Alzheimer                 int64\n",
       "ChronicCond_Heartfailure              int64\n",
       "ChronicCond_KidneyDisease             int64\n",
       "ChronicCond_Cancer                    int64\n",
       "ChronicCond_ObstrPulmonary            int64\n",
       "ChronicCond_Depression                int64\n",
       "ChronicCond_Diabetes                  int64\n",
       "ChronicCond_IschemicHeart             int64\n",
       "ChronicCond_Osteoporasis              int64\n",
       "ChronicCond_rheumatoidarthritis       int64\n",
       "ChronicCond_stroke                    int64\n",
       "IPAnnualReimbursementAmt              int64\n",
       "IPAnnualDeductibleAmt                 int64\n",
       "OPAnnualReimbursementAmt              int64\n",
       "OPAnnualDeductibleAmt                 int64\n",
       "PotentialFraud                     category\n",
       "No_of_claimdays                       int64\n",
       "Days_in_Hospital                      int64\n",
       "Age                                   int64\n",
       "BinnedDiagnosisGroupCode              int64\n",
       "BinnedClmAdmitDiagnosisCode           int64\n",
       "BinnedClmDiagnosisCode_1              int64\n",
       "BinnedClmDiagnosisCode_2              int64\n",
       "BinnedClmDiagnosisCode_3              int64\n",
       "BinnedClmDiagnosisCode_4              int64\n",
       "BinnedClmDiagnosisCode_5              int64\n",
       "BinnedClmDiagnosisCode_6              int64\n",
       "BinnedClmDiagnosisCode_7              int64\n",
       "BinnedClmDiagnosisCode_8              int64\n",
       "BinnedClmDiagnosisCode_9              int64\n",
       "BinnedClmDiagnosisCode_10             int64\n",
       "dtype: object"
      ]
     },
     "execution_count": 111,
     "metadata": {},
     "output_type": "execute_result"
    }
   ],
   "source": [
    "finaltraindata1.dtypes"
   ]
  },
  {
   "cell_type": "markdown",
   "metadata": {},
   "source": [
    "### Aggregating all the records w.r.t to the provider"
   ]
  },
  {
   "cell_type": "code",
   "execution_count": 112,
   "metadata": {},
   "outputs": [],
   "source": [
    "finaltrain1 = finaltraindata[['Provider','PotentialFraud']]"
   ]
  },
  {
   "cell_type": "code",
   "execution_count": 113,
   "metadata": {},
   "outputs": [],
   "source": [
    "finaltraindata1 = finaltraindata1.drop(['PotentialFraud'],axis=1)"
   ]
  },
  {
   "cell_type": "code",
   "execution_count": 114,
   "metadata": {},
   "outputs": [],
   "source": [
    "finaltraindata2 = finaltraindata1.groupby(['Provider']).sum()"
   ]
  },
  {
   "cell_type": "code",
   "execution_count": 115,
   "metadata": {},
   "outputs": [],
   "source": [
    "finaltrain1 = pd.DataFrame(finaltrain1.groupby(['Provider']).PotentialFraud.apply(lambda x: x.mode().iloc[0]))"
   ]
  },
  {
   "cell_type": "code",
   "execution_count": 116,
   "metadata": {},
   "outputs": [],
   "source": [
    "finaltraindata3 = pd.merge(finaltrain1,finaltraindata2,how='inner',on=['Provider'])"
   ]
  },
  {
   "cell_type": "code",
   "execution_count": 117,
   "metadata": {},
   "outputs": [
    {
     "data": {
      "text/plain": [
       "(5410, 40)"
      ]
     },
     "execution_count": 117,
     "metadata": {},
     "output_type": "execute_result"
    }
   ],
   "source": [
    "finaltraindata3.shape"
   ]
  },
  {
   "cell_type": "code",
   "execution_count": 118,
   "metadata": {},
   "outputs": [],
   "source": [
    "for i in lis:\n",
    "    le.fit(finaltestdata1[i])\n",
    "    finaltestdata1[i]=le.fit_transform(finaltestdata1[i])"
   ]
  },
  {
   "cell_type": "code",
   "execution_count": 119,
   "metadata": {},
   "outputs": [
    {
     "data": {
      "text/plain": [
       "DeductibleAmtPaid                     int64\n",
       "InscClaimAmtReimbursed                int64\n",
       "Provider                           category\n",
       "Gender                                int64\n",
       "Race                                  int64\n",
       "RenalDiseaseIndicator                 int32\n",
       "State                                 int64\n",
       "County                                int64\n",
       "NoOfMonths_PartACov                   int64\n",
       "NoOfMonths_PartBCov                   int64\n",
       "ChronicCond_Alzheimer                 int64\n",
       "ChronicCond_Heartfailure              int64\n",
       "ChronicCond_KidneyDisease             int64\n",
       "ChronicCond_Cancer                    int64\n",
       "ChronicCond_ObstrPulmonary            int64\n",
       "ChronicCond_Depression                int64\n",
       "ChronicCond_Diabetes                  int64\n",
       "ChronicCond_IschemicHeart             int64\n",
       "ChronicCond_Osteoporasis              int64\n",
       "ChronicCond_rheumatoidarthritis       int64\n",
       "ChronicCond_stroke                    int64\n",
       "IPAnnualReimbursementAmt              int64\n",
       "IPAnnualDeductibleAmt                 int64\n",
       "OPAnnualReimbursementAmt              int64\n",
       "OPAnnualDeductibleAmt                 int64\n",
       "No_of_claimdays                       int64\n",
       "Days_in_Hospital                      int64\n",
       "Age                                   int64\n",
       "BinnedDiagnosisGroupCode              int64\n",
       "BinnedClmAdmitDiagnosisCode           int64\n",
       "BinnedClmDiagnosisCode_1              int64\n",
       "BinnedClmDiagnosisCode_2              int64\n",
       "BinnedClmDiagnosisCode_3              int64\n",
       "BinnedClmDiagnosisCode_4              int64\n",
       "BinnedClmDiagnosisCode_5              int64\n",
       "BinnedClmDiagnosisCode_6              int64\n",
       "BinnedClmDiagnosisCode_7              int64\n",
       "BinnedClmDiagnosisCode_8              int64\n",
       "BinnedClmDiagnosisCode_9              int64\n",
       "BinnedClmDiagnosisCode_10             int64\n",
       "dtype: object"
      ]
     },
     "execution_count": 119,
     "metadata": {},
     "output_type": "execute_result"
    }
   ],
   "source": [
    "finaltestdata1.dtypes"
   ]
  },
  {
   "cell_type": "code",
   "execution_count": 120,
   "metadata": {},
   "outputs": [],
   "source": [
    "finaltestdata3 = finaltestdata1.groupby(['Provider']).sum()"
   ]
  },
  {
   "cell_type": "code",
   "execution_count": 121,
   "metadata": {},
   "outputs": [
    {
     "data": {
      "text/plain": [
       "(1353, 39)"
      ]
     },
     "execution_count": 121,
     "metadata": {},
     "output_type": "execute_result"
    }
   ],
   "source": [
    "finaltestdata3.shape"
   ]
  },
  {
   "cell_type": "markdown",
   "metadata": {},
   "source": [
    "### Model Building "
   ]
  },
  {
   "cell_type": "code",
   "execution_count": 122,
   "metadata": {},
   "outputs": [],
   "source": [
    "y= finaltraindata3['PotentialFraud']\n",
    "X= finaltraindata3.drop('PotentialFraud',axis=1)\n",
    "X_test1 = finaltestdata3\n",
    "from sklearn.model_selection import train_test_split\n",
    "X_train,X_test,y_train,y_test=train_test_split(X,y,test_size=0.20)"
   ]
  },
  {
   "cell_type": "code",
   "execution_count": 123,
   "metadata": {},
   "outputs": [],
   "source": [
    "from sklearn.preprocessing import StandardScaler\n",
    "scaler=StandardScaler()\n",
    "scaler.fit(X_train)\n",
    "X_train=scaler.transform(X_train)\n",
    "X_test=scaler.transform(X_test)"
   ]
  },
  {
   "cell_type": "code",
   "execution_count": 124,
   "metadata": {},
   "outputs": [
    {
     "name": "stdout",
     "output_type": "stream",
     "text": [
      "(4328, 39)\n",
      "(1082, 39)\n",
      "(4328,)\n",
      "(4328,)\n",
      "(1353, 39)\n"
     ]
    }
   ],
   "source": [
    "print(X_train.shape)\n",
    "print(X_test.shape)\n",
    "print(y_train.shape)\n",
    "print(y_train.shape)\n",
    "print(X_test1.shape)"
   ]
  },
  {
   "cell_type": "markdown",
   "metadata": {},
   "source": [
    "### Smoting the data to reduce the class imbalance"
   ]
  },
  {
   "cell_type": "code",
   "execution_count": 125,
   "metadata": {},
   "outputs": [],
   "source": [
    "from imblearn.over_sampling import SMOTE"
   ]
  },
  {
   "cell_type": "code",
   "execution_count": 126,
   "metadata": {},
   "outputs": [
    {
     "name": "stdout",
     "output_type": "stream",
     "text": [
      "Before OverSampling, counts of label 'No': 3915\n",
      "Before OverSampling, counts of label 'Yes': 413 \n",
      "\n",
      "After OverSampling, the shape of train_X: (7830, 39)\n",
      "After OverSampling, the shape of train_y: (7830,) \n",
      "\n",
      "After OverSampling, counts of label 'No': 3915\n",
      "After OverSampling, counts of label 'Yes': 3915\n"
     ]
    }
   ],
   "source": [
    "print(\"Before OverSampling, counts of label 'No': {}\".format(sum(y_train=='No')))\n",
    "print(\"Before OverSampling, counts of label 'Yes': {} \\n\".format(sum(y_train=='Yes')))\n",
    "\n",
    "sm = SMOTE(random_state=2)\n",
    "X_train, y_train = sm.fit_sample(X_train, y_train.ravel())\n",
    "\n",
    "print('After OverSampling, the shape of train_X: {}'.format(X_train.shape))\n",
    "print('After OverSampling, the shape of train_y: {} \\n'.format(y_train.shape))\n",
    "\n",
    "print(\"After OverSampling, counts of label 'No': {}\".format(sum(y_train=='No')))\n",
    "print(\"After OverSampling, counts of label 'Yes': {}\".format(sum(y_train=='Yes')))"
   ]
  },
  {
   "cell_type": "markdown",
   "metadata": {},
   "source": [
    "### Logistic Regression "
   ]
  },
  {
   "cell_type": "code",
   "execution_count": 127,
   "metadata": {},
   "outputs": [],
   "source": [
    "from sklearn.utils import class_weight\n",
    "class_weight = {\"No\": 1.,\"Yes\": 9.}"
   ]
  },
  {
   "cell_type": "code",
   "execution_count": 128,
   "metadata": {},
   "outputs": [],
   "source": [
    "from sklearn.linear_model import LogisticRegression\n",
    "from sklearn.model_selection import GridSearchCV,KFold"
   ]
  },
  {
   "cell_type": "code",
   "execution_count": 129,
   "metadata": {},
   "outputs": [
    {
     "name": "stdout",
     "output_type": "stream",
     "text": [
      "Fitting 5 folds for each of 10 candidates, totalling 50 fits\n"
     ]
    },
    {
     "name": "stderr",
     "output_type": "stream",
     "text": [
      "[Parallel(n_jobs=3)]: Using backend LokyBackend with 3 concurrent workers.\n",
      "[Parallel(n_jobs=3)]: Done  12 tasks      | elapsed:    2.8s\n",
      "[Parallel(n_jobs=3)]: Done  50 out of  50 | elapsed:    5.2s finished\n"
     ]
    },
    {
     "data": {
      "text/plain": [
       "GridSearchCV(cv=5, error_score='raise-deprecating',\n",
       "       estimator=LogisticRegression(C=1.0, class_weight=None, dual=False, fit_intercept=True,\n",
       "          intercept_scaling=1, max_iter=100, multi_class='warn',\n",
       "          n_jobs=None, penalty='l2', random_state=None, solver='warn',\n",
       "          tol=0.0001, verbose=0, warm_start=False),\n",
       "       fit_params=None, iid='warn', n_jobs=3,\n",
       "       param_grid={'C': array([ 1.,  2.,  3.,  4.,  5.,  6.,  7.,  8.,  9., 10.])},\n",
       "       pre_dispatch='2*n_jobs', refit=True, return_train_score='warn',\n",
       "       scoring=None, verbose=5)"
      ]
     },
     "execution_count": 129,
     "metadata": {},
     "output_type": "execute_result"
    }
   ],
   "source": [
    "parameters = {\n",
    "    'C': np.linspace(1, 10, 10)\n",
    "             }\n",
    "lr = LogisticRegression()\n",
    "model = GridSearchCV(lr, parameters, cv=5, verbose=5, n_jobs=3)\n",
    "model.fit(X_train, y_train)"
   ]
  },
  {
   "cell_type": "code",
   "execution_count": 130,
   "metadata": {},
   "outputs": [],
   "source": [
    "from sklearn.metrics import accuracy_score,classification_report,confusion_matrix"
   ]
  },
  {
   "cell_type": "code",
   "execution_count": 131,
   "metadata": {},
   "outputs": [
    {
     "name": "stdout",
     "output_type": "stream",
     "text": [
      "0.8661558109833972\n",
      "              precision    recall  f1-score   support\n",
      "\n",
      "          No     0.8353    0.9121    0.8720      3915\n",
      "         Yes     0.9032    0.8202    0.8597      3915\n",
      "\n",
      "   micro avg     0.8662    0.8662    0.8662      7830\n",
      "   macro avg     0.8693    0.8662    0.8659      7830\n",
      "weighted avg     0.8693    0.8662    0.8659      7830\n",
      "\n"
     ]
    }
   ],
   "source": [
    "x_pred1=model.predict(X_train)\n",
    "print(accuracy_score(y_train,x_pred1))\n",
    "print(classification_report(y_train,x_pred1,digits=4))"
   ]
  },
  {
   "cell_type": "code",
   "execution_count": 132,
   "metadata": {},
   "outputs": [
    {
     "name": "stdout",
     "output_type": "stream",
     "text": [
      "0.8974121996303143\n",
      "              precision    recall  f1-score   support\n",
      "\n",
      "          No     0.9751    0.9110    0.9420       989\n",
      "         Yes     0.4430    0.7527    0.5578        93\n",
      "\n",
      "   micro avg     0.8974    0.8974    0.8974      1082\n",
      "   macro avg     0.7091    0.8319    0.7499      1082\n",
      "weighted avg     0.9294    0.8974    0.9090      1082\n",
      "\n"
     ]
    }
   ],
   "source": [
    "y_pred1=model.predict(X_test)\n",
    "print(accuracy_score(y_test,y_pred1))\n",
    "print(classification_report(y_test,y_pred1,digits=4))"
   ]
  },
  {
   "cell_type": "markdown",
   "metadata": {},
   "source": [
    "### SVM"
   ]
  },
  {
   "cell_type": "code",
   "execution_count": 133,
   "metadata": {},
   "outputs": [],
   "source": [
    "from sklearn.svm import SVC\n",
    "svm= SVC(C=1.0,kernel='linear',class_weight='balanced',probability=True)"
   ]
  },
  {
   "cell_type": "code",
   "execution_count": 134,
   "metadata": {},
   "outputs": [
    {
     "data": {
      "text/plain": [
       "SVC(C=1.0, cache_size=200, class_weight='balanced', coef0=0.0,\n",
       "  decision_function_shape='ovr', degree=3, gamma='auto_deprecated',\n",
       "  kernel='linear', max_iter=-1, probability=True, random_state=None,\n",
       "  shrinking=True, tol=0.001, verbose=False)"
      ]
     },
     "execution_count": 134,
     "metadata": {},
     "output_type": "execute_result"
    }
   ],
   "source": [
    "svm.fit(X_train, y_train)"
   ]
  },
  {
   "cell_type": "code",
   "execution_count": 135,
   "metadata": {},
   "outputs": [],
   "source": [
    "y_pred2 = svm.predict(X_test)\n",
    "x_pred2= svm.predict(X_train)"
   ]
  },
  {
   "cell_type": "code",
   "execution_count": 136,
   "metadata": {},
   "outputs": [
    {
     "name": "stdout",
     "output_type": "stream",
     "text": [
      "0.8750957854406131\n",
      "              precision    recall  f1-score   support\n",
      "\n",
      "          No     0.8595    0.8968    0.8777      3915\n",
      "         Yes     0.8921    0.8534    0.8723      3915\n",
      "\n",
      "   micro avg     0.8751    0.8751    0.8751      7830\n",
      "   macro avg     0.8758    0.8751    0.8750      7830\n",
      "weighted avg     0.8758    0.8751    0.8750      7830\n",
      "\n"
     ]
    }
   ],
   "source": [
    "print(accuracy_score(y_train, x_pred2))\n",
    "print(classification_report(y_train,x_pred2,digits=4))"
   ]
  },
  {
   "cell_type": "code",
   "execution_count": 137,
   "metadata": {},
   "outputs": [
    {
     "name": "stdout",
     "output_type": "stream",
     "text": [
      "0.8881700554528651\n",
      "              precision    recall  f1-score   support\n",
      "\n",
      "          No     0.9769    0.8989    0.9363       989\n",
      "         Yes     0.4186    0.7742    0.5434        93\n",
      "\n",
      "   micro avg     0.8882    0.8882    0.8882      1082\n",
      "   macro avg     0.6978    0.8365    0.7398      1082\n",
      "weighted avg     0.9289    0.8882    0.9025      1082\n",
      "\n"
     ]
    }
   ],
   "source": [
    "print(accuracy_score(y_test,y_pred2))\n",
    "print(classification_report(y_test,y_pred2,digits=4))"
   ]
  },
  {
   "cell_type": "markdown",
   "metadata": {},
   "source": [
    "### Random Forest"
   ]
  },
  {
   "cell_type": "code",
   "execution_count": 138,
   "metadata": {},
   "outputs": [
    {
     "data": {
      "text/plain": [
       "RandomForestClassifier(bootstrap=True, class_weight={'No': 1.0, 'Yes': 9.0},\n",
       "            criterion='gini', max_depth=None, max_features='auto',\n",
       "            max_leaf_nodes=None, min_impurity_decrease=0.0,\n",
       "            min_impurity_split=None, min_samples_leaf=3,\n",
       "            min_samples_split=2, min_weight_fraction_leaf=0.0,\n",
       "            n_estimators=230, n_jobs=None, oob_score=True,\n",
       "            random_state=None, verbose=0, warm_start=False)"
      ]
     },
     "execution_count": 138,
     "metadata": {},
     "output_type": "execute_result"
    }
   ],
   "source": [
    "from sklearn.ensemble import RandomForestClassifier\n",
    "rfclf=RandomForestClassifier(n_estimators=230,oob_score=True, min_samples_leaf=3,class_weight=class_weight)## no. of trees\n",
    "rfclf"
   ]
  },
  {
   "cell_type": "code",
   "execution_count": 139,
   "metadata": {},
   "outputs": [
    {
     "name": "stdout",
     "output_type": "stream",
     "text": [
      "Wall time: 6.77 s\n"
     ]
    },
    {
     "data": {
      "text/plain": [
       "RandomForestClassifier(bootstrap=True, class_weight={'No': 1.0, 'Yes': 9.0},\n",
       "            criterion='gini', max_depth=None, max_features='auto',\n",
       "            max_leaf_nodes=None, min_impurity_decrease=0.0,\n",
       "            min_impurity_split=None, min_samples_leaf=3,\n",
       "            min_samples_split=2, min_weight_fraction_leaf=0.0,\n",
       "            n_estimators=230, n_jobs=None, oob_score=True,\n",
       "            random_state=None, verbose=0, warm_start=False)"
      ]
     },
     "execution_count": 139,
     "metadata": {},
     "output_type": "execute_result"
    }
   ],
   "source": [
    "%time rfclf.fit(X_train,y_train)"
   ]
  },
  {
   "cell_type": "code",
   "execution_count": 140,
   "metadata": {},
   "outputs": [
    {
     "name": "stdout",
     "output_type": "stream",
     "text": [
      "0.975095785440613\n",
      "              precision    recall  f1-score   support\n",
      "\n",
      "          No     1.0000    0.9502    0.9745      3915\n",
      "         Yes     0.9526    1.0000    0.9757      3915\n",
      "\n",
      "   micro avg     0.9751    0.9751    0.9751      7830\n",
      "   macro avg     0.9763    0.9751    0.9751      7830\n",
      "weighted avg     0.9763    0.9751    0.9751      7830\n",
      "\n"
     ]
    }
   ],
   "source": [
    "x_pred3=rfclf.predict(X_train)\n",
    "print(accuracy_score(y_train,x_pred3))\n",
    "print(classification_report(y_train,x_pred3,digits=4))"
   ]
  },
  {
   "cell_type": "code",
   "execution_count": 141,
   "metadata": {},
   "outputs": [
    {
     "name": "stdout",
     "output_type": "stream",
     "text": [
      "0.8835489833641405\n",
      "              precision    recall  f1-score   support\n",
      "\n",
      "          No     0.9716    0.8989    0.9338       989\n",
      "         Yes     0.4012    0.7204    0.5154        93\n",
      "\n",
      "   micro avg     0.8835    0.8835    0.8835      1082\n",
      "   macro avg     0.6864    0.8097    0.7246      1082\n",
      "weighted avg     0.9226    0.8835    0.8979      1082\n",
      "\n"
     ]
    }
   ],
   "source": [
    "y_pred3=rfclf.predict(X_test)\n",
    "from sklearn.metrics import accuracy_score,classification_report,confusion_matrix\n",
    "print(accuracy_score(y_test,y_pred3))\n",
    "print(classification_report(y_test,y_pred3,digits=4))"
   ]
  },
  {
   "cell_type": "code",
   "execution_count": 142,
   "metadata": {},
   "outputs": [
    {
     "data": {
      "text/plain": [
       "Text(0.5,1,'Random Forest Variable Importance Plot')"
      ]
     },
     "execution_count": 142,
     "metadata": {},
     "output_type": "execute_result"
    },
    {
     "data": {
      "image/png": "[encoded data removed]",
      "text/plain": [
       "<Figure size 864x576 with 1 Axes>"
      ]
     },
     "metadata": {},
     "output_type": "display_data"
    }
   ],
   "source": [
    "importances=pd.Series(rfclf.feature_importances_, index=X.columns)\n",
    "importances.plot(kind='barh', figsize=(12,8))\n",
    "plt.title(\"Random Forest Variable Importance Plot\")"
   ]
  },
  {
   "cell_type": "markdown",
   "metadata": {},
   "source": [
    "### Random Forest with GridSearch"
   ]
  },
  {
   "cell_type": "code",
   "execution_count": 143,
   "metadata": {},
   "outputs": [
    {
     "name": "stdout",
     "output_type": "stream",
     "text": [
      "0.929757343550447 {'max_depth': 8, 'min_samples_leaf': 2, 'n_estimators': 150}\n"
     ]
    }
   ],
   "source": [
    "from sklearn.model_selection import GridSearchCV\n",
    "rfc= RandomForestClassifier(n_jobs=-1,max_features='sqrt')\n",
    "\n",
    "## Use a grid over parameter of interest\n",
    "param_grid={\n",
    "            \"n_estimators\" : [50,80,100,150,200],\n",
    "            \"max_depth\" : [3,5,8],\n",
    "            \"min_samples_leaf\": [2,4]}\n",
    "CV_rfc= GridSearchCV(estimator=rfc,param_grid=param_grid,cv=10)\n",
    "CV_rfc.fit(X=X_train,y=y_train)\n",
    "print(CV_rfc.best_score_,CV_rfc.best_params_)"
   ]
  },
  {
   "cell_type": "code",
   "execution_count": 144,
   "metadata": {},
   "outputs": [
    {
     "name": "stdout",
     "output_type": "stream",
     "text": [
      "0.9528735632183908\n",
      "              precision    recall  f1-score   support\n",
      "\n",
      "          No     0.9831    0.9216    0.9514      3915\n",
      "         Yes     0.9262    0.9842    0.9543      3915\n",
      "\n",
      "   micro avg     0.9529    0.9529    0.9529      7830\n",
      "   macro avg     0.9547    0.9529    0.9528      7830\n",
      "weighted avg     0.9547    0.9529    0.9528      7830\n",
      "\n"
     ]
    }
   ],
   "source": [
    "x_pred4=CV_rfc.predict(X_train)\n",
    "from sklearn.metrics import accuracy_score,classification_report,confusion_matrix\n",
    "print(accuracy_score(y_train,x_pred4))\n",
    "print(classification_report(y_train,x_pred4,digits=4))"
   ]
  },
  {
   "cell_type": "code",
   "execution_count": 145,
   "metadata": {},
   "outputs": [
    {
     "name": "stdout",
     "output_type": "stream",
     "text": [
      "0.8844731977818854\n",
      "              precision    recall  f1-score   support\n",
      "\n",
      "          No     0.9747    0.8969    0.9342       989\n",
      "         Yes     0.4070    0.7527    0.5283        93\n",
      "\n",
      "   micro avg     0.8845    0.8845    0.8845      1082\n",
      "   macro avg     0.6909    0.8248    0.7312      1082\n",
      "weighted avg     0.9259    0.8845    0.8993      1082\n",
      "\n"
     ]
    }
   ],
   "source": [
    "y_pred4=CV_rfc.predict(X_test)\n",
    "from sklearn.metrics import accuracy_score,classification_report,confusion_matrix\n",
    "print(accuracy_score(y_test,y_pred4))\n",
    "print(classification_report(y_test,y_pred4,digits=4))"
   ]
  },
  {
   "cell_type": "markdown",
   "metadata": {},
   "source": [
    "### Naive-Bayes"
   ]
  },
  {
   "cell_type": "code",
   "execution_count": 146,
   "metadata": {},
   "outputs": [],
   "source": [
    "from sklearn.naive_bayes import GaussianNB"
   ]
  },
  {
   "cell_type": "code",
   "execution_count": 147,
   "metadata": {},
   "outputs": [
    {
     "data": {
      "text/plain": [
       "GaussianNB(priors=None, var_smoothing=1e-09)"
      ]
     },
     "execution_count": 147,
     "metadata": {},
     "output_type": "execute_result"
    }
   ],
   "source": [
    "nbclf = GaussianNB()\n",
    "nbclf.fit(X_train, y_train)"
   ]
  },
  {
   "cell_type": "code",
   "execution_count": 148,
   "metadata": {},
   "outputs": [
    {
     "name": "stdout",
     "output_type": "stream",
     "text": [
      "0.7241379310344828\n",
      "              precision    recall  f1-score   support\n",
      "\n",
      "          No     0.6547    0.9487    0.7747      3915\n",
      "         Yes     0.9068    0.4996    0.6443      3915\n",
      "\n",
      "   micro avg     0.7241    0.7241    0.7241      7830\n",
      "   macro avg     0.7807    0.7241    0.7095      7830\n",
      "weighted avg     0.7807    0.7241    0.7095      7830\n",
      "\n"
     ]
    }
   ],
   "source": [
    "x_pred5 = nbclf.predict(X_train)\n",
    "print(accuracy_score(y_train, x_pred5))\n",
    "print(classification_report(y_train,x_pred5,digits=4))"
   ]
  },
  {
   "cell_type": "code",
   "execution_count": 149,
   "metadata": {},
   "outputs": [
    {
     "name": "stdout",
     "output_type": "stream",
     "text": [
      "0.9131238447319778\n",
      "              precision    recall  f1-score   support\n",
      "\n",
      "          No     0.9552    0.9494    0.9523       989\n",
      "         Yes     0.4949    0.5269    0.5104        93\n",
      "\n",
      "   micro avg     0.9131    0.9131    0.9131      1082\n",
      "   macro avg     0.7251    0.7382    0.7314      1082\n",
      "weighted avg     0.9157    0.9131    0.9143      1082\n",
      "\n"
     ]
    }
   ],
   "source": [
    "y_pred5 = nbclf.predict(X_test)\n",
    "print(accuracy_score(y_test,y_pred5))\n",
    "print(classification_report(y_test,y_pred5,digits=4))"
   ]
  },
  {
   "cell_type": "markdown",
   "metadata": {},
   "source": [
    "### Decision Tree"
   ]
  },
  {
   "cell_type": "code",
   "execution_count": 150,
   "metadata": {},
   "outputs": [],
   "source": [
    "from sklearn.tree import DecisionTreeClassifier"
   ]
  },
  {
   "cell_type": "code",
   "execution_count": 151,
   "metadata": {},
   "outputs": [],
   "source": [
    "dtclf=DecisionTreeClassifier(max_depth=8,max_features='sqrt',class_weight=\"balanced\")"
   ]
  },
  {
   "cell_type": "code",
   "execution_count": 152,
   "metadata": {},
   "outputs": [
    {
     "name": "stdout",
     "output_type": "stream",
     "text": [
      "Wall time: 44 ms\n"
     ]
    }
   ],
   "source": [
    "%time model = dtclf.fit(X_train, y_train)"
   ]
  },
  {
   "cell_type": "code",
   "execution_count": 153,
   "metadata": {},
   "outputs": [
    {
     "name": "stdout",
     "output_type": "stream",
     "text": [
      "0.9288633461047254\n",
      "              precision    recall  f1-score   support\n",
      "\n",
      "          No     0.9773    0.8782    0.9251      3915\n",
      "         Yes     0.8894    0.9796    0.9323      3915\n",
      "\n",
      "   micro avg     0.9289    0.9289    0.9289      7830\n",
      "   macro avg     0.9333    0.9289    0.9287      7830\n",
      "weighted avg     0.9333    0.9289    0.9287      7830\n",
      "\n"
     ]
    }
   ],
   "source": [
    "x_pred6= dtclf.predict(X_train)\n",
    "print(accuracy_score(y_train, x_pred6))\n",
    "print(classification_report(y_train,x_pred6,digits=4))"
   ]
  },
  {
   "cell_type": "code",
   "execution_count": 154,
   "metadata": {},
   "outputs": [
    {
     "name": "stdout",
     "output_type": "stream",
     "text": [
      "0.8438077634011091\n",
      "              precision    recall  f1-score   support\n",
      "\n",
      "          No     0.9756    0.8504    0.9087       989\n",
      "         Yes     0.3273    0.7742    0.4601        93\n",
      "\n",
      "   micro avg     0.8438    0.8438    0.8438      1082\n",
      "   macro avg     0.6515    0.8123    0.6844      1082\n",
      "weighted avg     0.9199    0.8438    0.8701      1082\n",
      "\n"
     ]
    }
   ],
   "source": [
    "y_pred6 = dtclf.predict(X_test)\n",
    "print(accuracy_score(y_test,y_pred6))\n",
    "print(classification_report(y_test,y_pred6,digits=4))"
   ]
  },
  {
   "cell_type": "markdown",
   "metadata": {},
   "source": [
    "### XGB"
   ]
  },
  {
   "cell_type": "code",
   "execution_count": 155,
   "metadata": {},
   "outputs": [],
   "source": [
    "from xgboost import XGBClassifier\n",
    "XGB = XGBClassifier(colsample_bytree=0.5,n_estimators=230,booster='gbtree',max_depth=3)"
   ]
  },
  {
   "cell_type": "code",
   "execution_count": 156,
   "metadata": {},
   "outputs": [
    {
     "name": "stdout",
     "output_type": "stream",
     "text": [
      "Wall time: 1.68 s\n"
     ]
    },
    {
     "data": {
      "text/plain": [
       "XGBClassifier(base_score=0.5, booster='gbtree', colsample_bylevel=1,\n",
       "       colsample_bytree=0.5, gamma=0, learning_rate=0.1, max_delta_step=0,\n",
       "       max_depth=3, min_child_weight=1, missing=None, n_estimators=230,\n",
       "       n_jobs=1, nthread=None, objective='binary:logistic', random_state=0,\n",
       "       reg_alpha=0, reg_lambda=1, scale_pos_weight=1, seed=None,\n",
       "       silent=True, subsample=1)"
      ]
     },
     "execution_count": 156,
     "metadata": {},
     "output_type": "execute_result"
    }
   ],
   "source": [
    "%time XGB.fit(X_train, y_train)"
   ]
  },
  {
   "cell_type": "code",
   "execution_count": 157,
   "metadata": {},
   "outputs": [
    {
     "name": "stdout",
     "output_type": "stream",
     "text": [
      "0.958109833971903\n",
      "              precision    recall  f1-score   support\n",
      "\n",
      "          No     0.9833    0.9321    0.9570      3915\n",
      "         Yes     0.9354    0.9842    0.9592      3915\n",
      "\n",
      "   micro avg     0.9581    0.9581    0.9581      7830\n",
      "   macro avg     0.9594    0.9581    0.9581      7830\n",
      "weighted avg     0.9594    0.9581    0.9581      7830\n",
      "\n"
     ]
    }
   ],
   "source": [
    "x_pred7 = XGB.predict(X_train)\n",
    "print(accuracy_score(y_train,x_pred7))\n",
    "print(classification_report(y_train,x_pred7,digits=4))"
   ]
  },
  {
   "cell_type": "code",
   "execution_count": 158,
   "metadata": {},
   "outputs": [
    {
     "name": "stdout",
     "output_type": "stream",
     "text": [
      "0.8918669131238447\n",
      "              precision    recall  f1-score   support\n",
      "\n",
      "          No     0.9708    0.9090    0.9389       989\n",
      "         Yes     0.4231    0.7097    0.5301        93\n",
      "\n",
      "   micro avg     0.8919    0.8919    0.8919      1082\n",
      "   macro avg     0.6970    0.8093    0.7345      1082\n",
      "weighted avg     0.9238    0.8919    0.9038      1082\n",
      "\n"
     ]
    }
   ],
   "source": [
    "y_pred7 = XGB.predict(X_test)\n",
    "print(accuracy_score(y_test, y_pred7))\n",
    "print(classification_report(y_test,y_pred7,digits=4))"
   ]
  },
  {
   "cell_type": "markdown",
   "metadata": {},
   "source": [
    "### XGB with Grid Search"
   ]
  },
  {
   "cell_type": "code",
   "execution_count": 159,
   "metadata": {},
   "outputs": [],
   "source": [
    "from sklearn.model_selection import GridSearchCV\n",
    "XGB = XGBClassifier(n_jobs=-1)\n",
    " \n",
    "# Use a grid over parameters of interest\n",
    "param_grid = {\n",
    "     'colsample_bytree': np.linspace(0.5, 0.9, 5),\n",
    "     'n_estimators':[200,500],\n",
    "     'max_depth': [15]\n",
    "}\n",
    "\n",
    " \n",
    "CV_XGB = GridSearchCV(estimator=XGB, param_grid=param_grid, cv=3)"
   ]
  },
  {
   "cell_type": "code",
   "execution_count": 160,
   "metadata": {},
   "outputs": [
    {
     "name": "stdout",
     "output_type": "stream",
     "text": [
      "Wall time: 3min 54s\n"
     ]
    },
    {
     "data": {
      "text/plain": [
       "GridSearchCV(cv=3, error_score='raise-deprecating',\n",
       "       estimator=XGBClassifier(base_score=0.5, booster='gbtree', colsample_bylevel=1,\n",
       "       colsample_bytree=1, gamma=0, learning_rate=0.1, max_delta_step=0,\n",
       "       max_depth=3, min_child_weight=1, missing=None, n_estimators=100,\n",
       "       n_jobs=-1, nthread=None, objective='binary:logistic',\n",
       "       random_state=0, reg_alpha=0, reg_lambda=1, scale_pos_weight=1,\n",
       "       seed=None, silent=True, subsample=1),\n",
       "       fit_params=None, iid='warn', n_jobs=None,\n",
       "       param_grid={'colsample_bytree': array([0.5, 0.6, 0.7, 0.8, 0.9]), 'n_estimators': [200, 500], 'max_depth': [15]},\n",
       "       pre_dispatch='2*n_jobs', refit=True, return_train_score='warn',\n",
       "       scoring=None, verbose=0)"
      ]
     },
     "execution_count": 160,
     "metadata": {},
     "output_type": "execute_result"
    }
   ],
   "source": [
    "%time CV_XGB.fit(X=X_train, y=y_train)"
   ]
  },
  {
   "cell_type": "code",
   "execution_count": 161,
   "metadata": {},
   "outputs": [
    {
     "name": "stdout",
     "output_type": "stream",
     "text": [
      "0.9565772669220945 {'colsample_bytree': 0.6, 'max_depth': 15, 'n_estimators': 500}\n"
     ]
    }
   ],
   "source": [
    "print(CV_XGB.best_score_,CV_XGB.best_params_)"
   ]
  },
  {
   "cell_type": "code",
   "execution_count": 162,
   "metadata": {},
   "outputs": [
    {
     "name": "stdout",
     "output_type": "stream",
     "text": [
      "1.0\n",
      "              precision    recall  f1-score   support\n",
      "\n",
      "          No     1.0000    1.0000    1.0000      3915\n",
      "         Yes     1.0000    1.0000    1.0000      3915\n",
      "\n",
      "   micro avg     1.0000    1.0000    1.0000      7830\n",
      "   macro avg     1.0000    1.0000    1.0000      7830\n",
      "weighted avg     1.0000    1.0000    1.0000      7830\n",
      "\n"
     ]
    }
   ],
   "source": [
    "x_pred8 = CV_XGB.predict(X_train)\n",
    "print(accuracy_score(y_train,x_pred8))\n",
    "print(classification_report(y_train,x_pred8,digits=4))"
   ]
  },
  {
   "cell_type": "code",
   "execution_count": 163,
   "metadata": {},
   "outputs": [
    {
     "name": "stdout",
     "output_type": "stream",
     "text": [
      "0.910351201478743\n",
      "              precision    recall  f1-score   support\n",
      "\n",
      "          No     0.9627    0.9383    0.9503       989\n",
      "         Yes     0.4831    0.6129    0.5403        93\n",
      "\n",
      "   micro avg     0.9104    0.9104    0.9104      1082\n",
      "   macro avg     0.7229    0.7756    0.7453      1082\n",
      "weighted avg     0.9214    0.9104    0.9151      1082\n",
      "\n"
     ]
    }
   ],
   "source": [
    "y_pred8 = CV_XGB.predict(X_test)\n",
    "print(accuracy_score(y_test, y_pred8))\n",
    "print(classification_report(y_test,y_pred8,digits=4))"
   ]
  },
  {
   "cell_type": "markdown",
   "metadata": {},
   "source": [
    "### Stacked Model "
   ]
  },
  {
   "cell_type": "code",
   "execution_count": 164,
   "metadata": {},
   "outputs": [],
   "source": [
    "train_pred1=pd.DataFrame(x_pred1)\n",
    "test_pred1= pd.DataFrame(y_pred1)"
   ]
  },
  {
   "cell_type": "code",
   "execution_count": 165,
   "metadata": {},
   "outputs": [
    {
     "data": {
      "text/html": [
       "<div>\n",
       "<style scoped>\n",
       "    .dataframe tbody tr th:only-of-type {\n",
       "        vertical-align: middle;\n",
       "    }\n",
       "\n",
       "    .dataframe tbody tr th {\n",
       "        vertical-align: top;\n",
       "    }\n",
       "\n",
       "    .dataframe thead th {\n",
       "        text-align: right;\n",
       "    }\n",
       "</style>\n",
       "<table border=\"1\" class=\"dataframe\">\n",
       "  <thead>\n",
       "    <tr style=\"text-align: right;\">\n",
       "      <th></th>\n",
       "      <th>lgpred</th>\n",
       "    </tr>\n",
       "  </thead>\n",
       "  <tbody>\n",
       "    <tr>\n",
       "      <th>1077</th>\n",
       "      <td>No</td>\n",
       "    </tr>\n",
       "    <tr>\n",
       "      <th>1078</th>\n",
       "      <td>No</td>\n",
       "    </tr>\n",
       "    <tr>\n",
       "      <th>1079</th>\n",
       "      <td>Yes</td>\n",
       "    </tr>\n",
       "    <tr>\n",
       "      <th>1080</th>\n",
       "      <td>No</td>\n",
       "    </tr>\n",
       "    <tr>\n",
       "      <th>1081</th>\n",
       "      <td>No</td>\n",
       "    </tr>\n",
       "  </tbody>\n",
       "</table>\n",
       "</div>"
      ],
      "text/plain": [
       "     lgpred\n",
       "1077     No\n",
       "1078     No\n",
       "1079    Yes\n",
       "1080     No\n",
       "1081     No"
      ]
     },
     "execution_count": 165,
     "metadata": {},
     "output_type": "execute_result"
    }
   ],
   "source": [
    "test_pred1.columns = ['lgpred']\n",
    "train_pred1.columns = ['lgpred']\n",
    "test_pred1.tail(5)"
   ]
  },
  {
   "cell_type": "code",
   "execution_count": 166,
   "metadata": {},
   "outputs": [],
   "source": [
    "train_pred2=pd.DataFrame(x_pred2)\n",
    "test_pred2= pd.DataFrame(y_pred2)"
   ]
  },
  {
   "cell_type": "code",
   "execution_count": 167,
   "metadata": {},
   "outputs": [
    {
     "data": {
      "text/html": [
       "<div>\n",
       "<style scoped>\n",
       "    .dataframe tbody tr th:only-of-type {\n",
       "        vertical-align: middle;\n",
       "    }\n",
       "\n",
       "    .dataframe tbody tr th {\n",
       "        vertical-align: top;\n",
       "    }\n",
       "\n",
       "    .dataframe thead th {\n",
       "        text-align: right;\n",
       "    }\n",
       "</style>\n",
       "<table border=\"1\" class=\"dataframe\">\n",
       "  <thead>\n",
       "    <tr style=\"text-align: right;\">\n",
       "      <th></th>\n",
       "      <th>svmpred</th>\n",
       "    </tr>\n",
       "  </thead>\n",
       "  <tbody>\n",
       "    <tr>\n",
       "      <th>1077</th>\n",
       "      <td>No</td>\n",
       "    </tr>\n",
       "    <tr>\n",
       "      <th>1078</th>\n",
       "      <td>No</td>\n",
       "    </tr>\n",
       "    <tr>\n",
       "      <th>1079</th>\n",
       "      <td>Yes</td>\n",
       "    </tr>\n",
       "    <tr>\n",
       "      <th>1080</th>\n",
       "      <td>No</td>\n",
       "    </tr>\n",
       "    <tr>\n",
       "      <th>1081</th>\n",
       "      <td>No</td>\n",
       "    </tr>\n",
       "  </tbody>\n",
       "</table>\n",
       "</div>"
      ],
      "text/plain": [
       "     svmpred\n",
       "1077      No\n",
       "1078      No\n",
       "1079     Yes\n",
       "1080      No\n",
       "1081      No"
      ]
     },
     "execution_count": 167,
     "metadata": {},
     "output_type": "execute_result"
    }
   ],
   "source": [
    "test_pred2.columns = ['svmpred']\n",
    "train_pred2.columns = ['svmpred']\n",
    "test_pred2.tail(5)"
   ]
  },
  {
   "cell_type": "code",
   "execution_count": 168,
   "metadata": {},
   "outputs": [],
   "source": [
    "train_pred3=pd.DataFrame(x_pred3)\n",
    "test_pred3= pd.DataFrame(y_pred3)"
   ]
  },
  {
   "cell_type": "code",
   "execution_count": 169,
   "metadata": {},
   "outputs": [
    {
     "data": {
      "text/html": [
       "<div>\n",
       "<style scoped>\n",
       "    .dataframe tbody tr th:only-of-type {\n",
       "        vertical-align: middle;\n",
       "    }\n",
       "\n",
       "    .dataframe tbody tr th {\n",
       "        vertical-align: top;\n",
       "    }\n",
       "\n",
       "    .dataframe thead th {\n",
       "        text-align: right;\n",
       "    }\n",
       "</style>\n",
       "<table border=\"1\" class=\"dataframe\">\n",
       "  <thead>\n",
       "    <tr style=\"text-align: right;\">\n",
       "      <th></th>\n",
       "      <th>rfpred</th>\n",
       "    </tr>\n",
       "  </thead>\n",
       "  <tbody>\n",
       "    <tr>\n",
       "      <th>7825</th>\n",
       "      <td>Yes</td>\n",
       "    </tr>\n",
       "    <tr>\n",
       "      <th>7826</th>\n",
       "      <td>Yes</td>\n",
       "    </tr>\n",
       "    <tr>\n",
       "      <th>7827</th>\n",
       "      <td>Yes</td>\n",
       "    </tr>\n",
       "    <tr>\n",
       "      <th>7828</th>\n",
       "      <td>Yes</td>\n",
       "    </tr>\n",
       "    <tr>\n",
       "      <th>7829</th>\n",
       "      <td>Yes</td>\n",
       "    </tr>\n",
       "  </tbody>\n",
       "</table>\n",
       "</div>"
      ],
      "text/plain": [
       "     rfpred\n",
       "7825    Yes\n",
       "7826    Yes\n",
       "7827    Yes\n",
       "7828    Yes\n",
       "7829    Yes"
      ]
     },
     "execution_count": 169,
     "metadata": {},
     "output_type": "execute_result"
    }
   ],
   "source": [
    "train_pred3.columns = ['rfpred']\n",
    "test_pred3.columns = ['rfpred']\n",
    "train_pred3.tail(5)"
   ]
  },
  {
   "cell_type": "code",
   "execution_count": 170,
   "metadata": {},
   "outputs": [],
   "source": [
    "train_pred4=pd.DataFrame(x_pred5)\n",
    "test_pred4= pd.DataFrame(y_pred5)"
   ]
  },
  {
   "cell_type": "code",
   "execution_count": 171,
   "metadata": {},
   "outputs": [
    {
     "data": {
      "text/html": [
       "<div>\n",
       "<style scoped>\n",
       "    .dataframe tbody tr th:only-of-type {\n",
       "        vertical-align: middle;\n",
       "    }\n",
       "\n",
       "    .dataframe tbody tr th {\n",
       "        vertical-align: top;\n",
       "    }\n",
       "\n",
       "    .dataframe thead th {\n",
       "        text-align: right;\n",
       "    }\n",
       "</style>\n",
       "<table border=\"1\" class=\"dataframe\">\n",
       "  <thead>\n",
       "    <tr style=\"text-align: right;\">\n",
       "      <th></th>\n",
       "      <th>nbpred</th>\n",
       "    </tr>\n",
       "  </thead>\n",
       "  <tbody>\n",
       "    <tr>\n",
       "      <th>1077</th>\n",
       "      <td>No</td>\n",
       "    </tr>\n",
       "    <tr>\n",
       "      <th>1078</th>\n",
       "      <td>No</td>\n",
       "    </tr>\n",
       "    <tr>\n",
       "      <th>1079</th>\n",
       "      <td>No</td>\n",
       "    </tr>\n",
       "    <tr>\n",
       "      <th>1080</th>\n",
       "      <td>No</td>\n",
       "    </tr>\n",
       "    <tr>\n",
       "      <th>1081</th>\n",
       "      <td>No</td>\n",
       "    </tr>\n",
       "  </tbody>\n",
       "</table>\n",
       "</div>"
      ],
      "text/plain": [
       "     nbpred\n",
       "1077     No\n",
       "1078     No\n",
       "1079     No\n",
       "1080     No\n",
       "1081     No"
      ]
     },
     "execution_count": 171,
     "metadata": {},
     "output_type": "execute_result"
    }
   ],
   "source": [
    "test_pred4.columns = ['nbpred']\n",
    "train_pred4.columns = ['nbpred']\n",
    "test_pred4.tail(5)"
   ]
  },
  {
   "cell_type": "code",
   "execution_count": 172,
   "metadata": {},
   "outputs": [],
   "source": [
    "train_pred5=pd.DataFrame(x_pred6)\n",
    "test_pred5= pd.DataFrame(y_pred6)"
   ]
  },
  {
   "cell_type": "code",
   "execution_count": 173,
   "metadata": {},
   "outputs": [
    {
     "data": {
      "text/html": [
       "<div>\n",
       "<style scoped>\n",
       "    .dataframe tbody tr th:only-of-type {\n",
       "        vertical-align: middle;\n",
       "    }\n",
       "\n",
       "    .dataframe tbody tr th {\n",
       "        vertical-align: top;\n",
       "    }\n",
       "\n",
       "    .dataframe thead th {\n",
       "        text-align: right;\n",
       "    }\n",
       "</style>\n",
       "<table border=\"1\" class=\"dataframe\">\n",
       "  <thead>\n",
       "    <tr style=\"text-align: right;\">\n",
       "      <th></th>\n",
       "      <th>dtpred</th>\n",
       "    </tr>\n",
       "  </thead>\n",
       "  <tbody>\n",
       "    <tr>\n",
       "      <th>1077</th>\n",
       "      <td>No</td>\n",
       "    </tr>\n",
       "    <tr>\n",
       "      <th>1078</th>\n",
       "      <td>No</td>\n",
       "    </tr>\n",
       "    <tr>\n",
       "      <th>1079</th>\n",
       "      <td>No</td>\n",
       "    </tr>\n",
       "    <tr>\n",
       "      <th>1080</th>\n",
       "      <td>No</td>\n",
       "    </tr>\n",
       "    <tr>\n",
       "      <th>1081</th>\n",
       "      <td>No</td>\n",
       "    </tr>\n",
       "  </tbody>\n",
       "</table>\n",
       "</div>"
      ],
      "text/plain": [
       "     dtpred\n",
       "1077     No\n",
       "1078     No\n",
       "1079     No\n",
       "1080     No\n",
       "1081     No"
      ]
     },
     "execution_count": 173,
     "metadata": {},
     "output_type": "execute_result"
    }
   ],
   "source": [
    "test_pred5.columns = ['dtpred']\n",
    "train_pred5.columns = ['dtpred']\n",
    "test_pred5.tail(5)"
   ]
  },
  {
   "cell_type": "code",
   "execution_count": 174,
   "metadata": {},
   "outputs": [],
   "source": [
    "train_pred6=pd.DataFrame(x_pred7)\n",
    "test_pred6= pd.DataFrame(y_pred7)"
   ]
  },
  {
   "cell_type": "code",
   "execution_count": 175,
   "metadata": {},
   "outputs": [
    {
     "data": {
      "text/html": [
       "<div>\n",
       "<style scoped>\n",
       "    .dataframe tbody tr th:only-of-type {\n",
       "        vertical-align: middle;\n",
       "    }\n",
       "\n",
       "    .dataframe tbody tr th {\n",
       "        vertical-align: top;\n",
       "    }\n",
       "\n",
       "    .dataframe thead th {\n",
       "        text-align: right;\n",
       "    }\n",
       "</style>\n",
       "<table border=\"1\" class=\"dataframe\">\n",
       "  <thead>\n",
       "    <tr style=\"text-align: right;\">\n",
       "      <th></th>\n",
       "      <th>XGBMpred</th>\n",
       "    </tr>\n",
       "  </thead>\n",
       "  <tbody>\n",
       "    <tr>\n",
       "      <th>1077</th>\n",
       "      <td>No</td>\n",
       "    </tr>\n",
       "    <tr>\n",
       "      <th>1078</th>\n",
       "      <td>No</td>\n",
       "    </tr>\n",
       "    <tr>\n",
       "      <th>1079</th>\n",
       "      <td>No</td>\n",
       "    </tr>\n",
       "    <tr>\n",
       "      <th>1080</th>\n",
       "      <td>No</td>\n",
       "    </tr>\n",
       "    <tr>\n",
       "      <th>1081</th>\n",
       "      <td>No</td>\n",
       "    </tr>\n",
       "  </tbody>\n",
       "</table>\n",
       "</div>"
      ],
      "text/plain": [
       "     XGBMpred\n",
       "1077       No\n",
       "1078       No\n",
       "1079       No\n",
       "1080       No\n",
       "1081       No"
      ]
     },
     "execution_count": 175,
     "metadata": {},
     "output_type": "execute_result"
    }
   ],
   "source": [
    "test_pred6.columns = ['XGBMpred']\n",
    "train_pred6.columns = ['XGBMpred']\n",
    "test_pred6.tail(5)"
   ]
  },
  {
   "cell_type": "code",
   "execution_count": 176,
   "metadata": {},
   "outputs": [],
   "source": [
    "df_train =pd.concat([train_pred1,train_pred2,train_pred3,train_pred4,train_pred5,train_pred6],axis=1)\n",
    "df_test = pd.concat([test_pred1,test_pred2,test_pred3,test_pred4,test_pred5,test_pred6],axis=1)"
   ]
  },
  {
   "cell_type": "code",
   "execution_count": 177,
   "metadata": {},
   "outputs": [
    {
     "data": {
      "text/html": [
       "<div>\n",
       "<style scoped>\n",
       "    .dataframe tbody tr th:only-of-type {\n",
       "        vertical-align: middle;\n",
       "    }\n",
       "\n",
       "    .dataframe tbody tr th {\n",
       "        vertical-align: top;\n",
       "    }\n",
       "\n",
       "    .dataframe thead th {\n",
       "        text-align: right;\n",
       "    }\n",
       "</style>\n",
       "<table border=\"1\" class=\"dataframe\">\n",
       "  <thead>\n",
       "    <tr style=\"text-align: right;\">\n",
       "      <th></th>\n",
       "      <th>lgpred</th>\n",
       "      <th>svmpred</th>\n",
       "      <th>rfpred</th>\n",
       "      <th>nbpred</th>\n",
       "      <th>dtpred</th>\n",
       "      <th>XGBMpred</th>\n",
       "    </tr>\n",
       "  </thead>\n",
       "  <tbody>\n",
       "    <tr>\n",
       "      <th>7825</th>\n",
       "      <td>Yes</td>\n",
       "      <td>Yes</td>\n",
       "      <td>Yes</td>\n",
       "      <td>Yes</td>\n",
       "      <td>Yes</td>\n",
       "      <td>Yes</td>\n",
       "    </tr>\n",
       "    <tr>\n",
       "      <th>7826</th>\n",
       "      <td>No</td>\n",
       "      <td>No</td>\n",
       "      <td>Yes</td>\n",
       "      <td>No</td>\n",
       "      <td>Yes</td>\n",
       "      <td>Yes</td>\n",
       "    </tr>\n",
       "    <tr>\n",
       "      <th>7827</th>\n",
       "      <td>No</td>\n",
       "      <td>No</td>\n",
       "      <td>Yes</td>\n",
       "      <td>No</td>\n",
       "      <td>Yes</td>\n",
       "      <td>Yes</td>\n",
       "    </tr>\n",
       "    <tr>\n",
       "      <th>7828</th>\n",
       "      <td>Yes</td>\n",
       "      <td>Yes</td>\n",
       "      <td>Yes</td>\n",
       "      <td>Yes</td>\n",
       "      <td>Yes</td>\n",
       "      <td>Yes</td>\n",
       "    </tr>\n",
       "    <tr>\n",
       "      <th>7829</th>\n",
       "      <td>Yes</td>\n",
       "      <td>Yes</td>\n",
       "      <td>Yes</td>\n",
       "      <td>Yes</td>\n",
       "      <td>Yes</td>\n",
       "      <td>Yes</td>\n",
       "    </tr>\n",
       "  </tbody>\n",
       "</table>\n",
       "</div>"
      ],
      "text/plain": [
       "     lgpred svmpred rfpred nbpred dtpred XGBMpred\n",
       "7825    Yes     Yes    Yes    Yes    Yes      Yes\n",
       "7826     No      No    Yes     No    Yes      Yes\n",
       "7827     No      No    Yes     No    Yes      Yes\n",
       "7828    Yes     Yes    Yes    Yes    Yes      Yes\n",
       "7829    Yes     Yes    Yes    Yes    Yes      Yes"
      ]
     },
     "execution_count": 177,
     "metadata": {},
     "output_type": "execute_result"
    }
   ],
   "source": [
    "df_train.tail()"
   ]
  },
  {
   "cell_type": "code",
   "execution_count": 178,
   "metadata": {},
   "outputs": [],
   "source": [
    "cat_cols = ['lgpred','svmpred','rfpred','nbpred','dtpred','XGBMpred']"
   ]
  },
  {
   "cell_type": "code",
   "execution_count": 179,
   "metadata": {},
   "outputs": [],
   "source": [
    "for i in cat_cols:\n",
    "    df_train[i] = df_train[i].astype('category')"
   ]
  },
  {
   "cell_type": "code",
   "execution_count": 180,
   "metadata": {},
   "outputs": [
    {
     "data": {
      "text/plain": [
       "lgpred      category\n",
       "svmpred     category\n",
       "rfpred      category\n",
       "nbpred      category\n",
       "dtpred      category\n",
       "XGBMpred    category\n",
       "dtype: object"
      ]
     },
     "execution_count": 180,
     "metadata": {},
     "output_type": "execute_result"
    }
   ],
   "source": [
    "df_train.dtypes"
   ]
  },
  {
   "cell_type": "code",
   "execution_count": 181,
   "metadata": {},
   "outputs": [],
   "source": [
    "for i in cat_cols:\n",
    "    df_test[i] = df_test[i].astype('category')"
   ]
  },
  {
   "cell_type": "code",
   "execution_count": 182,
   "metadata": {},
   "outputs": [],
   "source": [
    "le=preprocessing.LabelEncoder()\n",
    "lis=['lgpred','svmpred','rfpred','nbpred','dtpred','XGBMpred']"
   ]
  },
  {
   "cell_type": "code",
   "execution_count": 183,
   "metadata": {},
   "outputs": [],
   "source": [
    "for i in cat_cols:\n",
    "    le.fit(df_train[i])\n",
    "    df_train[i]=le.fit_transform(df_train[i])"
   ]
  },
  {
   "cell_type": "code",
   "execution_count": 184,
   "metadata": {},
   "outputs": [],
   "source": [
    "for i in cat_cols:\n",
    "    le.fit(df_test[i])\n",
    "    df_test[i]=le.fit_transform(df_test[i])"
   ]
  },
  {
   "cell_type": "code",
   "execution_count": 185,
   "metadata": {},
   "outputs": [],
   "source": [
    "from sklearn.linear_model import LogisticRegression\n",
    "stmodel = LogisticRegression()"
   ]
  },
  {
   "cell_type": "code",
   "execution_count": 186,
   "metadata": {},
   "outputs": [
    {
     "data": {
      "text/plain": [
       "LogisticRegression(C=1.0, class_weight=None, dual=False, fit_intercept=True,\n",
       "          intercept_scaling=1, max_iter=100, multi_class='warn',\n",
       "          n_jobs=None, penalty='l2', random_state=None, solver='warn',\n",
       "          tol=0.0001, verbose=0, warm_start=False)"
      ]
     },
     "execution_count": 186,
     "metadata": {},
     "output_type": "execute_result"
    }
   ],
   "source": [
    "stmodel.fit(df_train, y_train)"
   ]
  },
  {
   "cell_type": "code",
   "execution_count": 187,
   "metadata": {},
   "outputs": [],
   "source": [
    "y_pred8 = stmodel.predict(df_test)\n",
    "x_pred8= stmodel.predict(df_train)"
   ]
  },
  {
   "cell_type": "code",
   "execution_count": 188,
   "metadata": {},
   "outputs": [
    {
     "name": "stdout",
     "output_type": "stream",
     "text": [
      "0.9767560664112388\n",
      "              precision    recall  f1-score   support\n",
      "\n",
      "          No     0.9995    0.9540    0.9762      3915\n",
      "         Yes     0.9560    0.9995    0.9773      3915\n",
      "\n",
      "   micro avg     0.9768    0.9768    0.9768      7830\n",
      "   macro avg     0.9777    0.9768    0.9767      7830\n",
      "weighted avg     0.9777    0.9768    0.9767      7830\n",
      "\n"
     ]
    }
   ],
   "source": [
    "x_pred9= stmodel.predict(df_train)\n",
    "print(accuracy_score(y_train, x_pred9))\n",
    "print(classification_report(y_train,x_pred9,digits=4))"
   ]
  },
  {
   "cell_type": "code",
   "execution_count": 189,
   "metadata": {},
   "outputs": [
    {
     "name": "stdout",
     "output_type": "stream",
     "text": [
      "0.8909426987060998\n",
      "              precision    recall  f1-score   support\n",
      "\n",
      "          No     0.9708    0.9080    0.9383       989\n",
      "         Yes     0.4204    0.7097    0.5280        93\n",
      "\n",
      "   micro avg     0.8909    0.8909    0.8909      1082\n",
      "   macro avg     0.6956    0.8088    0.7332      1082\n",
      "weighted avg     0.9235    0.8909    0.9031      1082\n",
      "\n"
     ]
    }
   ],
   "source": [
    "y_pred9 = stmodel.predict(df_test)\n",
    "print(accuracy_score(y_test,y_pred9))\n",
    "print(classification_report(y_test,y_pred9,digits=4))"
   ]
  },
  {
   "cell_type": "code",
   "execution_count": null,
   "metadata": {},
   "outputs": [],
   "source": []
  }
 ],
 "metadata": {
  "kernelspec": {
   "display_name": "Python 3",
   "language": "python",
   "name": "python3"
  },
  "language_info": {
   "codemirror_mode": {
    "name": "ipython",
    "version": 3
   },
   "file_extension": ".py",
   "mimetype": "text/x-python",
   "name": "python",
   "nbconvert_exporter": "python",
   "pygments_lexer": "ipython3",
   "version": "3.6.5"
  }
 },
 "nbformat": 4,
 "nbformat_minor": 2
}
